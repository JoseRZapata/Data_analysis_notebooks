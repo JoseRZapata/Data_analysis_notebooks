{
  "cells": [
    {
      "cell_type": "markdown",
      "metadata": {
        "id": "AVfznQKR-I--"
      },
      "source": [
        "# Visualizacion del Coronavirus (COVID19) Mundial con plotly\n",
        "por: Jose R. Zapata - https://joserzapata.github.io/\n",
        "\n",
        "\n",
        "Link: https://joserzapata.github.io/post/covid19-visualizacion/\n",
        "\n",
        "He visto en las redes sociales varias visualizaciones de los datos del COVID 19 y queria realizarlos en Python para tener la actualizacion de las graficas\n",
        "actualizadas cada dia, y ademas practicar el uso de [plotly](https://plotly.com/) para visualizacion interactiva.\n",
        "\n",
        "Las Graficas se actualizaran diariamente con los nuevos datos!\n",
        "\n",
        "Informacion extraida de 2019 Novel Coronavirus COVID-19 (2019-nCoV) Data Repository by Johns Hopkins CSSE\n",
        "\n",
        "https://github.com/CSSEGISandData/COVID-19\n",
        "\n",
        "**Actualizaciones**\n",
        "- 25/May/2020 agregar datos de personas recuperadas\n",
        "- 29/May/2020 actualizacion a plotly 0.48\n",
        "- 25/Sep/2020 Mapa Mundial de Confirmados por Pais con choropleth\n",
        "- 24/Nov/2022 Top 10 progresion paises\n",
        "- 21/Oct/2023 actualizar graficas y librerias"
      ]
    },
    {
      "cell_type": "markdown",
      "metadata": {
        "id": "l8tbwHgTf71J"
      },
      "source": [
        "[![Open In Colab](https://colab.research.google.com/assets/colab-badge.svg)](https://colab.research.google.com/github/JoseRZapata/JoseRZapata.github.io/blob/master/Jupyter_Notebook/Covid19_Visualizacion_es.ipynb) [![Binder](https://mybinder.org/badge_logo.svg)](https://mybinder.org/v2/gh/JoseRZapata/JoseRZapata.github.io/master?filepath=Jupyter_Notebook/Covid19_Visualizacion_es.ipynb)  [![nbviewer](https://img.shields.io/badge/render-nbviewer-orange.svg)](https://nbviewer.jupyter.org/github/JoseRZapata/JoseRZapata.github.io/blob/master/Jupyter_Notebook/Covid19_Visualizacion_es.ipynb)"
      ]
    },
    {
      "cell_type": "code",
      "execution_count": 1,
      "metadata": {
        "id": "Fx_yb96YHeOb"
      },
      "outputs": [],
      "source": [
        "import pandas as pd\n",
        "import plotly.express as px\n",
        "import numpy as np\n",
        "\n",
        "#!pip install chart_studio -q\n",
        "import chart_studio"
      ]
    },
    {
      "cell_type": "code",
      "execution_count": 2,
      "metadata": {},
      "outputs": [
        {
          "name": "stdout",
          "output_type": "stream",
          "text": [
            "pandas version:  2.1.1\n",
            "numpy version:  1.26.0\n"
          ]
        }
      ],
      "source": [
        "#print pandas, px an numpy version\n",
        "print('pandas version: ', pd.__version__)\n",
        "print('numpy version: ', np.__version__)"
      ]
    },
    {
      "cell_type": "code",
      "execution_count": 3,
      "metadata": {
        "id": "Ihyj4DOWzcdo",
        "tags": []
      },
      "outputs": [],
      "source": [
        "# Leer archivo con los datos de acceso a chart_studio\n",
        "# si no esta, dejar los campos vacios\n",
        "try:\n",
        "    with open(\"../../info_chart.csv\",\"r\") as f:\n",
        "        info_user = f.read().split(\";\")\n",
        "        username = info_user[0] # your username\n",
        "        api_key = info_user[1] # your api key\n",
        "        print('api_key loaded!')\n",
        "except:\n",
        "    username = '' # your username\n",
        "    api_key =''\n",
        "\n",
        "if api_key: chart_studio.tools.set_credentials_file(username=username, api_key=api_key)\n",
        "import chart_studio.plotly as py"
      ]
    },
    {
      "cell_type": "code",
      "execution_count": 4,
      "metadata": {
        "id": "lT7Dgoqy-YQA"
      },
      "outputs": [],
      "source": [
        "# Leer datos\n",
        "\n",
        "# los datos de personas recuperadas no eran confiables entonces ya solo se tienen los datos de confirmados y muertos\n",
        "\n",
        "confirmed = pd.read_csv('https://github.com/CSSEGISandData/COVID-19/raw/master/csse_covid_19_data/csse_covid_19_time_series/time_series_covid19_confirmed_global.csv')\n",
        "death = pd.read_csv('https://github.com/CSSEGISandData/COVID-19/raw/master/csse_covid_19_data/csse_covid_19_time_series/time_series_covid19_deaths_global.csv')\n",
        "recovered = pd.read_csv('https://github.com/CSSEGISandData/COVID-19/raw/master/csse_covid_19_data/csse_covid_19_time_series/time_series_covid19_recovered_global.csv')\n"
      ]
    },
    {
      "cell_type": "markdown",
      "metadata": {
        "id": "1nocx9xeA5UY"
      },
      "source": [
        "## Datos CSSEGISandData/COVID-19\n",
        "\n",
        "Descripcion de los datos\n",
        "\n",
        "**Province/State:** China - province name; US/Canada/Australia/ - city name, state/province name; Others - name of the event (e.g., \"Diamond Princess\" cruise ship); other countries - blank.\n",
        "\n",
        "**Country/Region:** country/region name conforming to WHO (will be updated).\n",
        "\n",
        "**Last Update:** MM/DD/YYYY HH:mm (24 hour format, in UTC).\n",
        "\n",
        "**Confirmed: **the number of confirmed cases. For Hubei Province: from Feb 13 (GMT +8), we report both clinically diagnosed and lab-confirmed cases. For lab-confirmed cases only (Before Feb 17), please refer to who_covid_19_situation_reports. For Italy, diagnosis standard might be changed since Feb 27 to \"slow the growth of new case numbers.\"\n",
        "\n",
        "**Deaths:** the number of deaths.\n",
        "\n",
        "**Recovered:** the number of recovered cases."
      ]
    },
    {
      "cell_type": "code",
      "execution_count": 5,
      "metadata": {
        "id": "fTZI2C13_rsQ"
      },
      "outputs": [
        {
          "data": {
            "text/html": [
              "<div>\n",
              "<style scoped>\n",
              "    .dataframe tbody tr th:only-of-type {\n",
              "        vertical-align: middle;\n",
              "    }\n",
              "\n",
              "    .dataframe tbody tr th {\n",
              "        vertical-align: top;\n",
              "    }\n",
              "\n",
              "    .dataframe thead th {\n",
              "        text-align: right;\n",
              "    }\n",
              "</style>\n",
              "<table border=\"1\" class=\"dataframe\">\n",
              "  <thead>\n",
              "    <tr style=\"text-align: right;\">\n",
              "      <th></th>\n",
              "      <th>Province/State</th>\n",
              "      <th>Country/Region</th>\n",
              "      <th>Lat</th>\n",
              "      <th>Long</th>\n",
              "      <th>1/22/20</th>\n",
              "      <th>1/23/20</th>\n",
              "      <th>1/24/20</th>\n",
              "      <th>1/25/20</th>\n",
              "    </tr>\n",
              "  </thead>\n",
              "  <tbody>\n",
              "    <tr>\n",
              "      <th>0</th>\n",
              "      <td>NaN</td>\n",
              "      <td>Afghanistan</td>\n",
              "      <td>33.93911</td>\n",
              "      <td>67.709953</td>\n",
              "      <td>0</td>\n",
              "      <td>0</td>\n",
              "      <td>0</td>\n",
              "      <td>0</td>\n",
              "    </tr>\n",
              "    <tr>\n",
              "      <th>1</th>\n",
              "      <td>NaN</td>\n",
              "      <td>Albania</td>\n",
              "      <td>41.15330</td>\n",
              "      <td>20.168300</td>\n",
              "      <td>0</td>\n",
              "      <td>0</td>\n",
              "      <td>0</td>\n",
              "      <td>0</td>\n",
              "    </tr>\n",
              "    <tr>\n",
              "      <th>2</th>\n",
              "      <td>NaN</td>\n",
              "      <td>Algeria</td>\n",
              "      <td>28.03390</td>\n",
              "      <td>1.659600</td>\n",
              "      <td>0</td>\n",
              "      <td>0</td>\n",
              "      <td>0</td>\n",
              "      <td>0</td>\n",
              "    </tr>\n",
              "    <tr>\n",
              "      <th>3</th>\n",
              "      <td>NaN</td>\n",
              "      <td>Andorra</td>\n",
              "      <td>42.50630</td>\n",
              "      <td>1.521800</td>\n",
              "      <td>0</td>\n",
              "      <td>0</td>\n",
              "      <td>0</td>\n",
              "      <td>0</td>\n",
              "    </tr>\n",
              "    <tr>\n",
              "      <th>4</th>\n",
              "      <td>NaN</td>\n",
              "      <td>Angola</td>\n",
              "      <td>-11.20270</td>\n",
              "      <td>17.873900</td>\n",
              "      <td>0</td>\n",
              "      <td>0</td>\n",
              "      <td>0</td>\n",
              "      <td>0</td>\n",
              "    </tr>\n",
              "  </tbody>\n",
              "</table>\n",
              "</div>"
            ],
            "text/plain": [
              "  Province/State Country/Region       Lat       Long  1/22/20  1/23/20  \\\n",
              "0            NaN    Afghanistan  33.93911  67.709953        0        0   \n",
              "1            NaN        Albania  41.15330  20.168300        0        0   \n",
              "2            NaN        Algeria  28.03390   1.659600        0        0   \n",
              "3            NaN        Andorra  42.50630   1.521800        0        0   \n",
              "4            NaN         Angola -11.20270  17.873900        0        0   \n",
              "\n",
              "   1/24/20  1/25/20  \n",
              "0        0        0  \n",
              "1        0        0  \n",
              "2        0        0  \n",
              "3        0        0  \n",
              "4        0        0  "
            ]
          },
          "execution_count": 5,
          "metadata": {},
          "output_type": "execute_result"
        }
      ],
      "source": [
        "confirmed.iloc[:5,:8]"
      ]
    },
    {
      "cell_type": "markdown",
      "metadata": {
        "id": "N2E7F_J4BqN-"
      },
      "source": [
        "## Datos Generales de cada Dataframe"
      ]
    },
    {
      "cell_type": "code",
      "execution_count": 6,
      "metadata": {
        "id": "dKDC24PCCGjq"
      },
      "outputs": [
        {
          "name": "stdout",
          "output_type": "stream",
          "text": [
            "<class 'pandas.core.frame.DataFrame'>\n",
            "RangeIndex: 289 entries, 0 to 288\n",
            "Columns: 1147 entries, Province/State to 3/9/23\n",
            "dtypes: float64(2), int64(1143), object(2)\n",
            "memory usage: 2.5+ MB\n"
          ]
        }
      ],
      "source": [
        "confirmed.info()"
      ]
    },
    {
      "cell_type": "markdown",
      "metadata": {},
      "source": [
        "Paises con multiples datos por Provincia/Estado"
      ]
    },
    {
      "cell_type": "code",
      "execution_count": 7,
      "metadata": {},
      "outputs": [
        {
          "name": "stdout",
          "output_type": "stream",
          "text": [
            "['Australia' 'Canada' 'China' 'Denmark' 'France' 'Netherlands'\n",
            " 'New Zealand' 'United Kingdom']\n"
          ]
        }
      ],
      "source": [
        "print(confirmed\n",
        "      .loc[confirmed['Country/Region'].duplicated(keep=False),\n",
        "           'Country/Region']\n",
        "      .drop_duplicates()\n",
        "      .unique()\n",
        "    )"
      ]
    },
    {
      "cell_type": "markdown",
      "metadata": {},
      "source": [
        "Sumar los datos de cada pais"
      ]
    },
    {
      "cell_type": "code",
      "execution_count": 8,
      "metadata": {},
      "outputs": [],
      "source": [
        "def sumar_datos_region(df: pd.DataFrame) -> pd.DataFrame:\n",
        "    \"\"\"\n",
        "    Suma los datos de cada región en el dataframe dado.\n",
        "    Args:\n",
        "        df (pd.DataFrame): El dataframe del cual se sumarán los datos.\n",
        "    Returns:\n",
        "        pd.DataFrame: Un nuevo dataframe con los datos sumados para cada región.\n",
        "    \"\"\"\n",
        "    df = (df.groupby(['Country/Region'])\n",
        "          .sum()\n",
        "          .reset_index())\n",
        "    return df\n",
        "\n",
        "# aplicar la funcion a los tres dataframes\n",
        "confirmed, death, recovered = (sumar_datos_region(df) \n",
        "                               for df \n",
        "                               in (confirmed, death, recovered))"
      ]
    },
    {
      "cell_type": "markdown",
      "metadata": {},
      "source": [
        "Country/Region como indice de los dataframes"
      ]
    },
    {
      "cell_type": "code",
      "execution_count": 9,
      "metadata": {},
      "outputs": [],
      "source": [
        "\n",
        "confirmed, death, recovered = (df.set_index('Country/Region') \n",
        "                               for df \n",
        "                               in (confirmed, death, recovered))"
      ]
    },
    {
      "cell_type": "markdown",
      "metadata": {
        "id": "Vh7JPE-MChF2"
      },
      "source": [
        "### Eliminar Ubicacion\n",
        "\n",
        "Se va realizar un analisis general de los datos y No se van a tomar los datos geograficos de *latitud*, *longitud* y los datos de *Province/State* estan incompletos.\n",
        "\n",
        "Solo se realizara un analisis por pais entonces se eliminaran las columnas mencionadas anteriormenten de cada dataframe.\n"
      ]
    },
    {
      "cell_type": "code",
      "execution_count": 10,
      "metadata": {
        "id": "bnNhCaqKDdmC"
      },
      "outputs": [],
      "source": [
        "confirmed, death, recovered = (df.drop(columns=['Lat',\n",
        "                                                'Long',\n",
        "                                                'Province/State']) \n",
        "                               for df \n",
        "                               in (confirmed, death, recovered))"
      ]
    },
    {
      "cell_type": "markdown",
      "metadata": {},
      "source": [
        "### Datos de Personas Recuperadas"
      ]
    },
    {
      "cell_type": "code",
      "execution_count": 11,
      "metadata": {},
      "outputs": [
        {
          "data": {
            "application/vnd.plotly.v1+json": {
              "config": {
                "plotlyServerURL": "https://plotly.com"
              },
              "data": [
                {
                  "hovertemplate": "x=%{x}<br>y=%{y}<extra></extra>",
                  "legendgroup": "",
                  "line": {
                    "color": "#636efa",
                    "dash": "solid"
                  },
                  "marker": {
                    "symbol": "circle"
                  },
                  "mode": "lines",
                  "name": "",
                  "orientation": "v",
                  "showlegend": false,
                  "type": "scatter",
                  "x": [
                    "1/22/20",
                    "1/23/20",
                    "1/24/20",
                    "1/25/20",
                    "1/26/20",
                    "1/27/20",
                    "1/28/20",
                    "1/29/20",
                    "1/30/20",
                    "1/31/20",
                    "2/1/20",
                    "2/2/20",
                    "2/3/20",
                    "2/4/20",
                    "2/5/20",
                    "2/6/20",
                    "2/7/20",
                    "2/8/20",
                    "2/9/20",
                    "2/10/20",
                    "2/11/20",
                    "2/12/20",
                    "2/13/20",
                    "2/14/20",
                    "2/15/20",
                    "2/16/20",
                    "2/17/20",
                    "2/18/20",
                    "2/19/20",
                    "2/20/20",
                    "2/21/20",
                    "2/22/20",
                    "2/23/20",
                    "2/24/20",
                    "2/25/20",
                    "2/26/20",
                    "2/27/20",
                    "2/28/20",
                    "2/29/20",
                    "3/1/20",
                    "3/2/20",
                    "3/3/20",
                    "3/4/20",
                    "3/5/20",
                    "3/6/20",
                    "3/7/20",
                    "3/8/20",
                    "3/9/20",
                    "3/10/20",
                    "3/11/20",
                    "3/12/20",
                    "3/13/20",
                    "3/14/20",
                    "3/15/20",
                    "3/16/20",
                    "3/17/20",
                    "3/18/20",
                    "3/19/20",
                    "3/20/20",
                    "3/21/20",
                    "3/22/20",
                    "3/23/20",
                    "3/24/20",
                    "3/25/20",
                    "3/26/20",
                    "3/27/20",
                    "3/28/20",
                    "3/29/20",
                    "3/30/20",
                    "3/31/20",
                    "4/1/20",
                    "4/2/20",
                    "4/3/20",
                    "4/4/20",
                    "4/5/20",
                    "4/6/20",
                    "4/7/20",
                    "4/8/20",
                    "4/9/20",
                    "4/10/20",
                    "4/11/20",
                    "4/12/20",
                    "4/13/20",
                    "4/14/20",
                    "4/15/20",
                    "4/16/20",
                    "4/17/20",
                    "4/18/20",
                    "4/19/20",
                    "4/20/20",
                    "4/21/20",
                    "4/22/20",
                    "4/23/20",
                    "4/24/20",
                    "4/25/20",
                    "4/26/20",
                    "4/27/20",
                    "4/28/20",
                    "4/29/20",
                    "4/30/20",
                    "5/1/20",
                    "5/2/20",
                    "5/3/20",
                    "5/4/20",
                    "5/5/20",
                    "5/6/20",
                    "5/7/20",
                    "5/8/20",
                    "5/9/20",
                    "5/10/20",
                    "5/11/20",
                    "5/12/20",
                    "5/13/20",
                    "5/14/20",
                    "5/15/20",
                    "5/16/20",
                    "5/17/20",
                    "5/18/20",
                    "5/19/20",
                    "5/20/20",
                    "5/21/20",
                    "5/22/20",
                    "5/23/20",
                    "5/24/20",
                    "5/25/20",
                    "5/26/20",
                    "5/27/20",
                    "5/28/20",
                    "5/29/20",
                    "5/30/20",
                    "5/31/20",
                    "6/1/20",
                    "6/2/20",
                    "6/3/20",
                    "6/4/20",
                    "6/5/20",
                    "6/6/20",
                    "6/7/20",
                    "6/8/20",
                    "6/9/20",
                    "6/10/20",
                    "6/11/20",
                    "6/12/20",
                    "6/13/20",
                    "6/14/20",
                    "6/15/20",
                    "6/16/20",
                    "6/17/20",
                    "6/18/20",
                    "6/19/20",
                    "6/20/20",
                    "6/21/20",
                    "6/22/20",
                    "6/23/20",
                    "6/24/20",
                    "6/25/20",
                    "6/26/20",
                    "6/27/20",
                    "6/28/20",
                    "6/29/20",
                    "6/30/20",
                    "7/1/20",
                    "7/2/20",
                    "7/3/20",
                    "7/4/20",
                    "7/5/20",
                    "7/6/20",
                    "7/7/20",
                    "7/8/20",
                    "7/9/20",
                    "7/10/20",
                    "7/11/20",
                    "7/12/20",
                    "7/13/20",
                    "7/14/20",
                    "7/15/20",
                    "7/16/20",
                    "7/17/20",
                    "7/18/20",
                    "7/19/20",
                    "7/20/20",
                    "7/21/20",
                    "7/22/20",
                    "7/23/20",
                    "7/24/20",
                    "7/25/20",
                    "7/26/20",
                    "7/27/20",
                    "7/28/20",
                    "7/29/20",
                    "7/30/20",
                    "7/31/20",
                    "8/1/20",
                    "8/2/20",
                    "8/3/20",
                    "8/4/20",
                    "8/5/20",
                    "8/6/20",
                    "8/7/20",
                    "8/8/20",
                    "8/9/20",
                    "8/10/20",
                    "8/11/20",
                    "8/12/20",
                    "8/13/20",
                    "8/14/20",
                    "8/15/20",
                    "8/16/20",
                    "8/17/20",
                    "8/18/20",
                    "8/19/20",
                    "8/20/20",
                    "8/21/20",
                    "8/22/20",
                    "8/23/20",
                    "8/24/20",
                    "8/25/20",
                    "8/26/20",
                    "8/27/20",
                    "8/28/20",
                    "8/29/20",
                    "8/30/20",
                    "8/31/20",
                    "9/1/20",
                    "9/2/20",
                    "9/3/20",
                    "9/4/20",
                    "9/5/20",
                    "9/6/20",
                    "9/7/20",
                    "9/8/20",
                    "9/9/20",
                    "9/10/20",
                    "9/11/20",
                    "9/12/20",
                    "9/13/20",
                    "9/14/20",
                    "9/15/20",
                    "9/16/20",
                    "9/17/20",
                    "9/18/20",
                    "9/19/20",
                    "9/20/20",
                    "9/21/20",
                    "9/22/20",
                    "9/23/20",
                    "9/24/20",
                    "9/25/20",
                    "9/26/20",
                    "9/27/20",
                    "9/28/20",
                    "9/29/20",
                    "9/30/20",
                    "10/1/20",
                    "10/2/20",
                    "10/3/20",
                    "10/4/20",
                    "10/5/20",
                    "10/6/20",
                    "10/7/20",
                    "10/8/20",
                    "10/9/20",
                    "10/10/20",
                    "10/11/20",
                    "10/12/20",
                    "10/13/20",
                    "10/14/20",
                    "10/15/20",
                    "10/16/20",
                    "10/17/20",
                    "10/18/20",
                    "10/19/20",
                    "10/20/20",
                    "10/21/20",
                    "10/22/20",
                    "10/23/20",
                    "10/24/20",
                    "10/25/20",
                    "10/26/20",
                    "10/27/20",
                    "10/28/20",
                    "10/29/20",
                    "10/30/20",
                    "10/31/20",
                    "11/1/20",
                    "11/2/20",
                    "11/3/20",
                    "11/4/20",
                    "11/5/20",
                    "11/6/20",
                    "11/7/20",
                    "11/8/20",
                    "11/9/20",
                    "11/10/20",
                    "11/11/20",
                    "11/12/20",
                    "11/13/20",
                    "11/14/20",
                    "11/15/20",
                    "11/16/20",
                    "11/17/20",
                    "11/18/20",
                    "11/19/20",
                    "11/20/20",
                    "11/21/20",
                    "11/22/20",
                    "11/23/20",
                    "11/24/20",
                    "11/25/20",
                    "11/26/20",
                    "11/27/20",
                    "11/28/20",
                    "11/29/20",
                    "11/30/20",
                    "12/1/20",
                    "12/2/20",
                    "12/3/20",
                    "12/4/20",
                    "12/5/20",
                    "12/6/20",
                    "12/7/20",
                    "12/8/20",
                    "12/9/20",
                    "12/10/20",
                    "12/11/20",
                    "12/12/20",
                    "12/13/20",
                    "12/14/20",
                    "12/15/20",
                    "12/16/20",
                    "12/17/20",
                    "12/18/20",
                    "12/19/20",
                    "12/20/20",
                    "12/21/20",
                    "12/22/20",
                    "12/23/20",
                    "12/24/20",
                    "12/25/20",
                    "12/26/20",
                    "12/27/20",
                    "12/28/20",
                    "12/29/20",
                    "12/30/20",
                    "12/31/20",
                    "1/1/21",
                    "1/2/21",
                    "1/3/21",
                    "1/4/21",
                    "1/5/21",
                    "1/6/21",
                    "1/7/21",
                    "1/8/21",
                    "1/9/21",
                    "1/10/21",
                    "1/11/21",
                    "1/12/21",
                    "1/13/21",
                    "1/14/21",
                    "1/15/21",
                    "1/16/21",
                    "1/17/21",
                    "1/18/21",
                    "1/19/21",
                    "1/20/21",
                    "1/21/21",
                    "1/22/21",
                    "1/23/21",
                    "1/24/21",
                    "1/25/21",
                    "1/26/21",
                    "1/27/21",
                    "1/28/21",
                    "1/29/21",
                    "1/30/21",
                    "1/31/21",
                    "2/1/21",
                    "2/2/21",
                    "2/3/21",
                    "2/4/21",
                    "2/5/21",
                    "2/6/21",
                    "2/7/21",
                    "2/8/21",
                    "2/9/21",
                    "2/10/21",
                    "2/11/21",
                    "2/12/21",
                    "2/13/21",
                    "2/14/21",
                    "2/15/21",
                    "2/16/21",
                    "2/17/21",
                    "2/18/21",
                    "2/19/21",
                    "2/20/21",
                    "2/21/21",
                    "2/22/21",
                    "2/23/21",
                    "2/24/21",
                    "2/25/21",
                    "2/26/21",
                    "2/27/21",
                    "2/28/21",
                    "3/1/21",
                    "3/2/21",
                    "3/3/21",
                    "3/4/21",
                    "3/5/21",
                    "3/6/21",
                    "3/7/21",
                    "3/8/21",
                    "3/9/21",
                    "3/10/21",
                    "3/11/21",
                    "3/12/21",
                    "3/13/21",
                    "3/14/21",
                    "3/15/21",
                    "3/16/21",
                    "3/17/21",
                    "3/18/21",
                    "3/19/21",
                    "3/20/21",
                    "3/21/21",
                    "3/22/21",
                    "3/23/21",
                    "3/24/21",
                    "3/25/21",
                    "3/26/21",
                    "3/27/21",
                    "3/28/21",
                    "3/29/21",
                    "3/30/21",
                    "3/31/21",
                    "4/1/21",
                    "4/2/21",
                    "4/3/21",
                    "4/4/21",
                    "4/5/21",
                    "4/6/21",
                    "4/7/21",
                    "4/8/21",
                    "4/9/21",
                    "4/10/21",
                    "4/11/21",
                    "4/12/21",
                    "4/13/21",
                    "4/14/21",
                    "4/15/21",
                    "4/16/21",
                    "4/17/21",
                    "4/18/21",
                    "4/19/21",
                    "4/20/21",
                    "4/21/21",
                    "4/22/21",
                    "4/23/21",
                    "4/24/21",
                    "4/25/21",
                    "4/26/21",
                    "4/27/21",
                    "4/28/21",
                    "4/29/21",
                    "4/30/21",
                    "5/1/21",
                    "5/2/21",
                    "5/3/21",
                    "5/4/21",
                    "5/5/21",
                    "5/6/21",
                    "5/7/21",
                    "5/8/21",
                    "5/9/21",
                    "5/10/21",
                    "5/11/21",
                    "5/12/21",
                    "5/13/21",
                    "5/14/21",
                    "5/15/21",
                    "5/16/21",
                    "5/17/21",
                    "5/18/21",
                    "5/19/21",
                    "5/20/21",
                    "5/21/21",
                    "5/22/21",
                    "5/23/21",
                    "5/24/21",
                    "5/25/21",
                    "5/26/21",
                    "5/27/21",
                    "5/28/21",
                    "5/29/21",
                    "5/30/21",
                    "5/31/21",
                    "6/1/21",
                    "6/2/21",
                    "6/3/21",
                    "6/4/21",
                    "6/5/21",
                    "6/6/21",
                    "6/7/21",
                    "6/8/21",
                    "6/9/21",
                    "6/10/21",
                    "6/11/21",
                    "6/12/21",
                    "6/13/21",
                    "6/14/21",
                    "6/15/21",
                    "6/16/21",
                    "6/17/21",
                    "6/18/21",
                    "6/19/21",
                    "6/20/21",
                    "6/21/21",
                    "6/22/21",
                    "6/23/21",
                    "6/24/21",
                    "6/25/21",
                    "6/26/21",
                    "6/27/21",
                    "6/28/21",
                    "6/29/21",
                    "6/30/21",
                    "7/1/21",
                    "7/2/21",
                    "7/3/21",
                    "7/4/21",
                    "7/5/21",
                    "7/6/21",
                    "7/7/21",
                    "7/8/21",
                    "7/9/21",
                    "7/10/21",
                    "7/11/21",
                    "7/12/21",
                    "7/13/21",
                    "7/14/21",
                    "7/15/21",
                    "7/16/21",
                    "7/17/21",
                    "7/18/21",
                    "7/19/21",
                    "7/20/21",
                    "7/21/21",
                    "7/22/21",
                    "7/23/21",
                    "7/24/21",
                    "7/25/21",
                    "7/26/21",
                    "7/27/21",
                    "7/28/21",
                    "7/29/21",
                    "7/30/21",
                    "7/31/21",
                    "8/1/21",
                    "8/2/21",
                    "8/3/21",
                    "8/4/21",
                    "8/5/21",
                    "8/6/21",
                    "8/7/21",
                    "8/8/21",
                    "8/9/21",
                    "8/10/21",
                    "8/11/21",
                    "8/12/21",
                    "8/13/21",
                    "8/14/21",
                    "8/15/21"
                  ],
                  "xaxis": "x",
                  "y": [
                    30,
                    32,
                    39,
                    42,
                    56,
                    65,
                    108,
                    127,
                    145,
                    225,
                    287,
                    476,
                    627,
                    857,
                    1130,
                    1493,
                    2016,
                    2617,
                    3247,
                    3949,
                    4684,
                    5151,
                    6294,
                    8061,
                    9397,
                    10867,
                    12587,
                    14352,
                    16123,
                    18181,
                    18894,
                    22892,
                    23397,
                    25229,
                    27907,
                    30388,
                    33282,
                    36714,
                    39785,
                    42721,
                    45605,
                    48227,
                    51170,
                    53796,
                    55864,
                    58358,
                    60695,
                    62495,
                    64402,
                    66999,
                    68328,
                    70255,
                    72622,
                    76031,
                    78086,
                    80830,
                    83317,
                    84958,
                    87403,
                    91650,
                    97867,
                    98355,
                    107974,
                    113753,
                    122125,
                    130910,
                    139421,
                    148877,
                    164213,
                    177803,
                    193075,
                    210218,
                    225640,
                    246052,
                    259888,
                    276597,
                    299859,
                    328741,
                    353995,
                    375733,
                    401983,
                    421366,
                    448623,
                    473697,
                    510236,
                    541119,
                    567303,
                    591169,
                    622952,
                    645130,
                    679932,
                    710017,
                    738747,
                    788776,
                    816531,
                    845343,
                    873227,
                    906439,
                    948516,
                    1013632,
                    1051789,
                    1092440,
                    1124973,
                    1159059,
                    1195532,
                    1241651,
                    1281176,
                    1317589,
                    1371030,
                    1404839,
                    1451724,
                    1488766,
                    1544638,
                    1584349,
                    1632452,
                    1688863,
                    1729871,
                    1782787,
                    1834839,
                    1893809,
                    1945029,
                    2053576,
                    2108410,
                    2163937,
                    2227666,
                    2282818,
                    2346145,
                    2413008,
                    2490273,
                    2560723,
                    2637107,
                    2692032,
                    2796144,
                    2875235,
                    2945305,
                    3014470,
                    3086674,
                    3141783,
                    3293394,
                    3375664,
                    3454835,
                    3540714,
                    3620434,
                    3706326,
                    3777145,
                    3857420,
                    3955283,
                    4074114,
                    4155277,
                    4250267,
                    4366121,
                    4434807,
                    4526440,
                    4630495,
                    4746246,
                    4839130,
                    4945110,
                    5051396,
                    5140599,
                    5235170,
                    5352510,
                    5468424,
                    5753358,
                    5863246,
                    6059006,
                    6178369,
                    6302068,
                    6447101,
                    6605157,
                    6739775,
                    6879221,
                    7004913,
                    7116749,
                    7257072,
                    7399324,
                    7559130,
                    7711615,
                    7895036,
                    8045823,
                    8133881,
                    8293009,
                    8467705,
                    8647437,
                    8823667,
                    9051967,
                    9271779,
                    9415080,
                    9586463,
                    9756921,
                    9959507,
                    10173026,
                    10372632,
                    10553543,
                    10692267,
                    10914712,
                    11138369,
                    11360064,
                    11548871,
                    11740917,
                    11941161,
                    12119939,
                    12284150,
                    12589218,
                    12829863,
                    12993779,
                    13277021,
                    13445625,
                    13678579,
                    13889591,
                    14117186,
                    14335183,
                    14542973,
                    14711467,
                    14921384,
                    15137915,
                    15337336,
                    15568885,
                    15794619,
                    16001856,
                    16200974,
                    16412387,
                    16622627,
                    16823417,
                    17081379,
                    17300616,
                    17521985,
                    17735486,
                    17936474,
                    18148265,
                    18345813,
                    18547610,
                    18787877,
                    19004538,
                    19228208,
                    19451142,
                    19638990,
                    19867489,
                    20093776,
                    20323253,
                    20543464,
                    20794613,
                    21031598,
                    21268675,
                    21514153,
                    21733546,
                    21996959,
                    22252629,
                    22491837,
                    22753980,
                    22967859,
                    23190401,
                    23431685,
                    23679903,
                    23901445,
                    24073730,
                    24329331,
                    24551490,
                    24788958,
                    25021584,
                    25276775,
                    25496281,
                    25703071,
                    25898476,
                    26121116,
                    26321235,
                    26513680,
                    26725965,
                    26933292,
                    27136306,
                    27334589,
                    27536100,
                    27738631,
                    27950078,
                    28161300,
                    28388093,
                    28594827,
                    28806408,
                    29003666,
                    29242801,
                    29832506,
                    30098468,
                    30345219,
                    30600993,
                    30845322,
                    31103269,
                    31383406,
                    31634979,
                    31914298,
                    32217953,
                    32506314,
                    32805330,
                    33058570,
                    33315623,
                    33572983,
                    33953207,
                    34179446,
                    34481578,
                    34759397,
                    34990157,
                    35380887,
                    35814478,
                    36177588,
                    36551887,
                    36907311,
                    37246581,
                    37520305,
                    37931518,
                    38303697,
                    38741107,
                    39107983,
                    39489609,
                    39849315,
                    40167598,
                    40569854,
                    41046058,
                    41508984,
                    41935968,
                    42426585,
                    42862533,
                    43178577,
                    43591716,
                    44032487,
                    44458967,
                    44950193,
                    45428333,
                    46933276,
                    47328395,
                    41338398,
                    41696562,
                    42058782,
                    42434191,
                    42751919,
                    43103505,
                    43380334,
                    43723554,
                    44086739,
                    44410879,
                    44725551,
                    45017157,
                    45425321,
                    45717709,
                    46016135,
                    46369230,
                    46757475,
                    47055807,
                    47359111,
                    47614296,
                    47882778,
                    48173186,
                    48488547,
                    48801672,
                    49125603,
                    49422866,
                    49753111,
                    50023661,
                    50313949,
                    50657506,
                    51023567,
                    51396412,
                    51717034,
                    52034089,
                    52349804,
                    52668557,
                    53071501,
                    53399272,
                    53765411,
                    54147168,
                    54463661,
                    54774618,
                    55089059,
                    55418602,
                    55759371,
                    56075030,
                    56439137,
                    56790303,
                    57079202,
                    57351844,
                    57702034,
                    58031881,
                    58325870,
                    58607157,
                    58901714,
                    59179149,
                    59411983,
                    59783591,
                    60052899,
                    60328984,
                    60616583,
                    60862826,
                    61058257,
                    61346870,
                    61582275,
                    61876216,
                    62112834,
                    62347470,
                    62616686,
                    62833943,
                    63016513,
                    63295143,
                    63504602,
                    63732294,
                    63992562,
                    64243284,
                    64418461,
                    64633387,
                    64903491,
                    65132899,
                    65383179,
                    65609539,
                    65846042,
                    66084362,
                    66358920,
                    66621153,
                    66856509,
                    67129126,
                    67397682,
                    67650214,
                    67895902,
                    68185781,
                    68452266,
                    68716802,
                    68985878,
                    69264939,
                    69523150,
                    69803249,
                    70137878,
                    70451020,
                    70786662,
                    71098479,
                    71463065,
                    71768318,
                    72097106,
                    72401542,
                    72736785,
                    73119294,
                    73464080,
                    73784287,
                    74150288,
                    74498476,
                    74846289,
                    75216285,
                    75699590,
                    76094849,
                    76548562,
                    76933556,
                    77464028,
                    77858760,
                    78345222,
                    78792112,
                    79236514,
                    79740631,
                    80259167,
                    80839358,
                    81374733,
                    81979570,
                    82491870,
                    83128166,
                    83767998,
                    84344289,
                    84878103,
                    85565469,
                    86246373,
                    86843038,
                    87550354,
                    88236950,
                    88919400,
                    89612414,
                    90255903,
                    90912803,
                    91626285,
                    92301897,
                    92998026,
                    93709031,
                    94371824,
                    95000510,
                    95751514,
                    96399063,
                    97089180,
                    97754527,
                    98397064,
                    99064468,
                    99808930,
                    100552043,
                    101250070,
                    101886759,
                    102501547,
                    103118308,
                    103620279,
                    104247871,
                    104824934,
                    105380747,
                    106078105,
                    106633068,
                    107140668,
                    107630597,
                    108159766,
                    108743649,
                    109272023,
                    109701213,
                    110226715,
                    110704845,
                    111146371,
                    111568368,
                    111983104,
                    112435799,
                    112849488,
                    113225020,
                    113563994,
                    113993655,
                    114340429,
                    114800574,
                    115149801,
                    115530279,
                    115849842,
                    116181692,
                    116446786,
                    116804004,
                    117107408,
                    117507151,
                    117796862,
                    118125509,
                    118420068,
                    118678807,
                    119006263,
                    119299679,
                    119580620,
                    120008476,
                    120299518,
                    120569293,
                    120868181,
                    121235174,
                    121563017,
                    121831180,
                    122123831,
                    122462949,
                    122907153,
                    123197639,
                    123499875,
                    123783322,
                    124113063,
                    124394119,
                    124784824,
                    125065613,
                    125382096,
                    125688817,
                    126008997,
                    126315580,
                    126671708,
                    126918098,
                    127435324,
                    127762741,
                    128063201,
                    128409040,
                    128745703,
                    129094091,
                    129401282,
                    129705211,
                    129994389,
                    130277533,
                    130582001,
                    130899061,
                    0,
                    0,
                    0,
                    0,
                    0,
                    0,
                    0,
                    0,
                    0,
                    0,
                    0
                  ],
                  "yaxis": "y"
                }
              ],
              "layout": {
                "legend": {
                  "tracegroupgap": 0
                },
                "template": {
                  "data": {
                    "bar": [
                      {
                        "error_x": {
                          "color": "#2a3f5f"
                        },
                        "error_y": {
                          "color": "#2a3f5f"
                        },
                        "marker": {
                          "line": {
                            "color": "#E5ECF6",
                            "width": 0.5
                          },
                          "pattern": {
                            "fillmode": "overlay",
                            "size": 10,
                            "solidity": 0.2
                          }
                        },
                        "type": "bar"
                      }
                    ],
                    "barpolar": [
                      {
                        "marker": {
                          "line": {
                            "color": "#E5ECF6",
                            "width": 0.5
                          },
                          "pattern": {
                            "fillmode": "overlay",
                            "size": 10,
                            "solidity": 0.2
                          }
                        },
                        "type": "barpolar"
                      }
                    ],
                    "carpet": [
                      {
                        "aaxis": {
                          "endlinecolor": "#2a3f5f",
                          "gridcolor": "white",
                          "linecolor": "white",
                          "minorgridcolor": "white",
                          "startlinecolor": "#2a3f5f"
                        },
                        "baxis": {
                          "endlinecolor": "#2a3f5f",
                          "gridcolor": "white",
                          "linecolor": "white",
                          "minorgridcolor": "white",
                          "startlinecolor": "#2a3f5f"
                        },
                        "type": "carpet"
                      }
                    ],
                    "choropleth": [
                      {
                        "colorbar": {
                          "outlinewidth": 0,
                          "ticks": ""
                        },
                        "type": "choropleth"
                      }
                    ],
                    "contour": [
                      {
                        "colorbar": {
                          "outlinewidth": 0,
                          "ticks": ""
                        },
                        "colorscale": [
                          [
                            0,
                            "#0d0887"
                          ],
                          [
                            0.1111111111111111,
                            "#46039f"
                          ],
                          [
                            0.2222222222222222,
                            "#7201a8"
                          ],
                          [
                            0.3333333333333333,
                            "#9c179e"
                          ],
                          [
                            0.4444444444444444,
                            "#bd3786"
                          ],
                          [
                            0.5555555555555556,
                            "#d8576b"
                          ],
                          [
                            0.6666666666666666,
                            "#ed7953"
                          ],
                          [
                            0.7777777777777778,
                            "#fb9f3a"
                          ],
                          [
                            0.8888888888888888,
                            "#fdca26"
                          ],
                          [
                            1,
                            "#f0f921"
                          ]
                        ],
                        "type": "contour"
                      }
                    ],
                    "contourcarpet": [
                      {
                        "colorbar": {
                          "outlinewidth": 0,
                          "ticks": ""
                        },
                        "type": "contourcarpet"
                      }
                    ],
                    "heatmap": [
                      {
                        "colorbar": {
                          "outlinewidth": 0,
                          "ticks": ""
                        },
                        "colorscale": [
                          [
                            0,
                            "#0d0887"
                          ],
                          [
                            0.1111111111111111,
                            "#46039f"
                          ],
                          [
                            0.2222222222222222,
                            "#7201a8"
                          ],
                          [
                            0.3333333333333333,
                            "#9c179e"
                          ],
                          [
                            0.4444444444444444,
                            "#bd3786"
                          ],
                          [
                            0.5555555555555556,
                            "#d8576b"
                          ],
                          [
                            0.6666666666666666,
                            "#ed7953"
                          ],
                          [
                            0.7777777777777778,
                            "#fb9f3a"
                          ],
                          [
                            0.8888888888888888,
                            "#fdca26"
                          ],
                          [
                            1,
                            "#f0f921"
                          ]
                        ],
                        "type": "heatmap"
                      }
                    ],
                    "heatmapgl": [
                      {
                        "colorbar": {
                          "outlinewidth": 0,
                          "ticks": ""
                        },
                        "colorscale": [
                          [
                            0,
                            "#0d0887"
                          ],
                          [
                            0.1111111111111111,
                            "#46039f"
                          ],
                          [
                            0.2222222222222222,
                            "#7201a8"
                          ],
                          [
                            0.3333333333333333,
                            "#9c179e"
                          ],
                          [
                            0.4444444444444444,
                            "#bd3786"
                          ],
                          [
                            0.5555555555555556,
                            "#d8576b"
                          ],
                          [
                            0.6666666666666666,
                            "#ed7953"
                          ],
                          [
                            0.7777777777777778,
                            "#fb9f3a"
                          ],
                          [
                            0.8888888888888888,
                            "#fdca26"
                          ],
                          [
                            1,
                            "#f0f921"
                          ]
                        ],
                        "type": "heatmapgl"
                      }
                    ],
                    "histogram": [
                      {
                        "marker": {
                          "pattern": {
                            "fillmode": "overlay",
                            "size": 10,
                            "solidity": 0.2
                          }
                        },
                        "type": "histogram"
                      }
                    ],
                    "histogram2d": [
                      {
                        "colorbar": {
                          "outlinewidth": 0,
                          "ticks": ""
                        },
                        "colorscale": [
                          [
                            0,
                            "#0d0887"
                          ],
                          [
                            0.1111111111111111,
                            "#46039f"
                          ],
                          [
                            0.2222222222222222,
                            "#7201a8"
                          ],
                          [
                            0.3333333333333333,
                            "#9c179e"
                          ],
                          [
                            0.4444444444444444,
                            "#bd3786"
                          ],
                          [
                            0.5555555555555556,
                            "#d8576b"
                          ],
                          [
                            0.6666666666666666,
                            "#ed7953"
                          ],
                          [
                            0.7777777777777778,
                            "#fb9f3a"
                          ],
                          [
                            0.8888888888888888,
                            "#fdca26"
                          ],
                          [
                            1,
                            "#f0f921"
                          ]
                        ],
                        "type": "histogram2d"
                      }
                    ],
                    "histogram2dcontour": [
                      {
                        "colorbar": {
                          "outlinewidth": 0,
                          "ticks": ""
                        },
                        "colorscale": [
                          [
                            0,
                            "#0d0887"
                          ],
                          [
                            0.1111111111111111,
                            "#46039f"
                          ],
                          [
                            0.2222222222222222,
                            "#7201a8"
                          ],
                          [
                            0.3333333333333333,
                            "#9c179e"
                          ],
                          [
                            0.4444444444444444,
                            "#bd3786"
                          ],
                          [
                            0.5555555555555556,
                            "#d8576b"
                          ],
                          [
                            0.6666666666666666,
                            "#ed7953"
                          ],
                          [
                            0.7777777777777778,
                            "#fb9f3a"
                          ],
                          [
                            0.8888888888888888,
                            "#fdca26"
                          ],
                          [
                            1,
                            "#f0f921"
                          ]
                        ],
                        "type": "histogram2dcontour"
                      }
                    ],
                    "mesh3d": [
                      {
                        "colorbar": {
                          "outlinewidth": 0,
                          "ticks": ""
                        },
                        "type": "mesh3d"
                      }
                    ],
                    "parcoords": [
                      {
                        "line": {
                          "colorbar": {
                            "outlinewidth": 0,
                            "ticks": ""
                          }
                        },
                        "type": "parcoords"
                      }
                    ],
                    "pie": [
                      {
                        "automargin": true,
                        "type": "pie"
                      }
                    ],
                    "scatter": [
                      {
                        "fillpattern": {
                          "fillmode": "overlay",
                          "size": 10,
                          "solidity": 0.2
                        },
                        "type": "scatter"
                      }
                    ],
                    "scatter3d": [
                      {
                        "line": {
                          "colorbar": {
                            "outlinewidth": 0,
                            "ticks": ""
                          }
                        },
                        "marker": {
                          "colorbar": {
                            "outlinewidth": 0,
                            "ticks": ""
                          }
                        },
                        "type": "scatter3d"
                      }
                    ],
                    "scattercarpet": [
                      {
                        "marker": {
                          "colorbar": {
                            "outlinewidth": 0,
                            "ticks": ""
                          }
                        },
                        "type": "scattercarpet"
                      }
                    ],
                    "scattergeo": [
                      {
                        "marker": {
                          "colorbar": {
                            "outlinewidth": 0,
                            "ticks": ""
                          }
                        },
                        "type": "scattergeo"
                      }
                    ],
                    "scattergl": [
                      {
                        "marker": {
                          "colorbar": {
                            "outlinewidth": 0,
                            "ticks": ""
                          }
                        },
                        "type": "scattergl"
                      }
                    ],
                    "scattermapbox": [
                      {
                        "marker": {
                          "colorbar": {
                            "outlinewidth": 0,
                            "ticks": ""
                          }
                        },
                        "type": "scattermapbox"
                      }
                    ],
                    "scatterpolar": [
                      {
                        "marker": {
                          "colorbar": {
                            "outlinewidth": 0,
                            "ticks": ""
                          }
                        },
                        "type": "scatterpolar"
                      }
                    ],
                    "scatterpolargl": [
                      {
                        "marker": {
                          "colorbar": {
                            "outlinewidth": 0,
                            "ticks": ""
                          }
                        },
                        "type": "scatterpolargl"
                      }
                    ],
                    "scatterternary": [
                      {
                        "marker": {
                          "colorbar": {
                            "outlinewidth": 0,
                            "ticks": ""
                          }
                        },
                        "type": "scatterternary"
                      }
                    ],
                    "surface": [
                      {
                        "colorbar": {
                          "outlinewidth": 0,
                          "ticks": ""
                        },
                        "colorscale": [
                          [
                            0,
                            "#0d0887"
                          ],
                          [
                            0.1111111111111111,
                            "#46039f"
                          ],
                          [
                            0.2222222222222222,
                            "#7201a8"
                          ],
                          [
                            0.3333333333333333,
                            "#9c179e"
                          ],
                          [
                            0.4444444444444444,
                            "#bd3786"
                          ],
                          [
                            0.5555555555555556,
                            "#d8576b"
                          ],
                          [
                            0.6666666666666666,
                            "#ed7953"
                          ],
                          [
                            0.7777777777777778,
                            "#fb9f3a"
                          ],
                          [
                            0.8888888888888888,
                            "#fdca26"
                          ],
                          [
                            1,
                            "#f0f921"
                          ]
                        ],
                        "type": "surface"
                      }
                    ],
                    "table": [
                      {
                        "cells": {
                          "fill": {
                            "color": "#EBF0F8"
                          },
                          "line": {
                            "color": "white"
                          }
                        },
                        "header": {
                          "fill": {
                            "color": "#C8D4E3"
                          },
                          "line": {
                            "color": "white"
                          }
                        },
                        "type": "table"
                      }
                    ]
                  },
                  "layout": {
                    "annotationdefaults": {
                      "arrowcolor": "#2a3f5f",
                      "arrowhead": 0,
                      "arrowwidth": 1
                    },
                    "autotypenumbers": "strict",
                    "coloraxis": {
                      "colorbar": {
                        "outlinewidth": 0,
                        "ticks": ""
                      }
                    },
                    "colorscale": {
                      "diverging": [
                        [
                          0,
                          "#8e0152"
                        ],
                        [
                          0.1,
                          "#c51b7d"
                        ],
                        [
                          0.2,
                          "#de77ae"
                        ],
                        [
                          0.3,
                          "#f1b6da"
                        ],
                        [
                          0.4,
                          "#fde0ef"
                        ],
                        [
                          0.5,
                          "#f7f7f7"
                        ],
                        [
                          0.6,
                          "#e6f5d0"
                        ],
                        [
                          0.7,
                          "#b8e186"
                        ],
                        [
                          0.8,
                          "#7fbc41"
                        ],
                        [
                          0.9,
                          "#4d9221"
                        ],
                        [
                          1,
                          "#276419"
                        ]
                      ],
                      "sequential": [
                        [
                          0,
                          "#0d0887"
                        ],
                        [
                          0.1111111111111111,
                          "#46039f"
                        ],
                        [
                          0.2222222222222222,
                          "#7201a8"
                        ],
                        [
                          0.3333333333333333,
                          "#9c179e"
                        ],
                        [
                          0.4444444444444444,
                          "#bd3786"
                        ],
                        [
                          0.5555555555555556,
                          "#d8576b"
                        ],
                        [
                          0.6666666666666666,
                          "#ed7953"
                        ],
                        [
                          0.7777777777777778,
                          "#fb9f3a"
                        ],
                        [
                          0.8888888888888888,
                          "#fdca26"
                        ],
                        [
                          1,
                          "#f0f921"
                        ]
                      ],
                      "sequentialminus": [
                        [
                          0,
                          "#0d0887"
                        ],
                        [
                          0.1111111111111111,
                          "#46039f"
                        ],
                        [
                          0.2222222222222222,
                          "#7201a8"
                        ],
                        [
                          0.3333333333333333,
                          "#9c179e"
                        ],
                        [
                          0.4444444444444444,
                          "#bd3786"
                        ],
                        [
                          0.5555555555555556,
                          "#d8576b"
                        ],
                        [
                          0.6666666666666666,
                          "#ed7953"
                        ],
                        [
                          0.7777777777777778,
                          "#fb9f3a"
                        ],
                        [
                          0.8888888888888888,
                          "#fdca26"
                        ],
                        [
                          1,
                          "#f0f921"
                        ]
                      ]
                    },
                    "colorway": [
                      "#636efa",
                      "#EF553B",
                      "#00cc96",
                      "#ab63fa",
                      "#FFA15A",
                      "#19d3f3",
                      "#FF6692",
                      "#B6E880",
                      "#FF97FF",
                      "#FECB52"
                    ],
                    "font": {
                      "color": "#2a3f5f"
                    },
                    "geo": {
                      "bgcolor": "white",
                      "lakecolor": "white",
                      "landcolor": "#E5ECF6",
                      "showlakes": true,
                      "showland": true,
                      "subunitcolor": "white"
                    },
                    "hoverlabel": {
                      "align": "left"
                    },
                    "hovermode": "closest",
                    "mapbox": {
                      "style": "light"
                    },
                    "paper_bgcolor": "white",
                    "plot_bgcolor": "#E5ECF6",
                    "polar": {
                      "angularaxis": {
                        "gridcolor": "white",
                        "linecolor": "white",
                        "ticks": ""
                      },
                      "bgcolor": "#E5ECF6",
                      "radialaxis": {
                        "gridcolor": "white",
                        "linecolor": "white",
                        "ticks": ""
                      }
                    },
                    "scene": {
                      "xaxis": {
                        "backgroundcolor": "#E5ECF6",
                        "gridcolor": "white",
                        "gridwidth": 2,
                        "linecolor": "white",
                        "showbackground": true,
                        "ticks": "",
                        "zerolinecolor": "white"
                      },
                      "yaxis": {
                        "backgroundcolor": "#E5ECF6",
                        "gridcolor": "white",
                        "gridwidth": 2,
                        "linecolor": "white",
                        "showbackground": true,
                        "ticks": "",
                        "zerolinecolor": "white"
                      },
                      "zaxis": {
                        "backgroundcolor": "#E5ECF6",
                        "gridcolor": "white",
                        "gridwidth": 2,
                        "linecolor": "white",
                        "showbackground": true,
                        "ticks": "",
                        "zerolinecolor": "white"
                      }
                    },
                    "shapedefaults": {
                      "line": {
                        "color": "#2a3f5f"
                      }
                    },
                    "ternary": {
                      "aaxis": {
                        "gridcolor": "white",
                        "linecolor": "white",
                        "ticks": ""
                      },
                      "baxis": {
                        "gridcolor": "white",
                        "linecolor": "white",
                        "ticks": ""
                      },
                      "bgcolor": "#E5ECF6",
                      "caxis": {
                        "gridcolor": "white",
                        "linecolor": "white",
                        "ticks": ""
                      }
                    },
                    "title": {
                      "x": 0.05
                    },
                    "xaxis": {
                      "automargin": true,
                      "gridcolor": "white",
                      "linecolor": "white",
                      "ticks": "",
                      "title": {
                        "standoff": 15
                      },
                      "zerolinecolor": "white",
                      "zerolinewidth": 2
                    },
                    "yaxis": {
                      "automargin": true,
                      "gridcolor": "white",
                      "linecolor": "white",
                      "ticks": "",
                      "title": {
                        "standoff": 15
                      },
                      "zerolinecolor": "white",
                      "zerolinewidth": 2
                    }
                  }
                },
                "title": {
                  "text": "Numero de casos recuperados por dia"
                },
                "xaxis": {
                  "anchor": "y",
                  "domain": [
                    0,
                    1
                  ],
                  "title": {
                    "text": "x"
                  }
                },
                "yaxis": {
                  "anchor": "x",
                  "domain": [
                    0,
                    1
                  ],
                  "title": {
                    "text": "y"
                  }
                }
              }
            }
          },
          "metadata": {},
          "output_type": "display_data"
        }
      ],
      "source": [
        "total_recuperados_dia = recovered.loc[:,:'8/15/21'] .sum(axis=\"index\")\n",
        "px.line(x=total_recuperados_dia.index,\n",
        "        y=total_recuperados_dia.values,\n",
        "        title='Numero de casos recuperados por dia')"
      ]
    },
    {
      "cell_type": "markdown",
      "metadata": {},
      "source": [
        "Los datos de *Recovered* estan disponibles solo hasta el 4/Agosto/2021"
      ]
    },
    {
      "cell_type": "markdown",
      "metadata": {
        "id": "S_zUgfT0zcdt"
      },
      "source": [
        "### Casos Activos hasta el 4/Agosto/2021\n",
        "Se calcula a partir del numero de personas confirmadas - muertos - recuperados"
      ]
    },
    {
      "cell_type": "code",
      "execution_count": 12,
      "metadata": {},
      "outputs": [],
      "source": [
        "# Tomar todas las columnas hasta 4 de agosto de 2021\n",
        "fecha_datos_completos = '8/4/21'\n",
        "\n",
        "active = (confirmed.loc[:, :fecha_datos_completos]\n",
        "          - death.loc[:, :fecha_datos_completos]\n",
        "          - recovered.loc[:, :fecha_datos_completos])"
      ]
    },
    {
      "cell_type": "markdown",
      "metadata": {
        "id": "x1I4DaJLnksH"
      },
      "source": [
        "### Datos Mundiales por dia"
      ]
    },
    {
      "cell_type": "code",
      "execution_count": 13,
      "metadata": {},
      "outputs": [],
      "source": [
        "column_names = [\"Fecha\", \"Confirmados\", \"Recuperados\",\"Muertos\"]\n",
        "world = pd.DataFrame(columns = column_names)\n",
        "world[\"Fecha\"] = confirmed.columns\n",
        "world[\"Confirmados\"] = confirmed.sum(axis='rows').values\n",
        "world[\"Recuperados\"] = recovered.sum(axis='rows').values\n",
        "world[\"Muertos\"] = death.sum(axis='rows').values\n",
        "world[\"Activos\"] = world[\"Confirmados\"] - world[\"Recuperados\"] - world[\"Muertos\"]"
      ]
    },
    {
      "cell_type": "markdown",
      "metadata": {
        "id": "D1Pvbt3dzcdv"
      },
      "source": [
        "# Evolucion Animada de Casos Activos por Pais\n",
        "La gráfica animada de la evolución temporal de los casos activos por país, la he creado con la libreria [Pandas alive](https://github.com/JackMcKew/pandas_alive) y [Bar Chart Race](https://github.com/dexplo/bar_chart_race).\n",
        "La barra horizontal gris representa el valor promedio de casos activos a nivel mundial."
      ]
    },
    {
      "cell_type": "code",
      "execution_count": null,
      "metadata": {
        "id": "ZotaompXzcdv"
      },
      "outputs": [],
      "source": [
        "import pandas_alive\n",
        "active_evol = active_group.set_index('date')\n",
        "active_evol.index = pd.to_datetime(active_evol.index)"
      ]
    },
    {
      "cell_type": "code",
      "execution_count": null,
      "metadata": {
        "id": "zWUBWG8Tzcdw",
        "tags": []
      },
      "outputs": [],
      "source": [
        "import warnings\n",
        "warnings.filterwarnings(\"ignore\")\n",
        "hola = active_evol.plot_animated(filename='evolucion_casos_activos.mp4', n_bars=8,n_visible=8,\n",
        "                          title='Evolución en el tiempo de Casos Activos COVID-19 por pais \\n https://joserzapata.github.io/',\n",
        "                          period_label={'x': .99, 'y': .25, 'ha': 'right', 'va': 'center'},\n",
        "                          period_fmt='%B %d, %Y',\n",
        "                          dpi=300,\n",
        "                          period_summary_func=lambda v: {'x': .99, 'y': .18,\n",
        "                                      's': f'Total Activos: {v.nlargest(8).sum():,.0f}',\n",
        "                                      'ha': 'right', 'size': 9, 'family': 'Courier New'});"
      ]
    },
    {
      "cell_type": "markdown",
      "metadata": {
        "id": "Q2e5kRWeQrCs"
      },
      "source": [
        "# Visualizacion con Plotly"
      ]
    },
    {
      "cell_type": "markdown",
      "metadata": {
        "id": "Z8B5K4RxbkEQ"
      },
      "source": [
        "## Valores Mundiales de Confirmados, Recuperados y Muertos\n"
      ]
    },
    {
      "cell_type": "code",
      "execution_count": 25,
      "metadata": {},
      "outputs": [
        {
          "data": {
            "application/vnd.plotly.v1+json": {
              "config": {
                "plotlyServerURL": "https://plotly.com"
              },
              "data": [
                {
                  "alignmentgroup": "True",
                  "hovertemplate": "color=Confirmados<br>x=%{x}<br>y=%{y}<br>text=%{text}<extra></extra>",
                  "legendgroup": "Confirmados",
                  "marker": {
                    "color": "navy",
                    "pattern": {
                      "shape": ""
                    }
                  },
                  "name": "Confirmados",
                  "offsetgroup": "Confirmados",
                  "orientation": "v",
                  "showlegend": true,
                  "text": [
                    676570149
                  ],
                  "textposition": "outside",
                  "type": "bar",
                  "x": [
                    "Confirmados"
                  ],
                  "xaxis": "x",
                  "y": [
                    676570149
                  ],
                  "yaxis": "y"
                },
                {
                  "alignmentgroup": "True",
                  "hovertemplate": "color=Muertos<br>x=%{x}<br>y=%{y}<br>text=%{text}<extra></extra>",
                  "legendgroup": "Muertos",
                  "marker": {
                    "color": "coral",
                    "pattern": {
                      "shape": ""
                    }
                  },
                  "name": "Muertos",
                  "offsetgroup": "Muertos",
                  "orientation": "v",
                  "showlegend": true,
                  "text": [
                    6881802
                  ],
                  "textposition": "outside",
                  "type": "bar",
                  "x": [
                    "Muertos"
                  ],
                  "xaxis": "x",
                  "y": [
                    6881802
                  ],
                  "yaxis": "y"
                }
              ],
              "layout": {
                "annotations": [
                  {
                    "showarrow": false,
                    "text": "https://joserzapata.github.io/",
                    "x": "Muertos",
                    "y": 676570149
                  }
                ],
                "barmode": "relative",
                "height": 500,
                "legend": {
                  "title": {
                    "text": "color"
                  },
                  "tracegroupgap": 0
                },
                "showlegend": false,
                "template": {
                  "data": {
                    "bar": [
                      {
                        "error_x": {
                          "color": "#2a3f5f"
                        },
                        "error_y": {
                          "color": "#2a3f5f"
                        },
                        "marker": {
                          "line": {
                            "color": "#E5ECF6",
                            "width": 0.5
                          },
                          "pattern": {
                            "fillmode": "overlay",
                            "size": 10,
                            "solidity": 0.2
                          }
                        },
                        "type": "bar"
                      }
                    ],
                    "barpolar": [
                      {
                        "marker": {
                          "line": {
                            "color": "#E5ECF6",
                            "width": 0.5
                          },
                          "pattern": {
                            "fillmode": "overlay",
                            "size": 10,
                            "solidity": 0.2
                          }
                        },
                        "type": "barpolar"
                      }
                    ],
                    "carpet": [
                      {
                        "aaxis": {
                          "endlinecolor": "#2a3f5f",
                          "gridcolor": "white",
                          "linecolor": "white",
                          "minorgridcolor": "white",
                          "startlinecolor": "#2a3f5f"
                        },
                        "baxis": {
                          "endlinecolor": "#2a3f5f",
                          "gridcolor": "white",
                          "linecolor": "white",
                          "minorgridcolor": "white",
                          "startlinecolor": "#2a3f5f"
                        },
                        "type": "carpet"
                      }
                    ],
                    "choropleth": [
                      {
                        "colorbar": {
                          "outlinewidth": 0,
                          "ticks": ""
                        },
                        "type": "choropleth"
                      }
                    ],
                    "contour": [
                      {
                        "colorbar": {
                          "outlinewidth": 0,
                          "ticks": ""
                        },
                        "colorscale": [
                          [
                            0,
                            "#0d0887"
                          ],
                          [
                            0.1111111111111111,
                            "#46039f"
                          ],
                          [
                            0.2222222222222222,
                            "#7201a8"
                          ],
                          [
                            0.3333333333333333,
                            "#9c179e"
                          ],
                          [
                            0.4444444444444444,
                            "#bd3786"
                          ],
                          [
                            0.5555555555555556,
                            "#d8576b"
                          ],
                          [
                            0.6666666666666666,
                            "#ed7953"
                          ],
                          [
                            0.7777777777777778,
                            "#fb9f3a"
                          ],
                          [
                            0.8888888888888888,
                            "#fdca26"
                          ],
                          [
                            1,
                            "#f0f921"
                          ]
                        ],
                        "type": "contour"
                      }
                    ],
                    "contourcarpet": [
                      {
                        "colorbar": {
                          "outlinewidth": 0,
                          "ticks": ""
                        },
                        "type": "contourcarpet"
                      }
                    ],
                    "heatmap": [
                      {
                        "colorbar": {
                          "outlinewidth": 0,
                          "ticks": ""
                        },
                        "colorscale": [
                          [
                            0,
                            "#0d0887"
                          ],
                          [
                            0.1111111111111111,
                            "#46039f"
                          ],
                          [
                            0.2222222222222222,
                            "#7201a8"
                          ],
                          [
                            0.3333333333333333,
                            "#9c179e"
                          ],
                          [
                            0.4444444444444444,
                            "#bd3786"
                          ],
                          [
                            0.5555555555555556,
                            "#d8576b"
                          ],
                          [
                            0.6666666666666666,
                            "#ed7953"
                          ],
                          [
                            0.7777777777777778,
                            "#fb9f3a"
                          ],
                          [
                            0.8888888888888888,
                            "#fdca26"
                          ],
                          [
                            1,
                            "#f0f921"
                          ]
                        ],
                        "type": "heatmap"
                      }
                    ],
                    "heatmapgl": [
                      {
                        "colorbar": {
                          "outlinewidth": 0,
                          "ticks": ""
                        },
                        "colorscale": [
                          [
                            0,
                            "#0d0887"
                          ],
                          [
                            0.1111111111111111,
                            "#46039f"
                          ],
                          [
                            0.2222222222222222,
                            "#7201a8"
                          ],
                          [
                            0.3333333333333333,
                            "#9c179e"
                          ],
                          [
                            0.4444444444444444,
                            "#bd3786"
                          ],
                          [
                            0.5555555555555556,
                            "#d8576b"
                          ],
                          [
                            0.6666666666666666,
                            "#ed7953"
                          ],
                          [
                            0.7777777777777778,
                            "#fb9f3a"
                          ],
                          [
                            0.8888888888888888,
                            "#fdca26"
                          ],
                          [
                            1,
                            "#f0f921"
                          ]
                        ],
                        "type": "heatmapgl"
                      }
                    ],
                    "histogram": [
                      {
                        "marker": {
                          "pattern": {
                            "fillmode": "overlay",
                            "size": 10,
                            "solidity": 0.2
                          }
                        },
                        "type": "histogram"
                      }
                    ],
                    "histogram2d": [
                      {
                        "colorbar": {
                          "outlinewidth": 0,
                          "ticks": ""
                        },
                        "colorscale": [
                          [
                            0,
                            "#0d0887"
                          ],
                          [
                            0.1111111111111111,
                            "#46039f"
                          ],
                          [
                            0.2222222222222222,
                            "#7201a8"
                          ],
                          [
                            0.3333333333333333,
                            "#9c179e"
                          ],
                          [
                            0.4444444444444444,
                            "#bd3786"
                          ],
                          [
                            0.5555555555555556,
                            "#d8576b"
                          ],
                          [
                            0.6666666666666666,
                            "#ed7953"
                          ],
                          [
                            0.7777777777777778,
                            "#fb9f3a"
                          ],
                          [
                            0.8888888888888888,
                            "#fdca26"
                          ],
                          [
                            1,
                            "#f0f921"
                          ]
                        ],
                        "type": "histogram2d"
                      }
                    ],
                    "histogram2dcontour": [
                      {
                        "colorbar": {
                          "outlinewidth": 0,
                          "ticks": ""
                        },
                        "colorscale": [
                          [
                            0,
                            "#0d0887"
                          ],
                          [
                            0.1111111111111111,
                            "#46039f"
                          ],
                          [
                            0.2222222222222222,
                            "#7201a8"
                          ],
                          [
                            0.3333333333333333,
                            "#9c179e"
                          ],
                          [
                            0.4444444444444444,
                            "#bd3786"
                          ],
                          [
                            0.5555555555555556,
                            "#d8576b"
                          ],
                          [
                            0.6666666666666666,
                            "#ed7953"
                          ],
                          [
                            0.7777777777777778,
                            "#fb9f3a"
                          ],
                          [
                            0.8888888888888888,
                            "#fdca26"
                          ],
                          [
                            1,
                            "#f0f921"
                          ]
                        ],
                        "type": "histogram2dcontour"
                      }
                    ],
                    "mesh3d": [
                      {
                        "colorbar": {
                          "outlinewidth": 0,
                          "ticks": ""
                        },
                        "type": "mesh3d"
                      }
                    ],
                    "parcoords": [
                      {
                        "line": {
                          "colorbar": {
                            "outlinewidth": 0,
                            "ticks": ""
                          }
                        },
                        "type": "parcoords"
                      }
                    ],
                    "pie": [
                      {
                        "automargin": true,
                        "type": "pie"
                      }
                    ],
                    "scatter": [
                      {
                        "fillpattern": {
                          "fillmode": "overlay",
                          "size": 10,
                          "solidity": 0.2
                        },
                        "type": "scatter"
                      }
                    ],
                    "scatter3d": [
                      {
                        "line": {
                          "colorbar": {
                            "outlinewidth": 0,
                            "ticks": ""
                          }
                        },
                        "marker": {
                          "colorbar": {
                            "outlinewidth": 0,
                            "ticks": ""
                          }
                        },
                        "type": "scatter3d"
                      }
                    ],
                    "scattercarpet": [
                      {
                        "marker": {
                          "colorbar": {
                            "outlinewidth": 0,
                            "ticks": ""
                          }
                        },
                        "type": "scattercarpet"
                      }
                    ],
                    "scattergeo": [
                      {
                        "marker": {
                          "colorbar": {
                            "outlinewidth": 0,
                            "ticks": ""
                          }
                        },
                        "type": "scattergeo"
                      }
                    ],
                    "scattergl": [
                      {
                        "marker": {
                          "colorbar": {
                            "outlinewidth": 0,
                            "ticks": ""
                          }
                        },
                        "type": "scattergl"
                      }
                    ],
                    "scattermapbox": [
                      {
                        "marker": {
                          "colorbar": {
                            "outlinewidth": 0,
                            "ticks": ""
                          }
                        },
                        "type": "scattermapbox"
                      }
                    ],
                    "scatterpolar": [
                      {
                        "marker": {
                          "colorbar": {
                            "outlinewidth": 0,
                            "ticks": ""
                          }
                        },
                        "type": "scatterpolar"
                      }
                    ],
                    "scatterpolargl": [
                      {
                        "marker": {
                          "colorbar": {
                            "outlinewidth": 0,
                            "ticks": ""
                          }
                        },
                        "type": "scatterpolargl"
                      }
                    ],
                    "scatterternary": [
                      {
                        "marker": {
                          "colorbar": {
                            "outlinewidth": 0,
                            "ticks": ""
                          }
                        },
                        "type": "scatterternary"
                      }
                    ],
                    "surface": [
                      {
                        "colorbar": {
                          "outlinewidth": 0,
                          "ticks": ""
                        },
                        "colorscale": [
                          [
                            0,
                            "#0d0887"
                          ],
                          [
                            0.1111111111111111,
                            "#46039f"
                          ],
                          [
                            0.2222222222222222,
                            "#7201a8"
                          ],
                          [
                            0.3333333333333333,
                            "#9c179e"
                          ],
                          [
                            0.4444444444444444,
                            "#bd3786"
                          ],
                          [
                            0.5555555555555556,
                            "#d8576b"
                          ],
                          [
                            0.6666666666666666,
                            "#ed7953"
                          ],
                          [
                            0.7777777777777778,
                            "#fb9f3a"
                          ],
                          [
                            0.8888888888888888,
                            "#fdca26"
                          ],
                          [
                            1,
                            "#f0f921"
                          ]
                        ],
                        "type": "surface"
                      }
                    ],
                    "table": [
                      {
                        "cells": {
                          "fill": {
                            "color": "#EBF0F8"
                          },
                          "line": {
                            "color": "white"
                          }
                        },
                        "header": {
                          "fill": {
                            "color": "#C8D4E3"
                          },
                          "line": {
                            "color": "white"
                          }
                        },
                        "type": "table"
                      }
                    ]
                  },
                  "layout": {
                    "annotationdefaults": {
                      "arrowcolor": "#2a3f5f",
                      "arrowhead": 0,
                      "arrowwidth": 1
                    },
                    "autotypenumbers": "strict",
                    "coloraxis": {
                      "colorbar": {
                        "outlinewidth": 0,
                        "ticks": ""
                      }
                    },
                    "colorscale": {
                      "diverging": [
                        [
                          0,
                          "#8e0152"
                        ],
                        [
                          0.1,
                          "#c51b7d"
                        ],
                        [
                          0.2,
                          "#de77ae"
                        ],
                        [
                          0.3,
                          "#f1b6da"
                        ],
                        [
                          0.4,
                          "#fde0ef"
                        ],
                        [
                          0.5,
                          "#f7f7f7"
                        ],
                        [
                          0.6,
                          "#e6f5d0"
                        ],
                        [
                          0.7,
                          "#b8e186"
                        ],
                        [
                          0.8,
                          "#7fbc41"
                        ],
                        [
                          0.9,
                          "#4d9221"
                        ],
                        [
                          1,
                          "#276419"
                        ]
                      ],
                      "sequential": [
                        [
                          0,
                          "#0d0887"
                        ],
                        [
                          0.1111111111111111,
                          "#46039f"
                        ],
                        [
                          0.2222222222222222,
                          "#7201a8"
                        ],
                        [
                          0.3333333333333333,
                          "#9c179e"
                        ],
                        [
                          0.4444444444444444,
                          "#bd3786"
                        ],
                        [
                          0.5555555555555556,
                          "#d8576b"
                        ],
                        [
                          0.6666666666666666,
                          "#ed7953"
                        ],
                        [
                          0.7777777777777778,
                          "#fb9f3a"
                        ],
                        [
                          0.8888888888888888,
                          "#fdca26"
                        ],
                        [
                          1,
                          "#f0f921"
                        ]
                      ],
                      "sequentialminus": [
                        [
                          0,
                          "#0d0887"
                        ],
                        [
                          0.1111111111111111,
                          "#46039f"
                        ],
                        [
                          0.2222222222222222,
                          "#7201a8"
                        ],
                        [
                          0.3333333333333333,
                          "#9c179e"
                        ],
                        [
                          0.4444444444444444,
                          "#bd3786"
                        ],
                        [
                          0.5555555555555556,
                          "#d8576b"
                        ],
                        [
                          0.6666666666666666,
                          "#ed7953"
                        ],
                        [
                          0.7777777777777778,
                          "#fb9f3a"
                        ],
                        [
                          0.8888888888888888,
                          "#fdca26"
                        ],
                        [
                          1,
                          "#f0f921"
                        ]
                      ]
                    },
                    "colorway": [
                      "#636efa",
                      "#EF553B",
                      "#00cc96",
                      "#ab63fa",
                      "#FFA15A",
                      "#19d3f3",
                      "#FF6692",
                      "#B6E880",
                      "#FF97FF",
                      "#FECB52"
                    ],
                    "font": {
                      "color": "#2a3f5f"
                    },
                    "geo": {
                      "bgcolor": "white",
                      "lakecolor": "white",
                      "landcolor": "#E5ECF6",
                      "showlakes": true,
                      "showland": true,
                      "subunitcolor": "white"
                    },
                    "hoverlabel": {
                      "align": "left"
                    },
                    "hovermode": "closest",
                    "mapbox": {
                      "style": "light"
                    },
                    "paper_bgcolor": "white",
                    "plot_bgcolor": "#E5ECF6",
                    "polar": {
                      "angularaxis": {
                        "gridcolor": "white",
                        "linecolor": "white",
                        "ticks": ""
                      },
                      "bgcolor": "#E5ECF6",
                      "radialaxis": {
                        "gridcolor": "white",
                        "linecolor": "white",
                        "ticks": ""
                      }
                    },
                    "scene": {
                      "xaxis": {
                        "backgroundcolor": "#E5ECF6",
                        "gridcolor": "white",
                        "gridwidth": 2,
                        "linecolor": "white",
                        "showbackground": true,
                        "ticks": "",
                        "zerolinecolor": "white"
                      },
                      "yaxis": {
                        "backgroundcolor": "#E5ECF6",
                        "gridcolor": "white",
                        "gridwidth": 2,
                        "linecolor": "white",
                        "showbackground": true,
                        "ticks": "",
                        "zerolinecolor": "white"
                      },
                      "zaxis": {
                        "backgroundcolor": "#E5ECF6",
                        "gridcolor": "white",
                        "gridwidth": 2,
                        "linecolor": "white",
                        "showbackground": true,
                        "ticks": "",
                        "zerolinecolor": "white"
                      }
                    },
                    "shapedefaults": {
                      "line": {
                        "color": "#2a3f5f"
                      }
                    },
                    "ternary": {
                      "aaxis": {
                        "gridcolor": "white",
                        "linecolor": "white",
                        "ticks": ""
                      },
                      "baxis": {
                        "gridcolor": "white",
                        "linecolor": "white",
                        "ticks": ""
                      },
                      "bgcolor": "#E5ECF6",
                      "caxis": {
                        "gridcolor": "white",
                        "linecolor": "white",
                        "ticks": ""
                      }
                    },
                    "title": {
                      "x": 0.05
                    },
                    "xaxis": {
                      "automargin": true,
                      "gridcolor": "white",
                      "linecolor": "white",
                      "ticks": "",
                      "title": {
                        "standoff": 15
                      },
                      "zerolinecolor": "white",
                      "zerolinewidth": 2
                    },
                    "yaxis": {
                      "automargin": true,
                      "gridcolor": "white",
                      "linecolor": "white",
                      "ticks": "",
                      "title": {
                        "standoff": 15
                      },
                      "zerolinecolor": "white",
                      "zerolinewidth": 2
                    }
                  }
                },
                "title": {
                  "text": "Total casos COVID-19 en el mundo al 3/9/23"
                },
                "width": 600,
                "xaxis": {
                  "anchor": "y",
                  "domain": [
                    0,
                    1
                  ],
                  "title": {
                    "text": ""
                  }
                },
                "yaxis": {
                  "anchor": "x",
                  "domain": [
                    0,
                    1
                  ],
                  "title": {
                    "text": "Numero de Personas"
                  }
                }
              }
            }
          },
          "metadata": {},
          "output_type": "display_data"
        }
      ],
      "source": [
        "# plotly bar plot of the last row of the world dataframe without Recuperados column\n",
        "fig = px.bar(world.iloc[-1][[\"Confirmados\",\"Muertos\"]],\n",
        "             x = [\"Confirmados\",\"Muertos\"], color = [\"Confirmados\",\"Muertos\"],\n",
        "             y = world.iloc[-1][[\"Confirmados\",\"Muertos\"]].values,\n",
        "             text = world.iloc[-1][[\"Confirmados\",\"Muertos\"]].values,\n",
        "             color_discrete_sequence=[\"navy\",\"coral\"],\n",
        "             height=500, width=600,\n",
        "             title='Total casos COVID-19 en el mundo al {}'.format(world.iloc[-1]['Fecha']),\n",
        "             labels={'value':'Número de casos', 'variable':'Tipo de caso'})\n",
        "fig.update_traces(textposition='outside')#poner los valores de las barras fuera\n",
        "fig.add_annotation(x= 'Muertos', y=world[\"Confirmados\"].max(), text='https://joserzapata.github.io/', showarrow=False)\n",
        "fig.layout.update(showlegend=False,\n",
        "                  yaxis =  {\"title\": {\"text\": \"Numero de Personas\"}}, # Cambiar texto eje y\n",
        "                  xaxis =  {\"title\": {\"text\": \"\"}} #Esconder nombre eje x\n",
        "                  )\n",
        "# grabar grafica en chart-studio si se proporciona el api-key\n",
        "if api_key: py.plot(fig, filename = 'total_casos_general', auto_open=False)\n",
        "fig.show()"
      ]
    },
    {
      "cell_type": "markdown",
      "metadata": {
        "id": "GxS-iNEJ1Gu6"
      },
      "source": [
        "## Mapa Mundial de Confirmados por Pais"
      ]
    },
    {
      "cell_type": "code",
      "execution_count": 26,
      "metadata": {
        "id": "AWj0By9l00Ac"
      },
      "outputs": [
        {
          "data": {
            "application/vnd.plotly.v1+json": {
              "config": {
                "plotlyServerURL": "https://plotly.com"
              },
              "data": [
                {
                  "coloraxis": "coloraxis",
                  "customdata": [
                    [
                      209451
                    ],
                    [
                      334457
                    ],
                    [
                      271496
                    ],
                    [
                      47890
                    ],
                    [
                      105288
                    ],
                    [
                      11
                    ],
                    [
                      9106
                    ],
                    [
                      10044957
                    ],
                    [
                      447308
                    ],
                    [
                      11399460
                    ],
                    [
                      5961143
                    ],
                    [
                      828825
                    ],
                    [
                      37491
                    ],
                    [
                      710693
                    ],
                    [
                      2037871
                    ],
                    [
                      106798
                    ],
                    [
                      994037
                    ],
                    [
                      4739365
                    ],
                    [
                      70757
                    ],
                    [
                      27999
                    ],
                    [
                      62627
                    ],
                    [
                      1194277
                    ],
                    [
                      401729
                    ],
                    [
                      329758
                    ],
                    [
                      37076053
                    ],
                    [
                      279661
                    ],
                    [
                      1297523
                    ],
                    [
                      22056
                    ],
                    [
                      633950
                    ],
                    [
                      53631
                    ],
                    [
                      63244
                    ],
                    [
                      138719
                    ],
                    [
                      124392
                    ],
                    [
                      4617095
                    ],
                    [
                      15368
                    ],
                    [
                      7679
                    ],
                    [
                      5192286
                    ],
                    [
                      4903524
                    ],
                    [
                      6359093
                    ],
                    [
                      9008
                    ],
                    [
                      25087
                    ],
                    [
                      95749
                    ],
                    [
                      1209725
                    ],
                    [
                      88263
                    ],
                    [
                      1269326
                    ],
                    [
                      1112643
                    ],
                    [
                      650685
                    ],
                    [
                      4618256
                    ],
                    [
                      3451036
                    ],
                    [
                      712
                    ],
                    [
                      15690
                    ],
                    [
                      15760
                    ],
                    [
                      660790
                    ],
                    [
                      1057121
                    ],
                    [
                      515759
                    ],
                    [
                      201785
                    ],
                    [
                      17229
                    ],
                    [
                      10189
                    ],
                    [
                      615433
                    ],
                    [
                      74267
                    ],
                    [
                      500116
                    ],
                    [
                      68898
                    ],
                    [
                      1463644
                    ],
                    [
                      39866718
                    ],
                    [
                      48981
                    ],
                    [
                      12598
                    ],
                    [
                      1827537
                    ],
                    [
                      38249060
                    ],
                    [
                      171229
                    ],
                    [
                      5548487
                    ],
                    [
                      19680
                    ],
                    [
                      1238247
                    ],
                    [
                      38267
                    ],
                    [
                      8960
                    ],
                    [
                      73075
                    ],
                    [
                      34202
                    ],
                    [
                      29
                    ],
                    [
                      472250
                    ],
                    [
                      2196804
                    ],
                    [
                      209137
                    ],
                    [
                      44690738
                    ],
                    [
                      6738225
                    ],
                    [
                      7572311
                    ],
                    [
                      2465545
                    ],
                    [
                      1704502
                    ],
                    [
                      4803824
                    ],
                    [
                      25603510
                    ],
                    [
                      154416
                    ],
                    [
                      33320438
                    ],
                    [
                      1746997
                    ],
                    [
                      1498668
                    ],
                    [
                      342937
                    ],
                    [
                      5014
                    ],
                    [
                      1
                    ],
                    [
                      30615522
                    ],
                    [
                      273312
                    ],
                    [
                      663860
                    ],
                    [
                      206708
                    ],
                    [
                      218023
                    ],
                    [
                      976255
                    ],
                    [
                      1232828
                    ],
                    [
                      34790
                    ],
                    [
                      8090
                    ],
                    [
                      507187
                    ],
                    [
                      21432
                    ],
                    [
                      1307448
                    ],
                    [
                      317367
                    ],
                    [
                      9
                    ],
                    [
                      67889
                    ],
                    [
                      88707
                    ],
                    [
                      5044718
                    ],
                    [
                      185738
                    ],
                    [
                      33062
                    ],
                    [
                      117610
                    ],
                    [
                      15649
                    ],
                    [
                      63668
                    ],
                    [
                      296042
                    ],
                    [
                      7483444
                    ],
                    [
                      23948
                    ],
                    [
                      611140
                    ],
                    [
                      16121
                    ],
                    [
                      1007900
                    ],
                    [
                      288808
                    ],
                    [
                      1272490
                    ],
                    [
                      233214
                    ],
                    [
                      171156
                    ],
                    [
                      5247
                    ],
                    [
                      1001154
                    ],
                    [
                      8712835
                    ],
                    [
                      2236114
                    ],
                    [
                      15655
                    ],
                    [
                      9508
                    ],
                    [
                      266598
                    ],
                    [
                      346852
                    ],
                    [
                      1479506
                    ],
                    [
                      399449
                    ],
                    [
                      1577411
                    ],
                    [
                      5991
                    ],
                    [
                      1031731
                    ],
                    [
                      46825
                    ],
                    [
                      808401
                    ],
                    [
                      4487553
                    ],
                    [
                      4077452
                    ],
                    [
                      6444960
                    ],
                    [
                      5570473
                    ],
                    [
                      495090
                    ],
                    [
                      3346046
                    ],
                    [
                      22075858
                    ],
                    [
                      133194
                    ],
                    [
                      6597
                    ],
                    [
                      30004
                    ],
                    [
                      9589
                    ],
                    [
                      16607
                    ],
                    [
                      23616
                    ],
                    [
                      6281
                    ],
                    [
                      830127
                    ],
                    [
                      88926
                    ],
                    [
                      2500142
                    ],
                    [
                      50665
                    ],
                    [
                      7760
                    ],
                    [
                      2235294
                    ],
                    [
                      2667551
                    ],
                    [
                      1331707
                    ],
                    [
                      24575
                    ],
                    [
                      27324
                    ],
                    [
                      4067067
                    ],
                    [
                      18368
                    ],
                    [
                      13770429
                    ],
                    [
                      672039
                    ],
                    [
                      63829
                    ],
                    [
                      865
                    ],
                    [
                      82467
                    ],
                    [
                      2699339
                    ],
                    [
                      4413911
                    ],
                    [
                      57467
                    ],
                    [
                      9970937
                    ],
                    [
                      17786
                    ],
                    [
                      42906
                    ],
                    [
                      4728182
                    ],
                    [
                      23419
                    ],
                    [
                      39396
                    ],
                    [
                      16810
                    ],
                    [
                      189918
                    ],
                    [
                      1151126
                    ],
                    [
                      17042722
                    ],
                    [
                      2805
                    ],
                    [
                      103802702
                    ],
                    [
                      170544
                    ],
                    [
                      5711929
                    ],
                    [
                      1053213
                    ],
                    [
                      24658705
                    ],
                    [
                      1034303
                    ],
                    [
                      251247
                    ],
                    [
                      12014
                    ],
                    [
                      552162
                    ],
                    [
                      11526994
                    ],
                    [
                      703228
                    ],
                    [
                      535
                    ],
                    [
                      11945
                    ],
                    [
                      343135
                    ],
                    [
                      264276
                    ]
                  ],
                  "geo": "geo",
                  "hovertemplate": "<b>%{hovertext}</b><br><br>Country/Region=%{location}<br>Confirmados=%{customdata[0]}<br>color=%{z}<extra></extra>",
                  "hovertext": [
                    "Afghanistan",
                    "Albania",
                    "Algeria",
                    "Andorra",
                    "Angola",
                    "Antarctica",
                    "Antigua and Barbuda",
                    "Argentina",
                    "Armenia",
                    "Australia",
                    "Austria",
                    "Azerbaijan",
                    "Bahamas",
                    "Bahrain",
                    "Bangladesh",
                    "Barbados",
                    "Belarus",
                    "Belgium",
                    "Belize",
                    "Benin",
                    "Bhutan",
                    "Bolivia",
                    "Bosnia and Herzegovina",
                    "Botswana",
                    "Brazil",
                    "Brunei",
                    "Bulgaria",
                    "Burkina Faso",
                    "Burma",
                    "Burundi",
                    "Cabo Verde",
                    "Cambodia",
                    "Cameroon",
                    "Canada",
                    "Central African Republic",
                    "Chad",
                    "Chile",
                    "China",
                    "Colombia",
                    "Comoros",
                    "Congo (Brazzaville)",
                    "Congo (Kinshasa)",
                    "Costa Rica",
                    "Cote d'Ivoire",
                    "Croatia",
                    "Cuba",
                    "Cyprus",
                    "Czechia",
                    "Denmark",
                    "Diamond Princess",
                    "Djibouti",
                    "Dominica",
                    "Dominican Republic",
                    "Ecuador",
                    "Egypt",
                    "El Salvador",
                    "Equatorial Guinea",
                    "Eritrea",
                    "Estonia",
                    "Eswatini",
                    "Ethiopia",
                    "Fiji",
                    "Finland",
                    "France",
                    "Gabon",
                    "Gambia",
                    "Georgia",
                    "Germany",
                    "Ghana",
                    "Greece",
                    "Grenada",
                    "Guatemala",
                    "Guinea",
                    "Guinea-Bissau",
                    "Guyana",
                    "Haiti",
                    "Holy See",
                    "Honduras",
                    "Hungary",
                    "Iceland",
                    "India",
                    "Indonesia",
                    "Iran",
                    "Iraq",
                    "Ireland",
                    "Israel",
                    "Italy",
                    "Jamaica",
                    "Japan",
                    "Jordan",
                    "Kazakhstan",
                    "Kenya",
                    "Kiribati",
                    "Korea, North",
                    "Korea, South",
                    "Kosovo",
                    "Kuwait",
                    "Kyrgyzstan",
                    "Laos",
                    "Latvia",
                    "Lebanon",
                    "Lesotho",
                    "Liberia",
                    "Libya",
                    "Liechtenstein",
                    "Lithuania",
                    "Luxembourg",
                    "MS Zaandam",
                    "Madagascar",
                    "Malawi",
                    "Malaysia",
                    "Maldives",
                    "Mali",
                    "Malta",
                    "Marshall Islands",
                    "Mauritania",
                    "Mauritius",
                    "Mexico",
                    "Micronesia",
                    "Moldova",
                    "Monaco",
                    "Mongolia",
                    "Montenegro",
                    "Morocco",
                    "Mozambique",
                    "Namibia",
                    "Nauru",
                    "Nepal",
                    "Netherlands",
                    "New Zealand",
                    "Nicaragua",
                    "Niger",
                    "Nigeria",
                    "North Macedonia",
                    "Norway",
                    "Oman",
                    "Pakistan",
                    "Palau",
                    "Panama",
                    "Papua New Guinea",
                    "Paraguay",
                    "Peru",
                    "Philippines",
                    "Poland",
                    "Portugal",
                    "Qatar",
                    "Romania",
                    "Russia",
                    "Rwanda",
                    "Saint Kitts and Nevis",
                    "Saint Lucia",
                    "Saint Vincent and the Grenadines",
                    "Samoa",
                    "San Marino",
                    "Sao Tome and Principe",
                    "Saudi Arabia",
                    "Senegal",
                    "Serbia",
                    "Seychelles",
                    "Sierra Leone",
                    "Singapore",
                    "Slovakia",
                    "Slovenia",
                    "Solomon Islands",
                    "Somalia",
                    "South Africa",
                    "South Sudan",
                    "Spain",
                    "Sri Lanka",
                    "Sudan",
                    "Summer Olympics 2020",
                    "Suriname",
                    "Sweden",
                    "Switzerland",
                    "Syria",
                    "Taiwan*",
                    "Tajikistan",
                    "Tanzania",
                    "Thailand",
                    "Timor-Leste",
                    "Togo",
                    "Tonga",
                    "Trinidad and Tobago",
                    "Tunisia",
                    "Turkey",
                    "Tuvalu",
                    "US",
                    "Uganda",
                    "Ukraine",
                    "United Arab Emirates",
                    "United Kingdom",
                    "Uruguay",
                    "Uzbekistan",
                    "Vanuatu",
                    "Venezuela",
                    "Vietnam",
                    "West Bank and Gaza",
                    "Winter Olympics 2022",
                    "Yemen",
                    "Zambia",
                    "Zimbabwe"
                  ],
                  "locationmode": "country names",
                  "locations": [
                    "Afghanistan",
                    "Albania",
                    "Algeria",
                    "Andorra",
                    "Angola",
                    "Antarctica",
                    "Antigua and Barbuda",
                    "Argentina",
                    "Armenia",
                    "Australia",
                    "Austria",
                    "Azerbaijan",
                    "Bahamas",
                    "Bahrain",
                    "Bangladesh",
                    "Barbados",
                    "Belarus",
                    "Belgium",
                    "Belize",
                    "Benin",
                    "Bhutan",
                    "Bolivia",
                    "Bosnia and Herzegovina",
                    "Botswana",
                    "Brazil",
                    "Brunei",
                    "Bulgaria",
                    "Burkina Faso",
                    "Burma",
                    "Burundi",
                    "Cabo Verde",
                    "Cambodia",
                    "Cameroon",
                    "Canada",
                    "Central African Republic",
                    "Chad",
                    "Chile",
                    "China",
                    "Colombia",
                    "Comoros",
                    "Congo (Brazzaville)",
                    "Congo (Kinshasa)",
                    "Costa Rica",
                    "Cote d'Ivoire",
                    "Croatia",
                    "Cuba",
                    "Cyprus",
                    "Czechia",
                    "Denmark",
                    "Diamond Princess",
                    "Djibouti",
                    "Dominica",
                    "Dominican Republic",
                    "Ecuador",
                    "Egypt",
                    "El Salvador",
                    "Equatorial Guinea",
                    "Eritrea",
                    "Estonia",
                    "Eswatini",
                    "Ethiopia",
                    "Fiji",
                    "Finland",
                    "France",
                    "Gabon",
                    "Gambia",
                    "Georgia",
                    "Germany",
                    "Ghana",
                    "Greece",
                    "Grenada",
                    "Guatemala",
                    "Guinea",
                    "Guinea-Bissau",
                    "Guyana",
                    "Haiti",
                    "Holy See",
                    "Honduras",
                    "Hungary",
                    "Iceland",
                    "India",
                    "Indonesia",
                    "Iran",
                    "Iraq",
                    "Ireland",
                    "Israel",
                    "Italy",
                    "Jamaica",
                    "Japan",
                    "Jordan",
                    "Kazakhstan",
                    "Kenya",
                    "Kiribati",
                    "Korea, North",
                    "Korea, South",
                    "Kosovo",
                    "Kuwait",
                    "Kyrgyzstan",
                    "Laos",
                    "Latvia",
                    "Lebanon",
                    "Lesotho",
                    "Liberia",
                    "Libya",
                    "Liechtenstein",
                    "Lithuania",
                    "Luxembourg",
                    "MS Zaandam",
                    "Madagascar",
                    "Malawi",
                    "Malaysia",
                    "Maldives",
                    "Mali",
                    "Malta",
                    "Marshall Islands",
                    "Mauritania",
                    "Mauritius",
                    "Mexico",
                    "Micronesia",
                    "Moldova",
                    "Monaco",
                    "Mongolia",
                    "Montenegro",
                    "Morocco",
                    "Mozambique",
                    "Namibia",
                    "Nauru",
                    "Nepal",
                    "Netherlands",
                    "New Zealand",
                    "Nicaragua",
                    "Niger",
                    "Nigeria",
                    "North Macedonia",
                    "Norway",
                    "Oman",
                    "Pakistan",
                    "Palau",
                    "Panama",
                    "Papua New Guinea",
                    "Paraguay",
                    "Peru",
                    "Philippines",
                    "Poland",
                    "Portugal",
                    "Qatar",
                    "Romania",
                    "Russia",
                    "Rwanda",
                    "Saint Kitts and Nevis",
                    "Saint Lucia",
                    "Saint Vincent and the Grenadines",
                    "Samoa",
                    "San Marino",
                    "Sao Tome and Principe",
                    "Saudi Arabia",
                    "Senegal",
                    "Serbia",
                    "Seychelles",
                    "Sierra Leone",
                    "Singapore",
                    "Slovakia",
                    "Slovenia",
                    "Solomon Islands",
                    "Somalia",
                    "South Africa",
                    "South Sudan",
                    "Spain",
                    "Sri Lanka",
                    "Sudan",
                    "Summer Olympics 2020",
                    "Suriname",
                    "Sweden",
                    "Switzerland",
                    "Syria",
                    "Taiwan*",
                    "Tajikistan",
                    "Tanzania",
                    "Thailand",
                    "Timor-Leste",
                    "Togo",
                    "Tonga",
                    "Trinidad and Tobago",
                    "Tunisia",
                    "Turkey",
                    "Tuvalu",
                    "US",
                    "Uganda",
                    "Ukraine",
                    "United Arab Emirates",
                    "United Kingdom",
                    "Uruguay",
                    "Uzbekistan",
                    "Vanuatu",
                    "Venezuela",
                    "Vietnam",
                    "West Bank and Gaza",
                    "Winter Olympics 2022",
                    "Yemen",
                    "Zambia",
                    "Zimbabwe"
                  ],
                  "name": "",
                  "type": "choropleth",
                  "z": [
                    5.321082438191844,
                    5.524340289927043,
                    5.433763435432326,
                    4.680244837042608,
                    5.0223788761165515,
                    1.041392685158225,
                    3.959327645972171,
                    7.001948081979968,
                    5.6506066654983576,
                    7.05688427900535,
                    6.775329540109298,
                    5.918462842302581,
                    4.573927024542379,
                    5.8516820378620915,
                    6.3091766891103855,
                    5.0285631197609195,
                    5.9974025499876245,
                    6.67572015697576,
                    4.849769411136137,
                    4.447142520548028,
                    4.796761608337888,
                    6.077105068518056,
                    5.603933183699252,
                    5.518195340423742,
                    7.56909349430852,
                    5.446631906250883,
                    6.113115064928628,
                    4.343526753097717,
                    5.802055006177634,
                    4.729415894864111,
                    4.801019329998165,
                    5.142135949393617,
                    5.094792450551137,
                    6.664368810559658,
                    4.186617351853637,
                    3.8853046675889678,
                    6.715358606134562,
                    6.690508305269181,
                    6.803395176468356,
                    3.954628377507271,
                    4.399448729814232,
                    4.981134246904371,
                    6.082686655807126,
                    4.945778684739357,
                    6.103573175931272,
                    6.046355839985413,
                    5.813370795219617,
                    6.66447800313851,
                    6.5379494897231885,
                    2.8524799936368566,
                    4.195622943586937,
                    4.197556213153536,
                    5.82006346200954,
                    6.0241247002920355,
                    5.71244681515461,
                    5.304888879148899,
                    4.236260071000829,
                    4.008131562240663,
                    5.789180779746436,
                    4.870795881034755,
                    5.699070748969895,
                    4.838206615208488,
                    6.165435456751967,
                    7.600610484140984,
                    4.6900276474699645,
                    4.100301604013854,
                    6.261866178370344,
                    7.582620766500635,
                    5.233577320349226,
                    6.744174572828518,
                    4.294025094095323,
                    6.092807284455807,
                    4.582824416378794,
                    3.9523080096621253,
                    4.863768824029474,
                    4.534051502651675,
                    1.462397997898956,
                    5.674171966593871,
                    6.341791310668511,
                    5.320430873919116,
                    7.650217526436624,
                    6.8285455086675055,
                    6.879228442429929,
                    6.391912933483801,
                    6.231597515150392,
                    6.681587087567462,
                    7.408299507075055,
                    5.188692298277557,
                    7.522710701610285,
                    6.242292159198978,
                    6.175705434224161,
                    5.535214344341979,
                    3.7001843296221977,
                    0,
                    7.485941668631686,
                    5.436658700186523,
                    5.822076501599741,
                    5.31535728499024,
                    5.338502311247679,
                    5.9895632711791835,
                    6.090902489522336,
                    4.541454428747589,
                    3.9079485216122722,
                    5.705168113366145,
                    4.331062700600152,
                    6.1164244250634825,
                    5.501561766580811,
                    0.9542425094393249,
                    4.83179941159558,
                    4.947957892001087,
                    6.7028368941672,
                    5.268900764816837,
                    4.519329121549154,
                    5.070444249972947,
                    4.1944865905497055,
                    4.8039212076052245,
                    5.471353329553135,
                    6.874101513100832,
                    4.379269249473647,
                    5.786140709854272,
                    4.207391977978488,
                    6.003417445202194,
                    5.460609219049038,
                    6.104654378072149,
                    5.367754617871908,
                    5.233392128254599,
                    3.719911064198339,
                    6.000500886875943,
                    6.9401594896259455,
                    6.34949394067632,
                    4.194653071952934,
                    3.9780891730561425,
                    5.4258568870424995,
                    5.5401442030490715,
                    6.170116730741402,
                    5.601461338262114,
                    6.197944865032319,
                    3.777499319590365,
                    6.013566479806652,
                    4.670477786047275,
                    5.907626842070151,
                    6.652009590827961,
                    6.610388857202729,
                    6.809220226292497,
                    6.745892073552244,
                    5.6946841543890905,
                    6.5245319071609975,
                    7.34391759186112,
                    5.124484661579165,
                    3.819346484080453,
                    4.47717915679053,
                    3.9817733186277473,
                    4.220291185665156,
                    4.373206340142947,
                    3.798028793404073,
                    5.9191445395807865,
                    4.949028757659224,
                    6.397964675898067,
                    4.704708046987443,
                    3.8898617212581885,
                    6.349334652380931,
                    6.426112731304323,
                    6.124408682581541,
                    4.390493526504173,
                    4.436544276662768,
                    6.609281326938793,
                    4.26406187071788,
                    7.13894747035355,
                    5.8273944769129375,
                    4.805018040452304,
                    2.9370161074648142,
                    4.916280196004338,
                    6.4312574294191345,
                    6.644823572006749,
                    4.759418525871249,
                    6.998735972234275,
                    4.250078287979645,
                    4.6325180284245135,
                    6.674694185317029,
                    4.369568346596548,
                    4.595452128776965,
                    4.225567713439471,
                    5.278566128139911,
                    6.061122863256011,
                    7.231538959865567,
                    3.4479328655921804,
                    8.016208658410486,
                    5.231836444864915,
                    6.756782800466323,
                    6.022516211043052,
                    7.391970265036604,
                    6.014647784358745,
                    5.400100884791832,
                    4.079687627611336,
                    5.742066515019331,
                    7.061716067102157,
                    5.847096154448255,
                    2.7283537820212285,
                    4.077186154085897,
                    5.535465018643814,
                    5.422057724838739
                  ]
                }
              ],
              "layout": {
                "annotations": [
                  {
                    "showarrow": false,
                    "text": "https://joserzapata.github.io/",
                    "x": 0.5,
                    "y": 0
                  }
                ],
                "coloraxis": {
                  "colorbar": {
                    "title": {
                      "text": "color"
                    }
                  },
                  "colorscale": [
                    [
                      0,
                      "rgb(0,0,131)"
                    ],
                    [
                      0.2,
                      "rgb(0,60,170)"
                    ],
                    [
                      0.4,
                      "rgb(5,255,255)"
                    ],
                    [
                      0.6,
                      "rgb(255,255,0)"
                    ],
                    [
                      0.8,
                      "rgb(250,0,0)"
                    ],
                    [
                      1,
                      "rgb(128,0,0)"
                    ]
                  ],
                  "showscale": false
                },
                "geo": {
                  "center": {},
                  "domain": {
                    "x": [
                      0,
                      1
                    ],
                    "y": [
                      0,
                      1
                    ]
                  },
                  "projection": {
                    "type": "natural earth"
                  }
                },
                "legend": {
                  "tracegroupgap": 0
                },
                "template": {
                  "data": {
                    "bar": [
                      {
                        "error_x": {
                          "color": "#2a3f5f"
                        },
                        "error_y": {
                          "color": "#2a3f5f"
                        },
                        "marker": {
                          "line": {
                            "color": "#E5ECF6",
                            "width": 0.5
                          },
                          "pattern": {
                            "fillmode": "overlay",
                            "size": 10,
                            "solidity": 0.2
                          }
                        },
                        "type": "bar"
                      }
                    ],
                    "barpolar": [
                      {
                        "marker": {
                          "line": {
                            "color": "#E5ECF6",
                            "width": 0.5
                          },
                          "pattern": {
                            "fillmode": "overlay",
                            "size": 10,
                            "solidity": 0.2
                          }
                        },
                        "type": "barpolar"
                      }
                    ],
                    "carpet": [
                      {
                        "aaxis": {
                          "endlinecolor": "#2a3f5f",
                          "gridcolor": "white",
                          "linecolor": "white",
                          "minorgridcolor": "white",
                          "startlinecolor": "#2a3f5f"
                        },
                        "baxis": {
                          "endlinecolor": "#2a3f5f",
                          "gridcolor": "white",
                          "linecolor": "white",
                          "minorgridcolor": "white",
                          "startlinecolor": "#2a3f5f"
                        },
                        "type": "carpet"
                      }
                    ],
                    "choropleth": [
                      {
                        "colorbar": {
                          "outlinewidth": 0,
                          "ticks": ""
                        },
                        "type": "choropleth"
                      }
                    ],
                    "contour": [
                      {
                        "colorbar": {
                          "outlinewidth": 0,
                          "ticks": ""
                        },
                        "colorscale": [
                          [
                            0,
                            "#0d0887"
                          ],
                          [
                            0.1111111111111111,
                            "#46039f"
                          ],
                          [
                            0.2222222222222222,
                            "#7201a8"
                          ],
                          [
                            0.3333333333333333,
                            "#9c179e"
                          ],
                          [
                            0.4444444444444444,
                            "#bd3786"
                          ],
                          [
                            0.5555555555555556,
                            "#d8576b"
                          ],
                          [
                            0.6666666666666666,
                            "#ed7953"
                          ],
                          [
                            0.7777777777777778,
                            "#fb9f3a"
                          ],
                          [
                            0.8888888888888888,
                            "#fdca26"
                          ],
                          [
                            1,
                            "#f0f921"
                          ]
                        ],
                        "type": "contour"
                      }
                    ],
                    "contourcarpet": [
                      {
                        "colorbar": {
                          "outlinewidth": 0,
                          "ticks": ""
                        },
                        "type": "contourcarpet"
                      }
                    ],
                    "heatmap": [
                      {
                        "colorbar": {
                          "outlinewidth": 0,
                          "ticks": ""
                        },
                        "colorscale": [
                          [
                            0,
                            "#0d0887"
                          ],
                          [
                            0.1111111111111111,
                            "#46039f"
                          ],
                          [
                            0.2222222222222222,
                            "#7201a8"
                          ],
                          [
                            0.3333333333333333,
                            "#9c179e"
                          ],
                          [
                            0.4444444444444444,
                            "#bd3786"
                          ],
                          [
                            0.5555555555555556,
                            "#d8576b"
                          ],
                          [
                            0.6666666666666666,
                            "#ed7953"
                          ],
                          [
                            0.7777777777777778,
                            "#fb9f3a"
                          ],
                          [
                            0.8888888888888888,
                            "#fdca26"
                          ],
                          [
                            1,
                            "#f0f921"
                          ]
                        ],
                        "type": "heatmap"
                      }
                    ],
                    "heatmapgl": [
                      {
                        "colorbar": {
                          "outlinewidth": 0,
                          "ticks": ""
                        },
                        "colorscale": [
                          [
                            0,
                            "#0d0887"
                          ],
                          [
                            0.1111111111111111,
                            "#46039f"
                          ],
                          [
                            0.2222222222222222,
                            "#7201a8"
                          ],
                          [
                            0.3333333333333333,
                            "#9c179e"
                          ],
                          [
                            0.4444444444444444,
                            "#bd3786"
                          ],
                          [
                            0.5555555555555556,
                            "#d8576b"
                          ],
                          [
                            0.6666666666666666,
                            "#ed7953"
                          ],
                          [
                            0.7777777777777778,
                            "#fb9f3a"
                          ],
                          [
                            0.8888888888888888,
                            "#fdca26"
                          ],
                          [
                            1,
                            "#f0f921"
                          ]
                        ],
                        "type": "heatmapgl"
                      }
                    ],
                    "histogram": [
                      {
                        "marker": {
                          "pattern": {
                            "fillmode": "overlay",
                            "size": 10,
                            "solidity": 0.2
                          }
                        },
                        "type": "histogram"
                      }
                    ],
                    "histogram2d": [
                      {
                        "colorbar": {
                          "outlinewidth": 0,
                          "ticks": ""
                        },
                        "colorscale": [
                          [
                            0,
                            "#0d0887"
                          ],
                          [
                            0.1111111111111111,
                            "#46039f"
                          ],
                          [
                            0.2222222222222222,
                            "#7201a8"
                          ],
                          [
                            0.3333333333333333,
                            "#9c179e"
                          ],
                          [
                            0.4444444444444444,
                            "#bd3786"
                          ],
                          [
                            0.5555555555555556,
                            "#d8576b"
                          ],
                          [
                            0.6666666666666666,
                            "#ed7953"
                          ],
                          [
                            0.7777777777777778,
                            "#fb9f3a"
                          ],
                          [
                            0.8888888888888888,
                            "#fdca26"
                          ],
                          [
                            1,
                            "#f0f921"
                          ]
                        ],
                        "type": "histogram2d"
                      }
                    ],
                    "histogram2dcontour": [
                      {
                        "colorbar": {
                          "outlinewidth": 0,
                          "ticks": ""
                        },
                        "colorscale": [
                          [
                            0,
                            "#0d0887"
                          ],
                          [
                            0.1111111111111111,
                            "#46039f"
                          ],
                          [
                            0.2222222222222222,
                            "#7201a8"
                          ],
                          [
                            0.3333333333333333,
                            "#9c179e"
                          ],
                          [
                            0.4444444444444444,
                            "#bd3786"
                          ],
                          [
                            0.5555555555555556,
                            "#d8576b"
                          ],
                          [
                            0.6666666666666666,
                            "#ed7953"
                          ],
                          [
                            0.7777777777777778,
                            "#fb9f3a"
                          ],
                          [
                            0.8888888888888888,
                            "#fdca26"
                          ],
                          [
                            1,
                            "#f0f921"
                          ]
                        ],
                        "type": "histogram2dcontour"
                      }
                    ],
                    "mesh3d": [
                      {
                        "colorbar": {
                          "outlinewidth": 0,
                          "ticks": ""
                        },
                        "type": "mesh3d"
                      }
                    ],
                    "parcoords": [
                      {
                        "line": {
                          "colorbar": {
                            "outlinewidth": 0,
                            "ticks": ""
                          }
                        },
                        "type": "parcoords"
                      }
                    ],
                    "pie": [
                      {
                        "automargin": true,
                        "type": "pie"
                      }
                    ],
                    "scatter": [
                      {
                        "fillpattern": {
                          "fillmode": "overlay",
                          "size": 10,
                          "solidity": 0.2
                        },
                        "type": "scatter"
                      }
                    ],
                    "scatter3d": [
                      {
                        "line": {
                          "colorbar": {
                            "outlinewidth": 0,
                            "ticks": ""
                          }
                        },
                        "marker": {
                          "colorbar": {
                            "outlinewidth": 0,
                            "ticks": ""
                          }
                        },
                        "type": "scatter3d"
                      }
                    ],
                    "scattercarpet": [
                      {
                        "marker": {
                          "colorbar": {
                            "outlinewidth": 0,
                            "ticks": ""
                          }
                        },
                        "type": "scattercarpet"
                      }
                    ],
                    "scattergeo": [
                      {
                        "marker": {
                          "colorbar": {
                            "outlinewidth": 0,
                            "ticks": ""
                          }
                        },
                        "type": "scattergeo"
                      }
                    ],
                    "scattergl": [
                      {
                        "marker": {
                          "colorbar": {
                            "outlinewidth": 0,
                            "ticks": ""
                          }
                        },
                        "type": "scattergl"
                      }
                    ],
                    "scattermapbox": [
                      {
                        "marker": {
                          "colorbar": {
                            "outlinewidth": 0,
                            "ticks": ""
                          }
                        },
                        "type": "scattermapbox"
                      }
                    ],
                    "scatterpolar": [
                      {
                        "marker": {
                          "colorbar": {
                            "outlinewidth": 0,
                            "ticks": ""
                          }
                        },
                        "type": "scatterpolar"
                      }
                    ],
                    "scatterpolargl": [
                      {
                        "marker": {
                          "colorbar": {
                            "outlinewidth": 0,
                            "ticks": ""
                          }
                        },
                        "type": "scatterpolargl"
                      }
                    ],
                    "scatterternary": [
                      {
                        "marker": {
                          "colorbar": {
                            "outlinewidth": 0,
                            "ticks": ""
                          }
                        },
                        "type": "scatterternary"
                      }
                    ],
                    "surface": [
                      {
                        "colorbar": {
                          "outlinewidth": 0,
                          "ticks": ""
                        },
                        "colorscale": [
                          [
                            0,
                            "#0d0887"
                          ],
                          [
                            0.1111111111111111,
                            "#46039f"
                          ],
                          [
                            0.2222222222222222,
                            "#7201a8"
                          ],
                          [
                            0.3333333333333333,
                            "#9c179e"
                          ],
                          [
                            0.4444444444444444,
                            "#bd3786"
                          ],
                          [
                            0.5555555555555556,
                            "#d8576b"
                          ],
                          [
                            0.6666666666666666,
                            "#ed7953"
                          ],
                          [
                            0.7777777777777778,
                            "#fb9f3a"
                          ],
                          [
                            0.8888888888888888,
                            "#fdca26"
                          ],
                          [
                            1,
                            "#f0f921"
                          ]
                        ],
                        "type": "surface"
                      }
                    ],
                    "table": [
                      {
                        "cells": {
                          "fill": {
                            "color": "#EBF0F8"
                          },
                          "line": {
                            "color": "white"
                          }
                        },
                        "header": {
                          "fill": {
                            "color": "#C8D4E3"
                          },
                          "line": {
                            "color": "white"
                          }
                        },
                        "type": "table"
                      }
                    ]
                  },
                  "layout": {
                    "annotationdefaults": {
                      "arrowcolor": "#2a3f5f",
                      "arrowhead": 0,
                      "arrowwidth": 1
                    },
                    "autotypenumbers": "strict",
                    "coloraxis": {
                      "colorbar": {
                        "outlinewidth": 0,
                        "ticks": ""
                      }
                    },
                    "colorscale": {
                      "diverging": [
                        [
                          0,
                          "#8e0152"
                        ],
                        [
                          0.1,
                          "#c51b7d"
                        ],
                        [
                          0.2,
                          "#de77ae"
                        ],
                        [
                          0.3,
                          "#f1b6da"
                        ],
                        [
                          0.4,
                          "#fde0ef"
                        ],
                        [
                          0.5,
                          "#f7f7f7"
                        ],
                        [
                          0.6,
                          "#e6f5d0"
                        ],
                        [
                          0.7,
                          "#b8e186"
                        ],
                        [
                          0.8,
                          "#7fbc41"
                        ],
                        [
                          0.9,
                          "#4d9221"
                        ],
                        [
                          1,
                          "#276419"
                        ]
                      ],
                      "sequential": [
                        [
                          0,
                          "#0d0887"
                        ],
                        [
                          0.1111111111111111,
                          "#46039f"
                        ],
                        [
                          0.2222222222222222,
                          "#7201a8"
                        ],
                        [
                          0.3333333333333333,
                          "#9c179e"
                        ],
                        [
                          0.4444444444444444,
                          "#bd3786"
                        ],
                        [
                          0.5555555555555556,
                          "#d8576b"
                        ],
                        [
                          0.6666666666666666,
                          "#ed7953"
                        ],
                        [
                          0.7777777777777778,
                          "#fb9f3a"
                        ],
                        [
                          0.8888888888888888,
                          "#fdca26"
                        ],
                        [
                          1,
                          "#f0f921"
                        ]
                      ],
                      "sequentialminus": [
                        [
                          0,
                          "#0d0887"
                        ],
                        [
                          0.1111111111111111,
                          "#46039f"
                        ],
                        [
                          0.2222222222222222,
                          "#7201a8"
                        ],
                        [
                          0.3333333333333333,
                          "#9c179e"
                        ],
                        [
                          0.4444444444444444,
                          "#bd3786"
                        ],
                        [
                          0.5555555555555556,
                          "#d8576b"
                        ],
                        [
                          0.6666666666666666,
                          "#ed7953"
                        ],
                        [
                          0.7777777777777778,
                          "#fb9f3a"
                        ],
                        [
                          0.8888888888888888,
                          "#fdca26"
                        ],
                        [
                          1,
                          "#f0f921"
                        ]
                      ]
                    },
                    "colorway": [
                      "#636efa",
                      "#EF553B",
                      "#00cc96",
                      "#ab63fa",
                      "#FFA15A",
                      "#19d3f3",
                      "#FF6692",
                      "#B6E880",
                      "#FF97FF",
                      "#FECB52"
                    ],
                    "font": {
                      "color": "#2a3f5f"
                    },
                    "geo": {
                      "bgcolor": "white",
                      "lakecolor": "white",
                      "landcolor": "#E5ECF6",
                      "showlakes": true,
                      "showland": true,
                      "subunitcolor": "white"
                    },
                    "hoverlabel": {
                      "align": "left"
                    },
                    "hovermode": "closest",
                    "mapbox": {
                      "style": "light"
                    },
                    "paper_bgcolor": "white",
                    "plot_bgcolor": "#E5ECF6",
                    "polar": {
                      "angularaxis": {
                        "gridcolor": "white",
                        "linecolor": "white",
                        "ticks": ""
                      },
                      "bgcolor": "#E5ECF6",
                      "radialaxis": {
                        "gridcolor": "white",
                        "linecolor": "white",
                        "ticks": ""
                      }
                    },
                    "scene": {
                      "xaxis": {
                        "backgroundcolor": "#E5ECF6",
                        "gridcolor": "white",
                        "gridwidth": 2,
                        "linecolor": "white",
                        "showbackground": true,
                        "ticks": "",
                        "zerolinecolor": "white"
                      },
                      "yaxis": {
                        "backgroundcolor": "#E5ECF6",
                        "gridcolor": "white",
                        "gridwidth": 2,
                        "linecolor": "white",
                        "showbackground": true,
                        "ticks": "",
                        "zerolinecolor": "white"
                      },
                      "zaxis": {
                        "backgroundcolor": "#E5ECF6",
                        "gridcolor": "white",
                        "gridwidth": 2,
                        "linecolor": "white",
                        "showbackground": true,
                        "ticks": "",
                        "zerolinecolor": "white"
                      }
                    },
                    "shapedefaults": {
                      "line": {
                        "color": "#2a3f5f"
                      }
                    },
                    "ternary": {
                      "aaxis": {
                        "gridcolor": "white",
                        "linecolor": "white",
                        "ticks": ""
                      },
                      "baxis": {
                        "gridcolor": "white",
                        "linecolor": "white",
                        "ticks": ""
                      },
                      "bgcolor": "#E5ECF6",
                      "caxis": {
                        "gridcolor": "white",
                        "linecolor": "white",
                        "ticks": ""
                      }
                    },
                    "title": {
                      "x": 0.05
                    },
                    "xaxis": {
                      "automargin": true,
                      "gridcolor": "white",
                      "linecolor": "white",
                      "ticks": "",
                      "title": {
                        "standoff": 15
                      },
                      "zerolinecolor": "white",
                      "zerolinewidth": 2
                    },
                    "yaxis": {
                      "automargin": true,
                      "gridcolor": "white",
                      "linecolor": "white",
                      "ticks": "",
                      "title": {
                        "standoff": 15
                      },
                      "zerolinecolor": "white",
                      "zerolinewidth": 2
                    }
                  }
                },
                "title": {
                  "text": "Mapa de Confirmados COVID 19 por Pais - 3/9/23"
                },
                "width": 900
              }
            }
          },
          "metadata": {},
          "output_type": "display_data"
        }
      ],
      "source": [
        "conf_max = confirmed.iloc[:,-1].copy()\n",
        "conf_max = conf_max.to_frame().reset_index()\n",
        "conf_max = conf_max.rename(columns = {'3/9/23':'Confirmados'})\n",
        "\n",
        "fig = px.choropleth(conf_max, locations=\"Country/Region\", locationmode='country names',\n",
        "                     color=np.log10(conf_max[\"Confirmados\"]),hover_name=\"Country/Region\",\n",
        "                     hover_data = [\"Confirmados\"],\n",
        "                     projection=\"natural earth\", width=900,\n",
        "                     color_continuous_scale = px.colors.sequential.Jet,\n",
        "                     title='Mapa de Confirmados COVID 19 por Pais - 3/9/23')\n",
        "fig.add_annotation(x=0.5, y=0,text='https://joserzapata.github.io/', showarrow=False)\n",
        "fig.update(layout_coloraxis_showscale=False)\n",
        "# grabar grafica en chart-studio si se proporciona el api-key\n",
        "if api_key: py.plot(fig, filename = 'mapa_confirmados_pais', auto_open=False)\n",
        "fig.show()"
      ]
    },
    {
      "cell_type": "markdown",
      "metadata": {
        "id": "dpXpgQip1lfo"
      },
      "source": [
        "# Confirmados vs Muertos por pais"
      ]
    },
    {
      "cell_type": "code",
      "execution_count": 27,
      "metadata": {
        "id": "mUsTPQU63Rf_"
      },
      "outputs": [
        {
          "data": {
            "application/vnd.plotly.v1+json": {
              "config": {
                "plotlyServerURL": "https://plotly.com"
              },
              "data": [
                {
                  "hovertemplate": "Country/Region=%{text}<br>Confirmados=%{marker.size}<br>Muertos=%{y}<extra></extra>",
                  "legendgroup": "US",
                  "marker": {
                    "color": "#636efa",
                    "size": [
                      103802702
                    ],
                    "sizemode": "area",
                    "sizeref": 259506.755,
                    "symbol": "circle"
                  },
                  "mode": "markers+text",
                  "name": "US",
                  "orientation": "v",
                  "showlegend": true,
                  "text": [
                    "US"
                  ],
                  "textposition": "top center",
                  "type": "scatter",
                  "x": [
                    103802702
                  ],
                  "xaxis": "x",
                  "y": [
                    1123836
                  ],
                  "yaxis": "y"
                },
                {
                  "hovertemplate": "Country/Region=%{text}<br>Confirmados=%{marker.size}<br>Muertos=%{y}<extra></extra>",
                  "legendgroup": "Brazil",
                  "marker": {
                    "color": "#EF553B",
                    "size": [
                      37076053
                    ],
                    "sizemode": "area",
                    "sizeref": 259506.755,
                    "symbol": "circle"
                  },
                  "mode": "markers+text",
                  "name": "Brazil",
                  "orientation": "v",
                  "showlegend": true,
                  "text": [
                    "Brazil"
                  ],
                  "textposition": "top center",
                  "type": "scatter",
                  "x": [
                    37076053
                  ],
                  "xaxis": "x",
                  "y": [
                    699276
                  ],
                  "yaxis": "y"
                },
                {
                  "hovertemplate": "Country/Region=%{text}<br>Confirmados=%{marker.size}<br>Muertos=%{y}<extra></extra>",
                  "legendgroup": "India",
                  "marker": {
                    "color": "#00cc96",
                    "size": [
                      44690738
                    ],
                    "sizemode": "area",
                    "sizeref": 259506.755,
                    "symbol": "circle"
                  },
                  "mode": "markers+text",
                  "name": "India",
                  "orientation": "v",
                  "showlegend": true,
                  "text": [
                    "India"
                  ],
                  "textposition": "top center",
                  "type": "scatter",
                  "x": [
                    44690738
                  ],
                  "xaxis": "x",
                  "y": [
                    530779
                  ],
                  "yaxis": "y"
                },
                {
                  "hovertemplate": "Country/Region=%{text}<br>Confirmados=%{marker.size}<br>Muertos=%{y}<extra></extra>",
                  "legendgroup": "Russia",
                  "marker": {
                    "color": "#ab63fa",
                    "size": [
                      22075858
                    ],
                    "sizemode": "area",
                    "sizeref": 259506.755,
                    "symbol": "circle"
                  },
                  "mode": "markers+text",
                  "name": "Russia",
                  "orientation": "v",
                  "showlegend": true,
                  "text": [
                    "Russia"
                  ],
                  "textposition": "top center",
                  "type": "scatter",
                  "x": [
                    22075858
                  ],
                  "xaxis": "x",
                  "y": [
                    388478
                  ],
                  "yaxis": "y"
                },
                {
                  "hovertemplate": "Country/Region=%{text}<br>Confirmados=%{marker.size}<br>Muertos=%{y}<extra></extra>",
                  "legendgroup": "Mexico",
                  "marker": {
                    "color": "#FFA15A",
                    "size": [
                      7483444
                    ],
                    "sizemode": "area",
                    "sizeref": 259506.755,
                    "symbol": "circle"
                  },
                  "mode": "markers+text",
                  "name": "Mexico",
                  "orientation": "v",
                  "showlegend": true,
                  "text": [
                    "Mexico"
                  ],
                  "textposition": "top center",
                  "type": "scatter",
                  "x": [
                    7483444
                  ],
                  "xaxis": "x",
                  "y": [
                    333188
                  ],
                  "yaxis": "y"
                },
                {
                  "hovertemplate": "Country/Region=%{text}<br>Confirmados=%{marker.size}<br>Muertos=%{y}<extra></extra>",
                  "legendgroup": "United Kingdom",
                  "marker": {
                    "color": "#19d3f3",
                    "size": [
                      24658705
                    ],
                    "sizemode": "area",
                    "sizeref": 259506.755,
                    "symbol": "circle"
                  },
                  "mode": "markers+text",
                  "name": "United Kingdom",
                  "orientation": "v",
                  "showlegend": true,
                  "text": [
                    "United Kingdom"
                  ],
                  "textposition": "top center",
                  "type": "scatter",
                  "x": [
                    24658705
                  ],
                  "xaxis": "x",
                  "y": [
                    220721
                  ],
                  "yaxis": "y"
                },
                {
                  "hovertemplate": "Country/Region=%{text}<br>Confirmados=%{marker.size}<br>Muertos=%{y}<extra></extra>",
                  "legendgroup": "Peru",
                  "marker": {
                    "color": "#FF6692",
                    "size": [
                      4487553
                    ],
                    "sizemode": "area",
                    "sizeref": 259506.755,
                    "symbol": "circle"
                  },
                  "mode": "markers+text",
                  "name": "Peru",
                  "orientation": "v",
                  "showlegend": true,
                  "text": [
                    "Peru"
                  ],
                  "textposition": "top center",
                  "type": "scatter",
                  "x": [
                    4487553
                  ],
                  "xaxis": "x",
                  "y": [
                    219539
                  ],
                  "yaxis": "y"
                },
                {
                  "hovertemplate": "Country/Region=%{text}<br>Confirmados=%{marker.size}<br>Muertos=%{y}<extra></extra>",
                  "legendgroup": "Italy",
                  "marker": {
                    "color": "#B6E880",
                    "size": [
                      25603510
                    ],
                    "sizemode": "area",
                    "sizeref": 259506.755,
                    "symbol": "circle"
                  },
                  "mode": "markers+text",
                  "name": "Italy",
                  "orientation": "v",
                  "showlegend": true,
                  "text": [
                    "Italy"
                  ],
                  "textposition": "top center",
                  "type": "scatter",
                  "x": [
                    25603510
                  ],
                  "xaxis": "x",
                  "y": [
                    188322
                  ],
                  "yaxis": "y"
                },
                {
                  "hovertemplate": "Country/Region=%{text}<br>Confirmados=%{marker.size}<br>Muertos=%{y}<extra></extra>",
                  "legendgroup": "Germany",
                  "marker": {
                    "color": "#FF97FF",
                    "size": [
                      38249060
                    ],
                    "sizemode": "area",
                    "sizeref": 259506.755,
                    "symbol": "circle"
                  },
                  "mode": "markers+text",
                  "name": "Germany",
                  "orientation": "v",
                  "showlegend": true,
                  "text": [
                    "Germany"
                  ],
                  "textposition": "top center",
                  "type": "scatter",
                  "x": [
                    38249060
                  ],
                  "xaxis": "x",
                  "y": [
                    168935
                  ],
                  "yaxis": "y"
                },
                {
                  "hovertemplate": "Country/Region=%{text}<br>Confirmados=%{marker.size}<br>Muertos=%{y}<extra></extra>",
                  "legendgroup": "France",
                  "marker": {
                    "color": "#FECB52",
                    "size": [
                      39866718
                    ],
                    "sizemode": "area",
                    "sizeref": 259506.755,
                    "symbol": "circle"
                  },
                  "mode": "markers+text",
                  "name": "France",
                  "orientation": "v",
                  "showlegend": true,
                  "text": [
                    "France"
                  ],
                  "textposition": "top center",
                  "type": "scatter",
                  "x": [
                    39866718
                  ],
                  "xaxis": "x",
                  "y": [
                    166176
                  ],
                  "yaxis": "y"
                },
                {
                  "hovertemplate": "Country/Region=%{text}<br>Confirmados=%{marker.size}<br>Muertos=%{y}<extra></extra>",
                  "legendgroup": "Indonesia",
                  "marker": {
                    "color": "#636efa",
                    "size": [
                      6738225
                    ],
                    "sizemode": "area",
                    "sizeref": 259506.755,
                    "symbol": "circle"
                  },
                  "mode": "markers+text",
                  "name": "Indonesia",
                  "orientation": "v",
                  "showlegend": true,
                  "text": [
                    "Indonesia"
                  ],
                  "textposition": "top center",
                  "type": "scatter",
                  "x": [
                    6738225
                  ],
                  "xaxis": "x",
                  "y": [
                    160941
                  ],
                  "yaxis": "y"
                },
                {
                  "hovertemplate": "Country/Region=%{text}<br>Confirmados=%{marker.size}<br>Muertos=%{y}<extra></extra>",
                  "legendgroup": "Iran",
                  "marker": {
                    "color": "#EF553B",
                    "size": [
                      7572311
                    ],
                    "sizemode": "area",
                    "sizeref": 259506.755,
                    "symbol": "circle"
                  },
                  "mode": "markers+text",
                  "name": "Iran",
                  "orientation": "v",
                  "showlegend": true,
                  "text": [
                    "Iran"
                  ],
                  "textposition": "top center",
                  "type": "scatter",
                  "x": [
                    7572311
                  ],
                  "xaxis": "x",
                  "y": [
                    144933
                  ],
                  "yaxis": "y"
                },
                {
                  "hovertemplate": "Country/Region=%{text}<br>Confirmados=%{marker.size}<br>Muertos=%{y}<extra></extra>",
                  "legendgroup": "Colombia",
                  "marker": {
                    "color": "#00cc96",
                    "size": [
                      6359093
                    ],
                    "sizemode": "area",
                    "sizeref": 259506.755,
                    "symbol": "circle"
                  },
                  "mode": "markers+text",
                  "name": "Colombia",
                  "orientation": "v",
                  "showlegend": true,
                  "text": [
                    "Colombia"
                  ],
                  "textposition": "top center",
                  "type": "scatter",
                  "x": [
                    6359093
                  ],
                  "xaxis": "x",
                  "y": [
                    142339
                  ],
                  "yaxis": "y"
                },
                {
                  "hovertemplate": "Country/Region=%{text}<br>Confirmados=%{marker.size}<br>Muertos=%{y}<extra></extra>",
                  "legendgroup": "Argentina",
                  "marker": {
                    "color": "#ab63fa",
                    "size": [
                      10044957
                    ],
                    "sizemode": "area",
                    "sizeref": 259506.755,
                    "symbol": "circle"
                  },
                  "mode": "markers+text",
                  "name": "Argentina",
                  "orientation": "v",
                  "showlegend": true,
                  "text": [
                    "Argentina"
                  ],
                  "textposition": "top center",
                  "type": "scatter",
                  "x": [
                    10044957
                  ],
                  "xaxis": "x",
                  "y": [
                    130472
                  ],
                  "yaxis": "y"
                },
                {
                  "hovertemplate": "Country/Region=%{text}<br>Confirmados=%{marker.size}<br>Muertos=%{y}<extra></extra>",
                  "legendgroup": "Spain",
                  "marker": {
                    "color": "#FFA15A",
                    "size": [
                      13770429
                    ],
                    "sizemode": "area",
                    "sizeref": 259506.755,
                    "symbol": "circle"
                  },
                  "mode": "markers+text",
                  "name": "Spain",
                  "orientation": "v",
                  "showlegend": true,
                  "text": [
                    "Spain"
                  ],
                  "textposition": "top center",
                  "type": "scatter",
                  "x": [
                    13770429
                  ],
                  "xaxis": "x",
                  "y": [
                    119479
                  ],
                  "yaxis": "y"
                }
              ],
              "layout": {
                "annotations": [
                  {
                    "showarrow": false,
                    "text": "https://joserzapata.github.io/",
                    "x": 0.5,
                    "xref": "paper",
                    "y": 1,
                    "yref": "paper"
                  }
                ],
                "height": 500,
                "legend": {
                  "itemsizing": "constant",
                  "title": {
                    "text": "Country/Region"
                  },
                  "tracegroupgap": 0
                },
                "showlegend": false,
                "template": {
                  "data": {
                    "bar": [
                      {
                        "error_x": {
                          "color": "#2a3f5f"
                        },
                        "error_y": {
                          "color": "#2a3f5f"
                        },
                        "marker": {
                          "line": {
                            "color": "#E5ECF6",
                            "width": 0.5
                          },
                          "pattern": {
                            "fillmode": "overlay",
                            "size": 10,
                            "solidity": 0.2
                          }
                        },
                        "type": "bar"
                      }
                    ],
                    "barpolar": [
                      {
                        "marker": {
                          "line": {
                            "color": "#E5ECF6",
                            "width": 0.5
                          },
                          "pattern": {
                            "fillmode": "overlay",
                            "size": 10,
                            "solidity": 0.2
                          }
                        },
                        "type": "barpolar"
                      }
                    ],
                    "carpet": [
                      {
                        "aaxis": {
                          "endlinecolor": "#2a3f5f",
                          "gridcolor": "white",
                          "linecolor": "white",
                          "minorgridcolor": "white",
                          "startlinecolor": "#2a3f5f"
                        },
                        "baxis": {
                          "endlinecolor": "#2a3f5f",
                          "gridcolor": "white",
                          "linecolor": "white",
                          "minorgridcolor": "white",
                          "startlinecolor": "#2a3f5f"
                        },
                        "type": "carpet"
                      }
                    ],
                    "choropleth": [
                      {
                        "colorbar": {
                          "outlinewidth": 0,
                          "ticks": ""
                        },
                        "type": "choropleth"
                      }
                    ],
                    "contour": [
                      {
                        "colorbar": {
                          "outlinewidth": 0,
                          "ticks": ""
                        },
                        "colorscale": [
                          [
                            0,
                            "#0d0887"
                          ],
                          [
                            0.1111111111111111,
                            "#46039f"
                          ],
                          [
                            0.2222222222222222,
                            "#7201a8"
                          ],
                          [
                            0.3333333333333333,
                            "#9c179e"
                          ],
                          [
                            0.4444444444444444,
                            "#bd3786"
                          ],
                          [
                            0.5555555555555556,
                            "#d8576b"
                          ],
                          [
                            0.6666666666666666,
                            "#ed7953"
                          ],
                          [
                            0.7777777777777778,
                            "#fb9f3a"
                          ],
                          [
                            0.8888888888888888,
                            "#fdca26"
                          ],
                          [
                            1,
                            "#f0f921"
                          ]
                        ],
                        "type": "contour"
                      }
                    ],
                    "contourcarpet": [
                      {
                        "colorbar": {
                          "outlinewidth": 0,
                          "ticks": ""
                        },
                        "type": "contourcarpet"
                      }
                    ],
                    "heatmap": [
                      {
                        "colorbar": {
                          "outlinewidth": 0,
                          "ticks": ""
                        },
                        "colorscale": [
                          [
                            0,
                            "#0d0887"
                          ],
                          [
                            0.1111111111111111,
                            "#46039f"
                          ],
                          [
                            0.2222222222222222,
                            "#7201a8"
                          ],
                          [
                            0.3333333333333333,
                            "#9c179e"
                          ],
                          [
                            0.4444444444444444,
                            "#bd3786"
                          ],
                          [
                            0.5555555555555556,
                            "#d8576b"
                          ],
                          [
                            0.6666666666666666,
                            "#ed7953"
                          ],
                          [
                            0.7777777777777778,
                            "#fb9f3a"
                          ],
                          [
                            0.8888888888888888,
                            "#fdca26"
                          ],
                          [
                            1,
                            "#f0f921"
                          ]
                        ],
                        "type": "heatmap"
                      }
                    ],
                    "heatmapgl": [
                      {
                        "colorbar": {
                          "outlinewidth": 0,
                          "ticks": ""
                        },
                        "colorscale": [
                          [
                            0,
                            "#0d0887"
                          ],
                          [
                            0.1111111111111111,
                            "#46039f"
                          ],
                          [
                            0.2222222222222222,
                            "#7201a8"
                          ],
                          [
                            0.3333333333333333,
                            "#9c179e"
                          ],
                          [
                            0.4444444444444444,
                            "#bd3786"
                          ],
                          [
                            0.5555555555555556,
                            "#d8576b"
                          ],
                          [
                            0.6666666666666666,
                            "#ed7953"
                          ],
                          [
                            0.7777777777777778,
                            "#fb9f3a"
                          ],
                          [
                            0.8888888888888888,
                            "#fdca26"
                          ],
                          [
                            1,
                            "#f0f921"
                          ]
                        ],
                        "type": "heatmapgl"
                      }
                    ],
                    "histogram": [
                      {
                        "marker": {
                          "pattern": {
                            "fillmode": "overlay",
                            "size": 10,
                            "solidity": 0.2
                          }
                        },
                        "type": "histogram"
                      }
                    ],
                    "histogram2d": [
                      {
                        "colorbar": {
                          "outlinewidth": 0,
                          "ticks": ""
                        },
                        "colorscale": [
                          [
                            0,
                            "#0d0887"
                          ],
                          [
                            0.1111111111111111,
                            "#46039f"
                          ],
                          [
                            0.2222222222222222,
                            "#7201a8"
                          ],
                          [
                            0.3333333333333333,
                            "#9c179e"
                          ],
                          [
                            0.4444444444444444,
                            "#bd3786"
                          ],
                          [
                            0.5555555555555556,
                            "#d8576b"
                          ],
                          [
                            0.6666666666666666,
                            "#ed7953"
                          ],
                          [
                            0.7777777777777778,
                            "#fb9f3a"
                          ],
                          [
                            0.8888888888888888,
                            "#fdca26"
                          ],
                          [
                            1,
                            "#f0f921"
                          ]
                        ],
                        "type": "histogram2d"
                      }
                    ],
                    "histogram2dcontour": [
                      {
                        "colorbar": {
                          "outlinewidth": 0,
                          "ticks": ""
                        },
                        "colorscale": [
                          [
                            0,
                            "#0d0887"
                          ],
                          [
                            0.1111111111111111,
                            "#46039f"
                          ],
                          [
                            0.2222222222222222,
                            "#7201a8"
                          ],
                          [
                            0.3333333333333333,
                            "#9c179e"
                          ],
                          [
                            0.4444444444444444,
                            "#bd3786"
                          ],
                          [
                            0.5555555555555556,
                            "#d8576b"
                          ],
                          [
                            0.6666666666666666,
                            "#ed7953"
                          ],
                          [
                            0.7777777777777778,
                            "#fb9f3a"
                          ],
                          [
                            0.8888888888888888,
                            "#fdca26"
                          ],
                          [
                            1,
                            "#f0f921"
                          ]
                        ],
                        "type": "histogram2dcontour"
                      }
                    ],
                    "mesh3d": [
                      {
                        "colorbar": {
                          "outlinewidth": 0,
                          "ticks": ""
                        },
                        "type": "mesh3d"
                      }
                    ],
                    "parcoords": [
                      {
                        "line": {
                          "colorbar": {
                            "outlinewidth": 0,
                            "ticks": ""
                          }
                        },
                        "type": "parcoords"
                      }
                    ],
                    "pie": [
                      {
                        "automargin": true,
                        "type": "pie"
                      }
                    ],
                    "scatter": [
                      {
                        "fillpattern": {
                          "fillmode": "overlay",
                          "size": 10,
                          "solidity": 0.2
                        },
                        "type": "scatter"
                      }
                    ],
                    "scatter3d": [
                      {
                        "line": {
                          "colorbar": {
                            "outlinewidth": 0,
                            "ticks": ""
                          }
                        },
                        "marker": {
                          "colorbar": {
                            "outlinewidth": 0,
                            "ticks": ""
                          }
                        },
                        "type": "scatter3d"
                      }
                    ],
                    "scattercarpet": [
                      {
                        "marker": {
                          "colorbar": {
                            "outlinewidth": 0,
                            "ticks": ""
                          }
                        },
                        "type": "scattercarpet"
                      }
                    ],
                    "scattergeo": [
                      {
                        "marker": {
                          "colorbar": {
                            "outlinewidth": 0,
                            "ticks": ""
                          }
                        },
                        "type": "scattergeo"
                      }
                    ],
                    "scattergl": [
                      {
                        "marker": {
                          "colorbar": {
                            "outlinewidth": 0,
                            "ticks": ""
                          }
                        },
                        "type": "scattergl"
                      }
                    ],
                    "scattermapbox": [
                      {
                        "marker": {
                          "colorbar": {
                            "outlinewidth": 0,
                            "ticks": ""
                          }
                        },
                        "type": "scattermapbox"
                      }
                    ],
                    "scatterpolar": [
                      {
                        "marker": {
                          "colorbar": {
                            "outlinewidth": 0,
                            "ticks": ""
                          }
                        },
                        "type": "scatterpolar"
                      }
                    ],
                    "scatterpolargl": [
                      {
                        "marker": {
                          "colorbar": {
                            "outlinewidth": 0,
                            "ticks": ""
                          }
                        },
                        "type": "scatterpolargl"
                      }
                    ],
                    "scatterternary": [
                      {
                        "marker": {
                          "colorbar": {
                            "outlinewidth": 0,
                            "ticks": ""
                          }
                        },
                        "type": "scatterternary"
                      }
                    ],
                    "surface": [
                      {
                        "colorbar": {
                          "outlinewidth": 0,
                          "ticks": ""
                        },
                        "colorscale": [
                          [
                            0,
                            "#0d0887"
                          ],
                          [
                            0.1111111111111111,
                            "#46039f"
                          ],
                          [
                            0.2222222222222222,
                            "#7201a8"
                          ],
                          [
                            0.3333333333333333,
                            "#9c179e"
                          ],
                          [
                            0.4444444444444444,
                            "#bd3786"
                          ],
                          [
                            0.5555555555555556,
                            "#d8576b"
                          ],
                          [
                            0.6666666666666666,
                            "#ed7953"
                          ],
                          [
                            0.7777777777777778,
                            "#fb9f3a"
                          ],
                          [
                            0.8888888888888888,
                            "#fdca26"
                          ],
                          [
                            1,
                            "#f0f921"
                          ]
                        ],
                        "type": "surface"
                      }
                    ],
                    "table": [
                      {
                        "cells": {
                          "fill": {
                            "color": "#EBF0F8"
                          },
                          "line": {
                            "color": "white"
                          }
                        },
                        "header": {
                          "fill": {
                            "color": "#C8D4E3"
                          },
                          "line": {
                            "color": "white"
                          }
                        },
                        "type": "table"
                      }
                    ]
                  },
                  "layout": {
                    "annotationdefaults": {
                      "arrowcolor": "#2a3f5f",
                      "arrowhead": 0,
                      "arrowwidth": 1
                    },
                    "autotypenumbers": "strict",
                    "coloraxis": {
                      "colorbar": {
                        "outlinewidth": 0,
                        "ticks": ""
                      }
                    },
                    "colorscale": {
                      "diverging": [
                        [
                          0,
                          "#8e0152"
                        ],
                        [
                          0.1,
                          "#c51b7d"
                        ],
                        [
                          0.2,
                          "#de77ae"
                        ],
                        [
                          0.3,
                          "#f1b6da"
                        ],
                        [
                          0.4,
                          "#fde0ef"
                        ],
                        [
                          0.5,
                          "#f7f7f7"
                        ],
                        [
                          0.6,
                          "#e6f5d0"
                        ],
                        [
                          0.7,
                          "#b8e186"
                        ],
                        [
                          0.8,
                          "#7fbc41"
                        ],
                        [
                          0.9,
                          "#4d9221"
                        ],
                        [
                          1,
                          "#276419"
                        ]
                      ],
                      "sequential": [
                        [
                          0,
                          "#0d0887"
                        ],
                        [
                          0.1111111111111111,
                          "#46039f"
                        ],
                        [
                          0.2222222222222222,
                          "#7201a8"
                        ],
                        [
                          0.3333333333333333,
                          "#9c179e"
                        ],
                        [
                          0.4444444444444444,
                          "#bd3786"
                        ],
                        [
                          0.5555555555555556,
                          "#d8576b"
                        ],
                        [
                          0.6666666666666666,
                          "#ed7953"
                        ],
                        [
                          0.7777777777777778,
                          "#fb9f3a"
                        ],
                        [
                          0.8888888888888888,
                          "#fdca26"
                        ],
                        [
                          1,
                          "#f0f921"
                        ]
                      ],
                      "sequentialminus": [
                        [
                          0,
                          "#0d0887"
                        ],
                        [
                          0.1111111111111111,
                          "#46039f"
                        ],
                        [
                          0.2222222222222222,
                          "#7201a8"
                        ],
                        [
                          0.3333333333333333,
                          "#9c179e"
                        ],
                        [
                          0.4444444444444444,
                          "#bd3786"
                        ],
                        [
                          0.5555555555555556,
                          "#d8576b"
                        ],
                        [
                          0.6666666666666666,
                          "#ed7953"
                        ],
                        [
                          0.7777777777777778,
                          "#fb9f3a"
                        ],
                        [
                          0.8888888888888888,
                          "#fdca26"
                        ],
                        [
                          1,
                          "#f0f921"
                        ]
                      ]
                    },
                    "colorway": [
                      "#636efa",
                      "#EF553B",
                      "#00cc96",
                      "#ab63fa",
                      "#FFA15A",
                      "#19d3f3",
                      "#FF6692",
                      "#B6E880",
                      "#FF97FF",
                      "#FECB52"
                    ],
                    "font": {
                      "color": "#2a3f5f"
                    },
                    "geo": {
                      "bgcolor": "white",
                      "lakecolor": "white",
                      "landcolor": "#E5ECF6",
                      "showlakes": true,
                      "showland": true,
                      "subunitcolor": "white"
                    },
                    "hoverlabel": {
                      "align": "left"
                    },
                    "hovermode": "closest",
                    "mapbox": {
                      "style": "light"
                    },
                    "paper_bgcolor": "white",
                    "plot_bgcolor": "#E5ECF6",
                    "polar": {
                      "angularaxis": {
                        "gridcolor": "white",
                        "linecolor": "white",
                        "ticks": ""
                      },
                      "bgcolor": "#E5ECF6",
                      "radialaxis": {
                        "gridcolor": "white",
                        "linecolor": "white",
                        "ticks": ""
                      }
                    },
                    "scene": {
                      "xaxis": {
                        "backgroundcolor": "#E5ECF6",
                        "gridcolor": "white",
                        "gridwidth": 2,
                        "linecolor": "white",
                        "showbackground": true,
                        "ticks": "",
                        "zerolinecolor": "white"
                      },
                      "yaxis": {
                        "backgroundcolor": "#E5ECF6",
                        "gridcolor": "white",
                        "gridwidth": 2,
                        "linecolor": "white",
                        "showbackground": true,
                        "ticks": "",
                        "zerolinecolor": "white"
                      },
                      "zaxis": {
                        "backgroundcolor": "#E5ECF6",
                        "gridcolor": "white",
                        "gridwidth": 2,
                        "linecolor": "white",
                        "showbackground": true,
                        "ticks": "",
                        "zerolinecolor": "white"
                      }
                    },
                    "shapedefaults": {
                      "line": {
                        "color": "#2a3f5f"
                      }
                    },
                    "ternary": {
                      "aaxis": {
                        "gridcolor": "white",
                        "linecolor": "white",
                        "ticks": ""
                      },
                      "baxis": {
                        "gridcolor": "white",
                        "linecolor": "white",
                        "ticks": ""
                      },
                      "bgcolor": "#E5ECF6",
                      "caxis": {
                        "gridcolor": "white",
                        "linecolor": "white",
                        "ticks": ""
                      }
                    },
                    "title": {
                      "x": 0.05
                    },
                    "xaxis": {
                      "automargin": true,
                      "gridcolor": "white",
                      "linecolor": "white",
                      "ticks": "",
                      "title": {
                        "standoff": 15
                      },
                      "zerolinecolor": "white",
                      "zerolinewidth": 2
                    },
                    "yaxis": {
                      "automargin": true,
                      "gridcolor": "white",
                      "linecolor": "white",
                      "ticks": "",
                      "title": {
                        "standoff": 15
                      },
                      "zerolinecolor": "white",
                      "zerolinewidth": 2
                    }
                  }
                },
                "title": {
                  "text": "Muertos vs Confirmados - 3/9/23 - (15 Paises)"
                },
                "width": 900,
                "xaxis": {
                  "anchor": "y",
                  "domain": [
                    0,
                    1
                  ],
                  "title": {
                    "text": "Confirmados"
                  },
                  "type": "log"
                },
                "yaxis": {
                  "anchor": "x",
                  "domain": [
                    0,
                    1
                  ],
                  "title": {
                    "text": "Muertos"
                  },
                  "type": "log"
                }
              }
            }
          },
          "metadata": {},
          "output_type": "display_data"
        }
      ],
      "source": [
        "max_fecha = \"3/9/23\"\n",
        "death_max = death.iloc[:,-1].copy()\n",
        "death_max = death_max.to_frame().reset_index()\n",
        "death_max = death_max.rename(columns = {max_fecha:'Muertos'})\n",
        "\n",
        "maxi_y = death_max[\"Muertos\"].max()\n",
        "maxi_x = conf_max[\"Confirmados\"].max()\n",
        "\n",
        "full_melt_max = pd.merge(conf_max[['Country/Region','Confirmados']],\n",
        "                         death_max[['Country/Region','Muertos']],\n",
        "                         on='Country/Region', how='left')\n",
        "\n",
        "fig = px.scatter(full_melt_max.sort_values('Muertos', ascending=False).iloc[:15, :],\n",
        "                 x='Confirmados', y='Muertos', color='Country/Region',\n",
        "                 size='Confirmados', height=500,width=900,\n",
        "                 text='Country/Region', log_x=True, log_y=True,\n",
        "                 title= f'Muertos vs Confirmados - {max_fecha} - (15 Paises)')\n",
        "fig.add_annotation(x=0.5, y=1, xref=\"paper\",yref=\"paper\",\n",
        "                   text='https://joserzapata.github.io/', showarrow=False)\n",
        "fig.update_traces(textposition='top center')\n",
        "fig.layout.update(showlegend = False)\n",
        "\n",
        "# grabar grafica en chart-studio si se proporciona el api-key\n",
        "if api_key: py.plot(fig, filename = 'scatter_muertos_confirmados', auto_open=False)\n",
        "fig.show()"
      ]
    },
    {
      "cell_type": "code",
      "execution_count": 32,
      "metadata": {},
      "outputs": [
        {
          "data": {
            "text/html": [
              "<div>\n",
              "<style scoped>\n",
              "    .dataframe tbody tr th:only-of-type {\n",
              "        vertical-align: middle;\n",
              "    }\n",
              "\n",
              "    .dataframe tbody tr th {\n",
              "        vertical-align: top;\n",
              "    }\n",
              "\n",
              "    .dataframe thead th {\n",
              "        text-align: right;\n",
              "    }\n",
              "</style>\n",
              "<table border=\"1\" class=\"dataframe\">\n",
              "  <thead>\n",
              "    <tr style=\"text-align: right;\">\n",
              "      <th></th>\n",
              "      <th>Fecha</th>\n",
              "      <th>Confirmados</th>\n",
              "      <th>Recuperados</th>\n",
              "      <th>Muertos</th>\n",
              "      <th>Activos</th>\n",
              "    </tr>\n",
              "  </thead>\n",
              "  <tbody>\n",
              "    <tr>\n",
              "      <th>0</th>\n",
              "      <td>1/22/20</td>\n",
              "      <td>557</td>\n",
              "      <td>30</td>\n",
              "      <td>17</td>\n",
              "      <td>510</td>\n",
              "    </tr>\n",
              "    <tr>\n",
              "      <th>1</th>\n",
              "      <td>1/23/20</td>\n",
              "      <td>657</td>\n",
              "      <td>32</td>\n",
              "      <td>18</td>\n",
              "      <td>607</td>\n",
              "    </tr>\n",
              "    <tr>\n",
              "      <th>2</th>\n",
              "      <td>1/24/20</td>\n",
              "      <td>944</td>\n",
              "      <td>39</td>\n",
              "      <td>26</td>\n",
              "      <td>879</td>\n",
              "    </tr>\n",
              "    <tr>\n",
              "      <th>3</th>\n",
              "      <td>1/25/20</td>\n",
              "      <td>1437</td>\n",
              "      <td>42</td>\n",
              "      <td>42</td>\n",
              "      <td>1353</td>\n",
              "    </tr>\n",
              "    <tr>\n",
              "      <th>4</th>\n",
              "      <td>1/26/20</td>\n",
              "      <td>2120</td>\n",
              "      <td>56</td>\n",
              "      <td>56</td>\n",
              "      <td>2008</td>\n",
              "    </tr>\n",
              "    <tr>\n",
              "      <th>...</th>\n",
              "      <td>...</td>\n",
              "      <td>...</td>\n",
              "      <td>...</td>\n",
              "      <td>...</td>\n",
              "      <td>...</td>\n",
              "    </tr>\n",
              "    <tr>\n",
              "      <th>1138</th>\n",
              "      <td>3/5/23</td>\n",
              "      <td>676024901</td>\n",
              "      <td>0</td>\n",
              "      <td>6877749</td>\n",
              "      <td>669147152</td>\n",
              "    </tr>\n",
              "    <tr>\n",
              "      <th>1139</th>\n",
              "      <td>3/6/23</td>\n",
              "      <td>676082941</td>\n",
              "      <td>0</td>\n",
              "      <td>6878115</td>\n",
              "      <td>669204826</td>\n",
              "    </tr>\n",
              "    <tr>\n",
              "      <th>1140</th>\n",
              "      <td>3/7/23</td>\n",
              "      <td>676213378</td>\n",
              "      <td>0</td>\n",
              "      <td>6879038</td>\n",
              "      <td>669334340</td>\n",
              "    </tr>\n",
              "    <tr>\n",
              "      <th>1141</th>\n",
              "      <td>3/8/23</td>\n",
              "      <td>676392824</td>\n",
              "      <td>0</td>\n",
              "      <td>6880483</td>\n",
              "      <td>669512341</td>\n",
              "    </tr>\n",
              "    <tr>\n",
              "      <th>1142</th>\n",
              "      <td>3/9/23</td>\n",
              "      <td>676570149</td>\n",
              "      <td>0</td>\n",
              "      <td>6881802</td>\n",
              "      <td>669688347</td>\n",
              "    </tr>\n",
              "  </tbody>\n",
              "</table>\n",
              "<p>1037 rows × 5 columns</p>\n",
              "</div>"
            ],
            "text/plain": [
              "        Fecha  Confirmados  Recuperados  Muertos    Activos\n",
              "0     1/22/20          557           30       17        510\n",
              "1     1/23/20          657           32       18        607\n",
              "2     1/24/20          944           39       26        879\n",
              "3     1/25/20         1437           42       42       1353\n",
              "4     1/26/20         2120           56       56       2008\n",
              "...       ...          ...          ...      ...        ...\n",
              "1138   3/5/23    676024901            0  6877749  669147152\n",
              "1139   3/6/23    676082941            0  6878115  669204826\n",
              "1140   3/7/23    676213378            0  6879038  669334340\n",
              "1141   3/8/23    676392824            0  6880483  669512341\n",
              "1142   3/9/23    676570149            0  6881802  669688347\n",
              "\n",
              "[1037 rows x 5 columns]"
            ]
          },
          "execution_count": 32,
          "metadata": {},
          "output_type": "execute_result"
        }
      ],
      "source": [
        "# Tomar los datos hasta el 8/4/21 en base a la columna Fecha\n",
        "fecha_datos_completos = '8/4/21'\n",
        "world.loc[world['Fecha'] <= fecha_datos_completos]\n"
      ]
    },
    {
      "cell_type": "code",
      "execution_count": null,
      "metadata": {},
      "outputs": [],
      "source": [
        "world.tail()    "
      ]
    },
    {
      "cell_type": "markdown",
      "metadata": {
        "id": "3b83uuD9G0yg"
      },
      "source": [
        "## Progresion Mundial en el Tiempo del numero de casos\n"
      ]
    },
    {
      "cell_type": "code",
      "execution_count": null,
      "metadata": {
        "id": "OUcnRkN9lqLk"
      },
      "outputs": [],
      "source": [
        "world_melt = world.melt(id_vars='Fecha', value_vars= list(world.columns)[1:], var_name=None)\n",
        "\n",
        "fig = px.line(world_melt, x=\"Fecha\", y= 'value',\n",
        "              color='variable',  color_discrete_sequence=[\"teal\",\"green\",\"coral\", \"navy\"],\n",
        "              title=f'Total de Casos en el tiempo de COVID 19 - {world.iloc[-1,0]}')\n",
        "for n in list(world.columns)[1:]:\n",
        "  fig.add_annotation(x=world.iloc[-1,0], y=world.loc[world.index[-1],n],\n",
        "                     text=n, xref=\"x\",yref=\"y\",\n",
        "                     showarrow=True, ax=-50, ay=-20)\n",
        "# Indicador de numero total de confirmados\n",
        "fig.add_indicator( title= {'text':'Confirmados', 'font':{'color':'teal'}},\n",
        "                  value = world['Confirmados'].iloc[-1],\n",
        "                  mode = \"number+delta\", delta = {\"reference\": world['Confirmados'\n",
        "                  ].iloc[-2], 'relative': True },domain = {'x': [0, 0.25], 'y': [0.15, .4]})\n",
        "#Indicador numero total de Activos\n",
        "fig.add_indicator(title={'text':'Activos', 'font':{'color':'navy'}},\n",
        "                  value = world['Activos'].iloc[-1],\n",
        "                  mode = \"number+delta\", delta = {\"reference\": world['Activos'\n",
        "                  ].iloc[-2], 'relative': True },domain = {'x': [0, 0.25], 'y': [0.6, .85]})\n",
        "#Indicador numero total de Recuperados\n",
        "fig.add_indicator(title={'text':'Recuperados', 'font':{'color':'green'}},\n",
        "                  value = world['Recuperados'].iloc[-1],\n",
        "                  mode = \"number+delta\", delta = {\"reference\": world['Recuperados'\n",
        "                  ].iloc[-2], 'relative': True },domain = {'x': [0.25, 0.50], 'y': [0.6, .85]})\n",
        "#Indicador numero total de muertos\n",
        "fig.add_indicator(title={'text':'Muertos', 'font':{'color':'coral'}},\n",
        "                  value = world['Muertos'].iloc[-1],\n",
        "                  mode = \"number+delta\", delta = {\"reference\": world['Muertos'\n",
        "                  ].iloc[-2], 'relative': True },domain = {'x': [0.25, 0.5], 'y': [0.15, .4]})\n",
        "fig.add_annotation(x=80, y=world_melt['value'].max(),\n",
        "                   text='https://joserzapata.github.io/', showarrow=False)\n",
        "fig.layout.update(showlegend = False,\n",
        "                  yaxis =  {\"title\": {\"text\": \"Numero de Personas\"}}, # Cambiar texto eje y\n",
        "                  )\n",
        "# grabar grafica en chart-studio si se proporciona el api-key\n",
        "if api_key: py.plot(fig, filename = 'total_casos_serie', auto_open=False)\n",
        "fig.show()"
      ]
    },
    {
      "cell_type": "markdown",
      "metadata": {
        "id": "o-ong5NYHCsT"
      },
      "source": [
        "## Total Casos Confirmados de COVID 19 por Pais (Top 10)\n"
      ]
    },
    {
      "cell_type": "code",
      "execution_count": null,
      "metadata": {
        "id": "iSsXyRwJN8_X"
      },
      "outputs": [],
      "source": [
        "df1 = confirmed_group.copy()\n",
        "# Cambiar el nombre de la columna\n",
        "df1.rename(columns = {'date':'Fecha'}, inplace = True)\n",
        "fecha = df1['Fecha'].iloc[-1] #obtener la fecha del ultimo dato\n",
        "paises = df1.iloc[-1,1:] #obtener la serie sin el primer dato, fecha\n",
        "paises.sort_values(ascending=False, inplace=True)\n",
        "top = 10\n",
        "#keep top countries\n",
        "df1 = df1[[\"Fecha\"] + list(paises[:top].index)]\n",
        "\n",
        "if api_key:\n",
        "    # se toman la serie de tiempo cada 7 dias, por que las graficas\n",
        "    # grandes no se pueden subir a chart-studio con subscripcion gratuita\n",
        "    df1 = df1.iloc[::-7].iloc[::-1]\n",
        "\n",
        "df_melt = df1.melt(id_vars='Fecha', value_vars= list(df1.columns)[1:], var_name=None)\n",
        "\n",
        "fig = px.line(df_melt, x='Fecha' , y='value', color='Country/Region',\n",
        "              color_discrete_sequence=px.colors.qualitative.G10, width=900,\n",
        "              title=f'Total Casos Confirmados de COVID 19 por Pais (Top 10) - {world.iloc[-1,0]}')\n",
        "# top paises mas infectados\n",
        "\n",
        "mas_infectados=[]\n",
        "for n in range(top):\n",
        "  fig.add_annotation(x=fecha, y=paises[n], text=paises.index[n],\n",
        "                     showarrow=True, ax=+30, xref=\"x\",yref=\"y\")\n",
        "  mas_infectados.append(paises.index[n])\n",
        "\n",
        "fig.layout.update(showlegend=False,\n",
        "                  yaxis =  {\"title\": {\"text\": \"Numero de Personas\"}}, # Cambiar texto eje y\n",
        "                  )\n",
        "fig.add_annotation(x=60, y=df_melt['value'].max(),\n",
        "                   text='https://joserzapata.github.io/', showarrow=False)\n",
        "# grabar grafica en chart-studio si se proporciona el api-key\n",
        "if api_key: py.plot(fig, filename = 'total_casos_no_china', auto_open=False)\n",
        "fig.show()"
      ]
    },
    {
      "cell_type": "markdown",
      "metadata": {
        "id": "gPDj3HYfKBIJ"
      },
      "source": [
        "# Animacion del Mapa de Evolucion Temporal del Codiv 19"
      ]
    },
    {
      "cell_type": "code",
      "execution_count": null,
      "metadata": {
        "id": "AQxF9NDpKHtS"
      },
      "outputs": [],
      "source": [
        "if api_key:\n",
        "    # se toman la serie de tiempo cada 18 dias, por que las graficas\n",
        "    # grandes no se pueden subir a chart-studio con subscripcion gratuita\n",
        "    confirmed_melt = confirmed_group.iloc[::-30].iloc[::-1].melt(id_vars=\"date\").copy()\n",
        "    confirmed_melt.rename(columns = {'value':'Confirmados', 'date':'Fecha'}, inplace = True)\n",
        "\n",
        "confirmed_melt['Fecha'] = pd.to_datetime(confirmed_melt['Fecha'])\n",
        "confirmed_melt['Fecha'] = confirmed_melt['Fecha'].dt.strftime('%m/%d/%Y')\n",
        "confirmed_melt['size'] = confirmed_melt['Confirmados'].pow(0.3)\n",
        "confirmed_melt.dropna(inplace=True) #eliminar filas con valores faltantes\n",
        "\n",
        "fig = px.scatter_geo(confirmed_melt, locations=\"Country/Region\", locationmode='country names',\n",
        "                     color=\"Confirmados\", size='size', hover_name=\"Country/Region\",\n",
        "                     range_color= [0, max(confirmed_melt['Confirmados'])+2],\n",
        "                     projection=\"natural earth\", animation_frame=\"Fecha\",\n",
        "                     title='Contagiados COVID 19 en el Tiempo')\n",
        "fig.update(layout_coloraxis_showscale=False)\n",
        "fig.add_annotation(x=0.5, y=-0.1,text='https://joserzapata.github.io/', showarrow=False)\n",
        "# grabar grafica en chart-studio si se proporciona el api-key\n",
        "if api_key: py.plot(fig, filename = 'mapa_evolucion_temporal', auto_open=False)\n",
        "fig.show()"
      ]
    },
    {
      "cell_type": "markdown",
      "metadata": {
        "id": "CU-c2Nw6jH2v"
      },
      "source": [
        "## Numero de Casos COVID 19 en Colombia"
      ]
    },
    {
      "cell_type": "code",
      "execution_count": null,
      "metadata": {
        "id": "NJL6KgRTjG6g"
      },
      "outputs": [],
      "source": [
        "column_names = [\"Fecha\", \"Confirmados\", \"Recuperados\",\"Muertos\", \"Activos\"]\n",
        "colombia = pd.DataFrame(columns = column_names)\n",
        "colombia['Fecha'] = confirmed_group['date']\n",
        "colombia['Confirmados'] = confirmed_group['Colombia']\n",
        "colombia['Muertos'] = death_group['Colombia']\n",
        "colombia['Recuperados'] = recovered_group['Colombia']\n",
        "colombia['Activos'] = colombia['Confirmados'] - colombia['Recuperados'] - colombia['Muertos']\n",
        "df_melt3 = colombia.melt(id_vars='Fecha', value_vars= list(colombia.columns)[1:], var_name=None)\n",
        "fig = px.line(df_melt3, x='Fecha' , y='value', color='variable',\n",
        "              color_discrete_sequence=[\"teal\",\"green\",\"coral\", \"navy\"],\n",
        "              title=f'Corona virus (COVID 19) en Colombia - {colombia.iloc[-1,0]}')\n",
        "# Indicador de numero total de confirmados\n",
        "fig.add_indicator( title= {'text':'Confirmados', 'font':{'color':'teal'}},\n",
        "                  value = colombia['Confirmados'].iloc[-1],\n",
        "                  mode = \"number+delta\", delta = {\"reference\": colombia['Confirmados'\n",
        "                  ].iloc[-2], 'relative': True },domain = {'x': [0, 0.25], 'y': [0.15, .4]})\n",
        "#Indicador numero total de Activos\n",
        "fig.add_indicator(title={'text':'Activos', 'font':{'color':'navy'}},\n",
        "                  value = colombia['Activos'].iloc[-1],\n",
        "                  mode = \"number+delta\", delta = {\"reference\": colombia['Activos'\n",
        "                  ].iloc[-2], 'relative': True },domain = {'x': [0, 0.25], 'y': [0.6, .85]})\n",
        "#Indicador numero total de Recuperados\n",
        "fig.add_indicator(title={'text':'Recuperados', 'font':{'color':'green'}},\n",
        "                  value = colombia['Recuperados'].iloc[-1],\n",
        "                  mode = \"number+delta\", delta = {\"reference\": colombia['Recuperados'\n",
        "                  ].iloc[-2], 'relative': True },domain = {'x': [0.25, 0.50], 'y': [0.6, .85]})\n",
        "#Indicador numero total de muertos\n",
        "fig.add_indicator(title={'text':'Muertos', 'font':{'color':'coral'}},\n",
        "                  value = colombia['Muertos'].iloc[-1],\n",
        "                  mode = \"number+delta\", delta = {\"reference\": colombia['Muertos'\n",
        "                  ].iloc[-2], 'relative': True },domain = {'x': [0.25, 0.5], 'y': [0.15, .4]})\n",
        "fig.add_annotation(x=140, y=df_melt3['value'].max(),\n",
        "                   text='https://joserzapata.github.io/', showarrow=False)\n",
        "fig.layout.update(showlegend=False,\n",
        "                  yaxis =  {\"title\": {\"text\": \"Numero de Personas\"}}, # Cambiar texto eje y\n",
        "                  xaxis =  {\"title\": {\"text\": \"Fecha\"}})\n",
        "# grabar grafica en chart-studio si se proporciona el api-key\n",
        "if api_key: py.plot(fig, filename = 'Colombia_general', auto_open=False)\n",
        "fig.show()"
      ]
    },
    {
      "cell_type": "markdown",
      "metadata": {
        "id": "P7oX7axkfJyq"
      },
      "source": [
        "# Codigo Fuente Jupyter notebook\n",
        "## Ejecutar en Google Colaboratory\n",
        "[![Open In Colab](https://colab.research.google.com/assets/colab-badge.svg)](https://colab.research.google.com/github/JoseRZapata/JoseRZapata.github.io/blob/master/Jupyter_Notebook/Covid19_Visualizacion_es.ipynb)\n",
        "\n",
        "## Ejecutar en MyBinder\n",
        "[![Binder](https://mybinder.org/badge_logo.svg)](https://mybinder.org/v2/gh/JoseRZapata/JoseRZapata.github.io/master?filepath=Jupyter_Notebook/Covid19_Visualizacion_es.ipynb)\n",
        "\n",
        "## Leer en nbviewer\n",
        "[![nbviewer](https://img.shields.io/badge/render-nbviewer-orange.svg)](https://nbviewer.jupyter.org/github/JoseRZapata/JoseRZapata.github.io/blob/master/Jupyter_Notebook/Covid19_Visualizacion_es.ipynb)"
      ]
    },
    {
      "cell_type": "markdown",
      "metadata": {
        "id": "E6mkrGmdxXI4"
      },
      "source": [
        "# Refencias\n",
        "Fuentes de datos, visualizaciones y analisis de datos.\n",
        "\n",
        "- https://github.com/CSSEGISandData/COVID-19\n",
        "- https://www.kaggle.com/imdevskp/covid-19-analysis-viz-prediction-comparisons\n",
        "- https://junye0798.com/post/build-a-dashboard-to-track-the-spread-of-coronavirus-using-dash/\n",
        "- https://github.com/Perishleaf/data-visualisation-scripts/tree/master/dash-2019-coronavirus\n",
        "- https://medium.com/tomas-pueyo/coronavirus-por-qu%C3%A9-debemos-actuar-ya-93079c61e200"
      ]
    }
  ],
  "metadata": {
    "colab": {
      "name": "Covid19_Visualizacion_v3.ipynb",
      "provenance": []
    },
    "kernelspec": {
      "display_name": "Python 3.8.3 ('base')",
      "language": "python",
      "name": "python3"
    },
    "language_info": {
      "codemirror_mode": {
        "name": "ipython",
        "version": 3
      },
      "file_extension": ".py",
      "mimetype": "text/x-python",
      "name": "python",
      "nbconvert_exporter": "python",
      "pygments_lexer": "ipython3",
      "version": "3.10.13"
    },
    "toc": {
      "base_numbering": 1,
      "nav_menu": {},
      "number_sections": true,
      "sideBar": true,
      "skip_h1_title": false,
      "title_cell": "Table of Contents",
      "title_sidebar": "Contents",
      "toc_cell": false,
      "toc_position": {},
      "toc_section_display": true,
      "toc_window_display": false
    },
    "varInspector": {
      "cols": {
        "lenName": 16,
        "lenType": 16,
        "lenVar": 40
      },
      "kernels_config": {
        "python": {
          "delete_cmd_postfix": "",
          "delete_cmd_prefix": "del ",
          "library": "var_list.py",
          "varRefreshCmd": "print(var_dic_list())"
        },
        "r": {
          "delete_cmd_postfix": ") ",
          "delete_cmd_prefix": "rm(",
          "library": "var_list.r",
          "varRefreshCmd": "cat(var_dic_list()) "
        }
      },
      "types_to_exclude": [
        "module",
        "function",
        "builtin_function_or_method",
        "instance",
        "_Feature"
      ],
      "window_display": false
    },
    "vscode": {
      "interpreter": {
        "hash": "447c0f0993c7e50bc10ddc9bd7e362220c6ef046a7e5a6eb2fbe70cad79928d7"
      }
    }
  },
  "nbformat": 4,
  "nbformat_minor": 0
}
