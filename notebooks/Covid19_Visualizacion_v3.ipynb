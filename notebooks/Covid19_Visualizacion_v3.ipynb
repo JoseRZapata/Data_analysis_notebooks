{
  "cells": [
    {
      "cell_type": "markdown",
      "metadata": {
        "id": "AVfznQKR-I--"
      },
      "source": [
        "# Visualizacion del Coronavirus (COVID19) Mundial con plotly\n",
        "por: Jose R. Zapata - https://joserzapata.github.io/\n",
        "\n",
        "\n",
        "Link: https://joserzapata.github.io/post/covid19-visualizacion/\n",
        "\n",
        "He visto en las redes sociales varias visualizaciones de los datos del COVID 19 y queria realizarlos en Python para tener la actualizacion de las graficas\n",
        "actualizadas cada dia, y ademas practicar el uso de [plotly](https://plotly.com/) para visualizacion interactiva.\n",
        "\n",
        "Las Graficas se actualizaran diariamente con los nuevos datos!\n",
        "\n",
        "Informacion extraida de 2019 Novel Coronavirus COVID-19 (2019-nCoV) Data Repository by Johns Hopkins CSSE\n",
        "\n",
        "https://github.com/CSSEGISandData/COVID-19\n",
        "\n",
        "**Actualizaciones**\n",
        "- 25/May/2020 agregar datos de personas recuperadas\n",
        "- 29/May/2020 actualizacion a plotly 0.48\n",
        "- 25/Sep/2020 Mapa Mundial de Confirmados por Pais con choropleth\n",
        "- 24/Nov/2022 Top 10 progresion paises\n",
        "- 21/Oct/2023 actualizar graficas y librerias"
      ]
    },
    {
      "cell_type": "markdown",
      "metadata": {
        "id": "l8tbwHgTf71J"
      },
      "source": [
        "[![Open In Colab](https://colab.research.google.com/assets/colab-badge.svg)](https://colab.research.google.com/github/JoseRZapata/JoseRZapata.github.io/blob/master/Jupyter_Notebook/Covid19_Visualizacion_es.ipynb) [![Binder](https://mybinder.org/badge_logo.svg)](https://mybinder.org/v2/gh/JoseRZapata/JoseRZapata.github.io/master?filepath=Jupyter_Notebook/Covid19_Visualizacion_es.ipynb)  [![nbviewer](https://img.shields.io/badge/render-nbviewer-orange.svg)](https://nbviewer.jupyter.org/github/JoseRZapata/JoseRZapata.github.io/blob/master/Jupyter_Notebook/Covid19_Visualizacion_es.ipynb)"
      ]
    },
    {
      "cell_type": "code",
      "execution_count": 2,
      "metadata": {
        "id": "Fx_yb96YHeOb"
      },
      "outputs": [],
      "source": [
        "import pandas as pd\n",
        "import plotly.express as px\n",
        "import numpy as np\n",
        "\n",
        "#!pip install chart_studio -q\n",
        "import chart_studio"
      ]
    },
    {
      "cell_type": "code",
      "execution_count": 3,
      "metadata": {},
      "outputs": [
        {
          "name": "stdout",
          "output_type": "stream",
          "text": [
            "pandas version:  2.1.1\n",
            "numpy version:  1.26.0\n"
          ]
        }
      ],
      "source": [
        "#print pandas, px an numpy version\n",
        "print('pandas version: ', pd.__version__)\n",
        "print('numpy version: ', np.__version__)"
      ]
    },
    {
      "cell_type": "code",
      "execution_count": 4,
      "metadata": {
        "id": "Ihyj4DOWzcdo",
        "tags": []
      },
      "outputs": [],
      "source": [
        "# Leer archivo con los datos de acceso a chart_studio\n",
        "# si no esta, dejar los campos vacios\n",
        "try:\n",
        "    with open(\"../../info_chart.csv\",\"r\") as f:\n",
        "        info_user = f.read().split(\";\")\n",
        "        username = info_user[0] # your username\n",
        "        api_key = info_user[1] # your api key\n",
        "        print('api_key loaded!')\n",
        "except:\n",
        "    username = '' # your username\n",
        "    api_key =''\n",
        "\n",
        "if api_key: chart_studio.tools.set_credentials_file(username=username, api_key=api_key)\n",
        "import chart_studio.plotly as py"
      ]
    },
    {
      "cell_type": "code",
      "execution_count": 5,
      "metadata": {
        "id": "lT7Dgoqy-YQA"
      },
      "outputs": [],
      "source": [
        "# Leer datos\n",
        "\n",
        "# los datos de personas recuperadas no eran confiables entonces ya solo se tienen los datos de confirmados y muertos\n",
        "\n",
        "confirmed = pd.read_csv('https://github.com/CSSEGISandData/COVID-19/raw/master/csse_covid_19_data/csse_covid_19_time_series/time_series_covid19_confirmed_global.csv')\n",
        "death = pd.read_csv('https://github.com/CSSEGISandData/COVID-19/raw/master/csse_covid_19_data/csse_covid_19_time_series/time_series_covid19_deaths_global.csv')\n",
        "recovered = pd.read_csv('https://github.com/CSSEGISandData/COVID-19/raw/master/csse_covid_19_data/csse_covid_19_time_series/time_series_covid19_recovered_global.csv')\n"
      ]
    },
    {
      "cell_type": "markdown",
      "metadata": {
        "id": "1nocx9xeA5UY"
      },
      "source": [
        "## Datos CSSEGISandData/COVID-19\n",
        "\n",
        "Descripcion de los datos\n",
        "\n",
        "**Province/State:** China - province name; US/Canada/Australia/ - city name, state/province name; Others - name of the event (e.g., \"Diamond Princess\" cruise ship); other countries - blank.\n",
        "\n",
        "**Country/Region:** country/region name conforming to WHO (will be updated).\n",
        "\n",
        "**Last Update:** MM/DD/YYYY HH:mm (24 hour format, in UTC).\n",
        "\n",
        "**Confirmed: **the number of confirmed cases. For Hubei Province: from Feb 13 (GMT +8), we report both clinically diagnosed and lab-confirmed cases. For lab-confirmed cases only (Before Feb 17), please refer to who_covid_19_situation_reports. For Italy, diagnosis standard might be changed since Feb 27 to \"slow the growth of new case numbers.\"\n",
        "\n",
        "**Deaths:** the number of deaths.\n",
        "\n",
        "**Recovered:** the number of recovered cases."
      ]
    },
    {
      "cell_type": "code",
      "execution_count": 84,
      "metadata": {
        "id": "fTZI2C13_rsQ"
      },
      "outputs": [
        {
          "data": {
            "text/html": [
              "<div>\n",
              "<style scoped>\n",
              "    .dataframe tbody tr th:only-of-type {\n",
              "        vertical-align: middle;\n",
              "    }\n",
              "\n",
              "    .dataframe tbody tr th {\n",
              "        vertical-align: top;\n",
              "    }\n",
              "\n",
              "    .dataframe thead th {\n",
              "        text-align: right;\n",
              "    }\n",
              "</style>\n",
              "<table border=\"1\" class=\"dataframe\">\n",
              "  <thead>\n",
              "    <tr style=\"text-align: right;\">\n",
              "      <th></th>\n",
              "      <th>Province/State</th>\n",
              "      <th>Country/Region</th>\n",
              "      <th>Lat</th>\n",
              "      <th>Long</th>\n",
              "      <th>1/22/20</th>\n",
              "      <th>1/23/20</th>\n",
              "      <th>1/24/20</th>\n",
              "      <th>1/25/20</th>\n",
              "    </tr>\n",
              "  </thead>\n",
              "  <tbody>\n",
              "    <tr>\n",
              "      <th>0</th>\n",
              "      <td>NaN</td>\n",
              "      <td>Afghanistan</td>\n",
              "      <td>33.93911</td>\n",
              "      <td>67.709953</td>\n",
              "      <td>0</td>\n",
              "      <td>0</td>\n",
              "      <td>0</td>\n",
              "      <td>0</td>\n",
              "    </tr>\n",
              "    <tr>\n",
              "      <th>1</th>\n",
              "      <td>NaN</td>\n",
              "      <td>Albania</td>\n",
              "      <td>41.15330</td>\n",
              "      <td>20.168300</td>\n",
              "      <td>0</td>\n",
              "      <td>0</td>\n",
              "      <td>0</td>\n",
              "      <td>0</td>\n",
              "    </tr>\n",
              "    <tr>\n",
              "      <th>2</th>\n",
              "      <td>NaN</td>\n",
              "      <td>Algeria</td>\n",
              "      <td>28.03390</td>\n",
              "      <td>1.659600</td>\n",
              "      <td>0</td>\n",
              "      <td>0</td>\n",
              "      <td>0</td>\n",
              "      <td>0</td>\n",
              "    </tr>\n",
              "    <tr>\n",
              "      <th>3</th>\n",
              "      <td>NaN</td>\n",
              "      <td>Andorra</td>\n",
              "      <td>42.50630</td>\n",
              "      <td>1.521800</td>\n",
              "      <td>0</td>\n",
              "      <td>0</td>\n",
              "      <td>0</td>\n",
              "      <td>0</td>\n",
              "    </tr>\n",
              "    <tr>\n",
              "      <th>4</th>\n",
              "      <td>NaN</td>\n",
              "      <td>Angola</td>\n",
              "      <td>-11.20270</td>\n",
              "      <td>17.873900</td>\n",
              "      <td>0</td>\n",
              "      <td>0</td>\n",
              "      <td>0</td>\n",
              "      <td>0</td>\n",
              "    </tr>\n",
              "  </tbody>\n",
              "</table>\n",
              "</div>"
            ],
            "text/plain": [
              "  Province/State Country/Region       Lat       Long  1/22/20  1/23/20  \\\n",
              "0            NaN    Afghanistan  33.93911  67.709953        0        0   \n",
              "1            NaN        Albania  41.15330  20.168300        0        0   \n",
              "2            NaN        Algeria  28.03390   1.659600        0        0   \n",
              "3            NaN        Andorra  42.50630   1.521800        0        0   \n",
              "4            NaN         Angola -11.20270  17.873900        0        0   \n",
              "\n",
              "   1/24/20  1/25/20  \n",
              "0        0        0  \n",
              "1        0        0  \n",
              "2        0        0  \n",
              "3        0        0  \n",
              "4        0        0  "
            ]
          },
          "execution_count": 84,
          "metadata": {},
          "output_type": "execute_result"
        }
      ],
      "source": [
        "confirmed.iloc[:5,:8]"
      ]
    },
    {
      "cell_type": "markdown",
      "metadata": {
        "id": "N2E7F_J4BqN-"
      },
      "source": [
        "## Datos Generales de cada Dataframe"
      ]
    },
    {
      "cell_type": "code",
      "execution_count": 85,
      "metadata": {
        "id": "dKDC24PCCGjq"
      },
      "outputs": [
        {
          "name": "stdout",
          "output_type": "stream",
          "text": [
            "<class 'pandas.core.frame.DataFrame'>\n",
            "RangeIndex: 289 entries, 0 to 288\n",
            "Columns: 1147 entries, Province/State to 3/9/23\n",
            "dtypes: float64(2), int64(1143), object(2)\n",
            "memory usage: 2.5+ MB\n"
          ]
        }
      ],
      "source": [
        "confirmed.info()"
      ]
    },
    {
      "cell_type": "markdown",
      "metadata": {},
      "source": [
        "Paises con multiples datos por Provincia/Estado"
      ]
    },
    {
      "cell_type": "code",
      "execution_count": 15,
      "metadata": {},
      "outputs": [
        {
          "name": "stdout",
          "output_type": "stream",
          "text": [
            "['Australia' 'Canada' 'China' 'Denmark' 'France' 'Netherlands'\n",
            " 'New Zealand' 'United Kingdom']\n"
          ]
        }
      ],
      "source": [
        "print(confirmed\n",
        "      .loc[confirmed['Country/Region'].duplicated(keep=False),\n",
        "           'Country/Region']\n",
        "      .drop_duplicates()\n",
        "      .unique()\n",
        "    )"
      ]
    },
    {
      "cell_type": "markdown",
      "metadata": {},
      "source": [
        "Sumar los datos de cada pais"
      ]
    },
    {
      "cell_type": "code",
      "execution_count": 16,
      "metadata": {},
      "outputs": [],
      "source": [
        "def sumar_datos_region(df: pd.DataFrame)-> pd.DataFrame:\n",
        "    df = df.groupby(['Country/Region']).sum().reset_index()\n",
        "    return df\n",
        "\n",
        "confirmed, death, recovered = (sumar_datos_region(df) \n",
        "                               for df \n",
        "                               in (confirmed, death, recovered))"
      ]
    },
    {
      "cell_type": "code",
      "execution_count": 17,
      "metadata": {},
      "outputs": [],
      "source": [
        "confirmed = sumar_datos_region(confirmed)\n",
        "death = sumar_datos_region(death)\n",
        "recovered = sumar_datos_region(recovered)"
      ]
    },
    {
      "cell_type": "markdown",
      "metadata": {
        "id": "Vh7JPE-MChF2"
      },
      "source": [
        "### Eliminar Ubicacion\n",
        "\n",
        "Se va realizar un analisis general de los datos y No se van a tomar los datos geograficos de *latitud*, *longitud* y los datos de *Province/State* estan incompletos.\n",
        "\n",
        "Solo se realizara un analisis por pais entonces se eliminaran las columnas mencionadas anteriormenten de cada dataframe.\n"
      ]
    },
    {
      "cell_type": "code",
      "execution_count": 86,
      "metadata": {
        "id": "bnNhCaqKDdmC"
      },
      "outputs": [],
      "source": [
        "confirmed, death, recovered = (df.drop(columns=['Lat',\n",
        "                                                'Long',\n",
        "                                                'Province/State']) \n",
        "                               for df \n",
        "                               in (confirmed, death, recovered))"
      ]
    },
    {
      "cell_type": "markdown",
      "metadata": {},
      "source": [
        "### Datos de Personas Recuperadas"
      ]
    },
    {
      "cell_type": "code",
      "execution_count": 87,
      "metadata": {},
      "outputs": [
        {
          "data": {
            "application/vnd.plotly.v1+json": {
              "config": {
                "plotlyServerURL": "https://plotly.com"
              },
              "data": [
                {
                  "hovertemplate": "x=%{x}<br>y=%{y}<extra></extra>",
                  "legendgroup": "",
                  "line": {
                    "color": "#636efa",
                    "dash": "solid"
                  },
                  "marker": {
                    "symbol": "circle"
                  },
                  "mode": "lines",
                  "name": "",
                  "showlegend": false,
                  "type": "scattergl",
                  "x": [
                    "Country/Region",
                    "1/22/20",
                    "1/23/20",
                    "1/24/20",
                    "1/25/20",
                    "1/26/20",
                    "1/27/20",
                    "1/28/20",
                    "1/29/20",
                    "1/30/20",
                    "1/31/20",
                    "2/1/20",
                    "2/2/20",
                    "2/3/20",
                    "2/4/20",
                    "2/5/20",
                    "2/6/20",
                    "2/7/20",
                    "2/8/20",
                    "2/9/20",
                    "2/10/20",
                    "2/11/20",
                    "2/12/20",
                    "2/13/20",
                    "2/14/20",
                    "2/15/20",
                    "2/16/20",
                    "2/17/20",
                    "2/18/20",
                    "2/19/20",
                    "2/20/20",
                    "2/21/20",
                    "2/22/20",
                    "2/23/20",
                    "2/24/20",
                    "2/25/20",
                    "2/26/20",
                    "2/27/20",
                    "2/28/20",
                    "2/29/20",
                    "3/1/20",
                    "3/2/20",
                    "3/3/20",
                    "3/4/20",
                    "3/5/20",
                    "3/6/20",
                    "3/7/20",
                    "3/8/20",
                    "3/9/20",
                    "3/10/20",
                    "3/11/20",
                    "3/12/20",
                    "3/13/20",
                    "3/14/20",
                    "3/15/20",
                    "3/16/20",
                    "3/17/20",
                    "3/18/20",
                    "3/19/20",
                    "3/20/20",
                    "3/21/20",
                    "3/22/20",
                    "3/23/20",
                    "3/24/20",
                    "3/25/20",
                    "3/26/20",
                    "3/27/20",
                    "3/28/20",
                    "3/29/20",
                    "3/30/20",
                    "3/31/20",
                    "4/1/20",
                    "4/2/20",
                    "4/3/20",
                    "4/4/20",
                    "4/5/20",
                    "4/6/20",
                    "4/7/20",
                    "4/8/20",
                    "4/9/20",
                    "4/10/20",
                    "4/11/20",
                    "4/12/20",
                    "4/13/20",
                    "4/14/20",
                    "4/15/20",
                    "4/16/20",
                    "4/17/20",
                    "4/18/20",
                    "4/19/20",
                    "4/20/20",
                    "4/21/20",
                    "4/22/20",
                    "4/23/20",
                    "4/24/20",
                    "4/25/20",
                    "4/26/20",
                    "4/27/20",
                    "4/28/20",
                    "4/29/20",
                    "4/30/20",
                    "5/1/20",
                    "5/2/20",
                    "5/3/20",
                    "5/4/20",
                    "5/5/20",
                    "5/6/20",
                    "5/7/20",
                    "5/8/20",
                    "5/9/20",
                    "5/10/20",
                    "5/11/20",
                    "5/12/20",
                    "5/13/20",
                    "5/14/20",
                    "5/15/20",
                    "5/16/20",
                    "5/17/20",
                    "5/18/20",
                    "5/19/20",
                    "5/20/20",
                    "5/21/20",
                    "5/22/20",
                    "5/23/20",
                    "5/24/20",
                    "5/25/20",
                    "5/26/20",
                    "5/27/20",
                    "5/28/20",
                    "5/29/20",
                    "5/30/20",
                    "5/31/20",
                    "6/1/20",
                    "6/2/20",
                    "6/3/20",
                    "6/4/20",
                    "6/5/20",
                    "6/6/20",
                    "6/7/20",
                    "6/8/20",
                    "6/9/20",
                    "6/10/20",
                    "6/11/20",
                    "6/12/20",
                    "6/13/20",
                    "6/14/20",
                    "6/15/20",
                    "6/16/20",
                    "6/17/20",
                    "6/18/20",
                    "6/19/20",
                    "6/20/20",
                    "6/21/20",
                    "6/22/20",
                    "6/23/20",
                    "6/24/20",
                    "6/25/20",
                    "6/26/20",
                    "6/27/20",
                    "6/28/20",
                    "6/29/20",
                    "6/30/20",
                    "7/1/20",
                    "7/2/20",
                    "7/3/20",
                    "7/4/20",
                    "7/5/20",
                    "7/6/20",
                    "7/7/20",
                    "7/8/20",
                    "7/9/20",
                    "7/10/20",
                    "7/11/20",
                    "7/12/20",
                    "7/13/20",
                    "7/14/20",
                    "7/15/20",
                    "7/16/20",
                    "7/17/20",
                    "7/18/20",
                    "7/19/20",
                    "7/20/20",
                    "7/21/20",
                    "7/22/20",
                    "7/23/20",
                    "7/24/20",
                    "7/25/20",
                    "7/26/20",
                    "7/27/20",
                    "7/28/20",
                    "7/29/20",
                    "7/30/20",
                    "7/31/20",
                    "8/1/20",
                    "8/2/20",
                    "8/3/20",
                    "8/4/20",
                    "8/5/20",
                    "8/6/20",
                    "8/7/20",
                    "8/8/20",
                    "8/9/20",
                    "8/10/20",
                    "8/11/20",
                    "8/12/20",
                    "8/13/20",
                    "8/14/20",
                    "8/15/20",
                    "8/16/20",
                    "8/17/20",
                    "8/18/20",
                    "8/19/20",
                    "8/20/20",
                    "8/21/20",
                    "8/22/20",
                    "8/23/20",
                    "8/24/20",
                    "8/25/20",
                    "8/26/20",
                    "8/27/20",
                    "8/28/20",
                    "8/29/20",
                    "8/30/20",
                    "8/31/20",
                    "9/1/20",
                    "9/2/20",
                    "9/3/20",
                    "9/4/20",
                    "9/5/20",
                    "9/6/20",
                    "9/7/20",
                    "9/8/20",
                    "9/9/20",
                    "9/10/20",
                    "9/11/20",
                    "9/12/20",
                    "9/13/20",
                    "9/14/20",
                    "9/15/20",
                    "9/16/20",
                    "9/17/20",
                    "9/18/20",
                    "9/19/20",
                    "9/20/20",
                    "9/21/20",
                    "9/22/20",
                    "9/23/20",
                    "9/24/20",
                    "9/25/20",
                    "9/26/20",
                    "9/27/20",
                    "9/28/20",
                    "9/29/20",
                    "9/30/20",
                    "10/1/20",
                    "10/2/20",
                    "10/3/20",
                    "10/4/20",
                    "10/5/20",
                    "10/6/20",
                    "10/7/20",
                    "10/8/20",
                    "10/9/20",
                    "10/10/20",
                    "10/11/20",
                    "10/12/20",
                    "10/13/20",
                    "10/14/20",
                    "10/15/20",
                    "10/16/20",
                    "10/17/20",
                    "10/18/20",
                    "10/19/20",
                    "10/20/20",
                    "10/21/20",
                    "10/22/20",
                    "10/23/20",
                    "10/24/20",
                    "10/25/20",
                    "10/26/20",
                    "10/27/20",
                    "10/28/20",
                    "10/29/20",
                    "10/30/20",
                    "10/31/20",
                    "11/1/20",
                    "11/2/20",
                    "11/3/20",
                    "11/4/20",
                    "11/5/20",
                    "11/6/20",
                    "11/7/20",
                    "11/8/20",
                    "11/9/20",
                    "11/10/20",
                    "11/11/20",
                    "11/12/20",
                    "11/13/20",
                    "11/14/20",
                    "11/15/20",
                    "11/16/20",
                    "11/17/20",
                    "11/18/20",
                    "11/19/20",
                    "11/20/20",
                    "11/21/20",
                    "11/22/20",
                    "11/23/20",
                    "11/24/20",
                    "11/25/20",
                    "11/26/20",
                    "11/27/20",
                    "11/28/20",
                    "11/29/20",
                    "11/30/20",
                    "12/1/20",
                    "12/2/20",
                    "12/3/20",
                    "12/4/20",
                    "12/5/20",
                    "12/6/20",
                    "12/7/20",
                    "12/8/20",
                    "12/9/20",
                    "12/10/20",
                    "12/11/20",
                    "12/12/20",
                    "12/13/20",
                    "12/14/20",
                    "12/15/20",
                    "12/16/20",
                    "12/17/20",
                    "12/18/20",
                    "12/19/20",
                    "12/20/20",
                    "12/21/20",
                    "12/22/20",
                    "12/23/20",
                    "12/24/20",
                    "12/25/20",
                    "12/26/20",
                    "12/27/20",
                    "12/28/20",
                    "12/29/20",
                    "12/30/20",
                    "12/31/20",
                    "1/1/21",
                    "1/2/21",
                    "1/3/21",
                    "1/4/21",
                    "1/5/21",
                    "1/6/21",
                    "1/7/21",
                    "1/8/21",
                    "1/9/21",
                    "1/10/21",
                    "1/11/21",
                    "1/12/21",
                    "1/13/21",
                    "1/14/21",
                    "1/15/21",
                    "1/16/21",
                    "1/17/21",
                    "1/18/21",
                    "1/19/21",
                    "1/20/21",
                    "1/21/21",
                    "1/22/21",
                    "1/23/21",
                    "1/24/21",
                    "1/25/21",
                    "1/26/21",
                    "1/27/21",
                    "1/28/21",
                    "1/29/21",
                    "1/30/21",
                    "1/31/21",
                    "2/1/21",
                    "2/2/21",
                    "2/3/21",
                    "2/4/21",
                    "2/5/21",
                    "2/6/21",
                    "2/7/21",
                    "2/8/21",
                    "2/9/21",
                    "2/10/21",
                    "2/11/21",
                    "2/12/21",
                    "2/13/21",
                    "2/14/21",
                    "2/15/21",
                    "2/16/21",
                    "2/17/21",
                    "2/18/21",
                    "2/19/21",
                    "2/20/21",
                    "2/21/21",
                    "2/22/21",
                    "2/23/21",
                    "2/24/21",
                    "2/25/21",
                    "2/26/21",
                    "2/27/21",
                    "2/28/21",
                    "3/1/21",
                    "3/2/21",
                    "3/3/21",
                    "3/4/21",
                    "3/5/21",
                    "3/6/21",
                    "3/7/21",
                    "3/8/21",
                    "3/9/21",
                    "3/10/21",
                    "3/11/21",
                    "3/12/21",
                    "3/13/21",
                    "3/14/21",
                    "3/15/21",
                    "3/16/21",
                    "3/17/21",
                    "3/18/21",
                    "3/19/21",
                    "3/20/21",
                    "3/21/21",
                    "3/22/21",
                    "3/23/21",
                    "3/24/21",
                    "3/25/21",
                    "3/26/21",
                    "3/27/21",
                    "3/28/21",
                    "3/29/21",
                    "3/30/21",
                    "3/31/21",
                    "4/1/21",
                    "4/2/21",
                    "4/3/21",
                    "4/4/21",
                    "4/5/21",
                    "4/6/21",
                    "4/7/21",
                    "4/8/21",
                    "4/9/21",
                    "4/10/21",
                    "4/11/21",
                    "4/12/21",
                    "4/13/21",
                    "4/14/21",
                    "4/15/21",
                    "4/16/21",
                    "4/17/21",
                    "4/18/21",
                    "4/19/21",
                    "4/20/21",
                    "4/21/21",
                    "4/22/21",
                    "4/23/21",
                    "4/24/21",
                    "4/25/21",
                    "4/26/21",
                    "4/27/21",
                    "4/28/21",
                    "4/29/21",
                    "4/30/21",
                    "5/1/21",
                    "5/2/21",
                    "5/3/21",
                    "5/4/21",
                    "5/5/21",
                    "5/6/21",
                    "5/7/21",
                    "5/8/21",
                    "5/9/21",
                    "5/10/21",
                    "5/11/21",
                    "5/12/21",
                    "5/13/21",
                    "5/14/21",
                    "5/15/21",
                    "5/16/21",
                    "5/17/21",
                    "5/18/21",
                    "5/19/21",
                    "5/20/21",
                    "5/21/21",
                    "5/22/21",
                    "5/23/21",
                    "5/24/21",
                    "5/25/21",
                    "5/26/21",
                    "5/27/21",
                    "5/28/21",
                    "5/29/21",
                    "5/30/21",
                    "5/31/21",
                    "6/1/21",
                    "6/2/21",
                    "6/3/21",
                    "6/4/21",
                    "6/5/21",
                    "6/6/21",
                    "6/7/21",
                    "6/8/21",
                    "6/9/21",
                    "6/10/21",
                    "6/11/21",
                    "6/12/21",
                    "6/13/21",
                    "6/14/21",
                    "6/15/21",
                    "6/16/21",
                    "6/17/21",
                    "6/18/21",
                    "6/19/21",
                    "6/20/21",
                    "6/21/21",
                    "6/22/21",
                    "6/23/21",
                    "6/24/21",
                    "6/25/21",
                    "6/26/21",
                    "6/27/21",
                    "6/28/21",
                    "6/29/21",
                    "6/30/21",
                    "7/1/21",
                    "7/2/21",
                    "7/3/21",
                    "7/4/21",
                    "7/5/21",
                    "7/6/21",
                    "7/7/21",
                    "7/8/21",
                    "7/9/21",
                    "7/10/21",
                    "7/11/21",
                    "7/12/21",
                    "7/13/21",
                    "7/14/21",
                    "7/15/21",
                    "7/16/21",
                    "7/17/21",
                    "7/18/21",
                    "7/19/21",
                    "7/20/21",
                    "7/21/21",
                    "7/22/21",
                    "7/23/21",
                    "7/24/21",
                    "7/25/21",
                    "7/26/21",
                    "7/27/21",
                    "7/28/21",
                    "7/29/21",
                    "7/30/21",
                    "7/31/21",
                    "8/1/21",
                    "8/2/21",
                    "8/3/21",
                    "8/4/21",
                    "8/5/21",
                    "8/6/21",
                    "8/7/21",
                    "8/8/21",
                    "8/9/21",
                    "8/10/21",
                    "8/11/21",
                    "8/12/21",
                    "8/13/21",
                    "8/14/21",
                    "8/15/21",
                    "8/16/21",
                    "8/17/21",
                    "8/18/21",
                    "8/19/21",
                    "8/20/21",
                    "8/21/21",
                    "8/22/21",
                    "8/23/21",
                    "8/24/21",
                    "8/25/21",
                    "8/26/21",
                    "8/27/21",
                    "8/28/21",
                    "8/29/21",
                    "8/30/21",
                    "8/31/21",
                    "9/1/21",
                    "9/2/21",
                    "9/3/21",
                    "9/4/21",
                    "9/5/21",
                    "9/6/21",
                    "9/7/21",
                    "9/8/21",
                    "9/9/21",
                    "9/10/21",
                    "9/11/21",
                    "9/12/21",
                    "9/13/21",
                    "9/14/21",
                    "9/15/21",
                    "9/16/21",
                    "9/17/21",
                    "9/18/21",
                    "9/19/21",
                    "9/20/21",
                    "9/21/21",
                    "9/22/21",
                    "9/23/21",
                    "9/24/21",
                    "9/25/21",
                    "9/26/21",
                    "9/27/21",
                    "9/28/21",
                    "9/29/21",
                    "9/30/21",
                    "10/1/21",
                    "10/2/21",
                    "10/3/21",
                    "10/4/21",
                    "10/5/21",
                    "10/6/21",
                    "10/7/21",
                    "10/8/21",
                    "10/9/21",
                    "10/10/21",
                    "10/11/21",
                    "10/12/21",
                    "10/13/21",
                    "10/14/21",
                    "10/15/21",
                    "10/16/21",
                    "10/17/21",
                    "10/18/21",
                    "10/19/21",
                    "10/20/21",
                    "10/21/21",
                    "10/22/21",
                    "10/23/21",
                    "10/24/21",
                    "10/25/21",
                    "10/26/21",
                    "10/27/21",
                    "10/28/21",
                    "10/29/21",
                    "10/30/21",
                    "10/31/21",
                    "11/1/21",
                    "11/2/21",
                    "11/3/21",
                    "11/4/21",
                    "11/5/21",
                    "11/6/21",
                    "11/7/21",
                    "11/8/21",
                    "11/9/21",
                    "11/10/21",
                    "11/11/21",
                    "11/12/21",
                    "11/13/21",
                    "11/14/21",
                    "11/15/21",
                    "11/16/21",
                    "11/17/21",
                    "11/18/21",
                    "11/19/21",
                    "11/20/21",
                    "11/21/21",
                    "11/22/21",
                    "11/23/21",
                    "11/24/21",
                    "11/25/21",
                    "11/26/21",
                    "11/27/21",
                    "11/28/21",
                    "11/29/21",
                    "11/30/21",
                    "12/1/21",
                    "12/2/21",
                    "12/3/21",
                    "12/4/21",
                    "12/5/21",
                    "12/6/21",
                    "12/7/21",
                    "12/8/21",
                    "12/9/21",
                    "12/10/21",
                    "12/11/21",
                    "12/12/21",
                    "12/13/21",
                    "12/14/21",
                    "12/15/21",
                    "12/16/21",
                    "12/17/21",
                    "12/18/21",
                    "12/19/21",
                    "12/20/21",
                    "12/21/21",
                    "12/22/21",
                    "12/23/21",
                    "12/24/21",
                    "12/25/21",
                    "12/26/21",
                    "12/27/21",
                    "12/28/21",
                    "12/29/21",
                    "12/30/21",
                    "12/31/21",
                    "1/1/22",
                    "1/2/22",
                    "1/3/22",
                    "1/4/22",
                    "1/5/22",
                    "1/6/22",
                    "1/7/22",
                    "1/8/22",
                    "1/9/22",
                    "1/10/22",
                    "1/11/22",
                    "1/12/22",
                    "1/13/22",
                    "1/14/22",
                    "1/15/22",
                    "1/16/22",
                    "1/17/22",
                    "1/18/22",
                    "1/19/22",
                    "1/20/22",
                    "1/21/22",
                    "1/22/22",
                    "1/23/22",
                    "1/24/22",
                    "1/25/22",
                    "1/26/22",
                    "1/27/22",
                    "1/28/22",
                    "1/29/22",
                    "1/30/22",
                    "1/31/22",
                    "2/1/22",
                    "2/2/22",
                    "2/3/22",
                    "2/4/22",
                    "2/5/22",
                    "2/6/22",
                    "2/7/22",
                    "2/8/22",
                    "2/9/22",
                    "2/10/22",
                    "2/11/22",
                    "2/12/22",
                    "2/13/22",
                    "2/14/22",
                    "2/15/22",
                    "2/16/22",
                    "2/17/22",
                    "2/18/22",
                    "2/19/22",
                    "2/20/22",
                    "2/21/22",
                    "2/22/22",
                    "2/23/22",
                    "2/24/22",
                    "2/25/22",
                    "2/26/22",
                    "2/27/22",
                    "2/28/22",
                    "3/1/22",
                    "3/2/22",
                    "3/3/22",
                    "3/4/22",
                    "3/5/22",
                    "3/6/22",
                    "3/7/22",
                    "3/8/22",
                    "3/9/22",
                    "3/10/22",
                    "3/11/22",
                    "3/12/22",
                    "3/13/22",
                    "3/14/22",
                    "3/15/22",
                    "3/16/22",
                    "3/17/22",
                    "3/18/22",
                    "3/19/22",
                    "3/20/22",
                    "3/21/22",
                    "3/22/22",
                    "3/23/22",
                    "3/24/22",
                    "3/25/22",
                    "3/26/22",
                    "3/27/22",
                    "3/28/22",
                    "3/29/22",
                    "3/30/22",
                    "3/31/22",
                    "4/1/22",
                    "4/2/22",
                    "4/3/22",
                    "4/4/22",
                    "4/5/22",
                    "4/6/22",
                    "4/7/22",
                    "4/8/22",
                    "4/9/22",
                    "4/10/22",
                    "4/11/22",
                    "4/12/22",
                    "4/13/22",
                    "4/14/22",
                    "4/15/22",
                    "4/16/22",
                    "4/17/22",
                    "4/18/22",
                    "4/19/22",
                    "4/20/22",
                    "4/21/22",
                    "4/22/22",
                    "4/23/22",
                    "4/24/22",
                    "4/25/22",
                    "4/26/22",
                    "4/27/22",
                    "4/28/22",
                    "4/29/22",
                    "4/30/22",
                    "5/1/22",
                    "5/2/22",
                    "5/3/22",
                    "5/4/22",
                    "5/5/22",
                    "5/6/22",
                    "5/7/22",
                    "5/8/22",
                    "5/9/22",
                    "5/10/22",
                    "5/11/22",
                    "5/12/22",
                    "5/13/22",
                    "5/14/22",
                    "5/15/22",
                    "5/16/22",
                    "5/17/22",
                    "5/18/22",
                    "5/19/22",
                    "5/20/22",
                    "5/21/22",
                    "5/22/22",
                    "5/23/22",
                    "5/24/22",
                    "5/25/22",
                    "5/26/22",
                    "5/27/22",
                    "5/28/22",
                    "5/29/22",
                    "5/30/22",
                    "5/31/22",
                    "6/1/22",
                    "6/2/22",
                    "6/3/22",
                    "6/4/22",
                    "6/5/22",
                    "6/6/22",
                    "6/7/22",
                    "6/8/22",
                    "6/9/22",
                    "6/10/22",
                    "6/11/22",
                    "6/12/22",
                    "6/13/22",
                    "6/14/22",
                    "6/15/22",
                    "6/16/22",
                    "6/17/22",
                    "6/18/22",
                    "6/19/22",
                    "6/20/22",
                    "6/21/22",
                    "6/22/22",
                    "6/23/22",
                    "6/24/22",
                    "6/25/22",
                    "6/26/22",
                    "6/27/22",
                    "6/28/22",
                    "6/29/22",
                    "6/30/22",
                    "7/1/22",
                    "7/2/22",
                    "7/3/22",
                    "7/4/22",
                    "7/5/22",
                    "7/6/22",
                    "7/7/22",
                    "7/8/22",
                    "7/9/22",
                    "7/10/22",
                    "7/11/22",
                    "7/12/22",
                    "7/13/22",
                    "7/14/22",
                    "7/15/22",
                    "7/16/22",
                    "7/17/22",
                    "7/18/22",
                    "7/19/22",
                    "7/20/22",
                    "7/21/22",
                    "7/22/22",
                    "7/23/22",
                    "7/24/22",
                    "7/25/22",
                    "7/26/22",
                    "7/27/22",
                    "7/28/22",
                    "7/29/22",
                    "7/30/22",
                    "7/31/22",
                    "8/1/22",
                    "8/2/22",
                    "8/3/22",
                    "8/4/22",
                    "8/5/22",
                    "8/6/22",
                    "8/7/22",
                    "8/8/22",
                    "8/9/22",
                    "8/10/22",
                    "8/11/22",
                    "8/12/22",
                    "8/13/22",
                    "8/14/22",
                    "8/15/22",
                    "8/16/22",
                    "8/17/22",
                    "8/18/22",
                    "8/19/22",
                    "8/20/22",
                    "8/21/22",
                    "8/22/22",
                    "8/23/22",
                    "8/24/22",
                    "8/25/22",
                    "8/26/22",
                    "8/27/22",
                    "8/28/22",
                    "8/29/22",
                    "8/30/22",
                    "8/31/22",
                    "9/1/22",
                    "9/2/22",
                    "9/3/22",
                    "9/4/22",
                    "9/5/22",
                    "9/6/22",
                    "9/7/22",
                    "9/8/22",
                    "9/9/22",
                    "9/10/22",
                    "9/11/22",
                    "9/12/22",
                    "9/13/22",
                    "9/14/22",
                    "9/15/22",
                    "9/16/22",
                    "9/17/22",
                    "9/18/22",
                    "9/19/22",
                    "9/20/22",
                    "9/21/22",
                    "9/22/22",
                    "9/23/22",
                    "9/24/22",
                    "9/25/22",
                    "9/26/22",
                    "9/27/22",
                    "9/28/22",
                    "9/29/22",
                    "9/30/22",
                    "10/1/22",
                    "10/2/22",
                    "10/3/22",
                    "10/4/22",
                    "10/5/22",
                    "10/6/22",
                    "10/7/22",
                    "10/8/22",
                    "10/9/22",
                    "10/10/22",
                    "10/11/22",
                    "10/12/22",
                    "10/13/22",
                    "10/14/22",
                    "10/15/22",
                    "10/16/22",
                    "10/17/22",
                    "10/18/22",
                    "10/19/22",
                    "10/20/22",
                    "10/21/22",
                    "10/22/22",
                    "10/23/22",
                    "10/24/22",
                    "10/25/22",
                    "10/26/22",
                    "10/27/22",
                    "10/28/22",
                    "10/29/22",
                    "10/30/22",
                    "10/31/22",
                    "11/1/22",
                    "11/2/22",
                    "11/3/22",
                    "11/4/22",
                    "11/5/22",
                    "11/6/22",
                    "11/7/22",
                    "11/8/22",
                    "11/9/22",
                    "11/10/22",
                    "11/11/22",
                    "11/12/22",
                    "11/13/22",
                    "11/14/22",
                    "11/15/22",
                    "11/16/22",
                    "11/17/22",
                    "11/18/22",
                    "11/19/22",
                    "11/20/22",
                    "11/21/22",
                    "11/22/22",
                    "11/23/22",
                    "11/24/22",
                    "11/25/22",
                    "11/26/22",
                    "11/27/22",
                    "11/28/22",
                    "11/29/22",
                    "11/30/22",
                    "12/1/22",
                    "12/2/22",
                    "12/3/22",
                    "12/4/22",
                    "12/5/22",
                    "12/6/22",
                    "12/7/22",
                    "12/8/22",
                    "12/9/22",
                    "12/10/22",
                    "12/11/22",
                    "12/12/22",
                    "12/13/22",
                    "12/14/22",
                    "12/15/22",
                    "12/16/22",
                    "12/17/22",
                    "12/18/22",
                    "12/19/22",
                    "12/20/22",
                    "12/21/22",
                    "12/22/22",
                    "12/23/22",
                    "12/24/22",
                    "12/25/22",
                    "12/26/22",
                    "12/27/22",
                    "12/28/22",
                    "12/29/22",
                    "12/30/22",
                    "12/31/22",
                    "1/1/23",
                    "1/2/23",
                    "1/3/23",
                    "1/4/23",
                    "1/5/23",
                    "1/6/23",
                    "1/7/23",
                    "1/8/23",
                    "1/9/23",
                    "1/10/23",
                    "1/11/23",
                    "1/12/23",
                    "1/13/23",
                    "1/14/23",
                    "1/15/23",
                    "1/16/23",
                    "1/17/23",
                    "1/18/23",
                    "1/19/23",
                    "1/20/23",
                    "1/21/23",
                    "1/22/23",
                    "1/23/23",
                    "1/24/23",
                    "1/25/23",
                    "1/26/23",
                    "1/27/23",
                    "1/28/23",
                    "1/29/23",
                    "1/30/23",
                    "1/31/23",
                    "2/1/23",
                    "2/2/23",
                    "2/3/23",
                    "2/4/23",
                    "2/5/23",
                    "2/6/23",
                    "2/7/23",
                    "2/8/23",
                    "2/9/23",
                    "2/10/23",
                    "2/11/23",
                    "2/12/23",
                    "2/13/23",
                    "2/14/23",
                    "2/15/23",
                    "2/16/23",
                    "2/17/23",
                    "2/18/23",
                    "2/19/23",
                    "2/20/23",
                    "2/21/23",
                    "2/22/23",
                    "2/23/23",
                    "2/24/23",
                    "2/25/23",
                    "2/26/23",
                    "2/27/23",
                    "2/28/23",
                    "3/1/23",
                    "3/2/23",
                    "3/3/23",
                    "3/4/23",
                    "3/5/23",
                    "3/6/23",
                    "3/7/23",
                    "3/8/23",
                    "3/9/23"
                  ],
                  "xaxis": "x",
                  "y": [
                    "AfghanistanAlbaniaAlgeriaAndorraAngolaAntarcticaAntigua and BarbudaArgentinaArmeniaAustraliaAustraliaAustraliaAustraliaAustraliaAustraliaAustraliaAustraliaAustriaAzerbaijanBahamasBahrainBangladeshBarbadosBelarusBelgiumBelizeBeninBhutanBoliviaBosnia and HerzegovinaBotswanaBrazilBruneiBulgariaBurkina FasoBurmaBurundiCabo VerdeCambodiaCameroonCanadaCentral African RepublicChadChileChinaChinaChinaChinaChinaChinaChinaChinaChinaChinaChinaChinaChinaChinaChinaChinaChinaChinaChinaChinaChinaChinaChinaChinaChinaChinaChinaChinaChinaChinaChinaChinaChinaChinaColombiaComorosCongo (Brazzaville)Congo (Kinshasa)Costa RicaCote d'IvoireCroatiaCubaCyprusCzechiaDenmarkDenmarkDenmarkDiamond PrincessDjiboutiDominicaDominican RepublicEcuadorEgyptEl SalvadorEquatorial GuineaEritreaEstoniaEswatiniEthiopiaFijiFinlandFranceFranceFranceFranceFranceFranceFranceFranceFranceFranceFranceFranceGabonGambiaGeorgiaGermanyGhanaGreeceGrenadaGuatemalaGuineaGuinea-BissauGuyanaHaitiHoly SeeHondurasHungaryIcelandIndiaIndonesiaIranIraqIrelandIsraelItalyJamaicaJapanJordanKazakhstanKenyaKiribatiKorea, NorthKorea, SouthKosovoKuwaitKyrgyzstanLaosLatviaLebanonLesothoLiberiaLibyaLiechtensteinLithuaniaLuxembourgMS ZaandamMadagascarMalawiMalaysiaMaldivesMaliMaltaMarshall IslandsMauritaniaMauritiusMexicoMicronesiaMoldovaMonacoMongoliaMontenegroMoroccoMozambiqueNamibiaNauruNepalNetherlandsNetherlandsNetherlandsNetherlandsNetherlandsNew ZealandNew ZealandNew ZealandNicaraguaNigerNigeriaNorth MacedoniaNorwayOmanPakistanPalauPanamaPapua New GuineaParaguayPeruPhilippinesPolandPortugalQatarRomaniaRussiaRwandaSaint Kitts and NevisSaint LuciaSaint Vincent and the GrenadinesSamoaSan MarinoSao Tome and PrincipeSaudi ArabiaSenegalSerbiaSeychellesSierra LeoneSingaporeSlovakiaSloveniaSolomon IslandsSomaliaSouth AfricaSouth SudanSpainSri LankaSudanSummer Olympics 2020SurinameSwedenSwitzerlandSyriaTaiwan*TajikistanTanzaniaThailandTimor-LesteTogoTongaTrinidad and TobagoTunisiaTurkeyTuvaluUSUgandaUkraineUnited Arab EmiratesUnited KingdomUnited KingdomUnited KingdomUnited KingdomUnited KingdomUnited KingdomUnited KingdomUnited KingdomUnited KingdomUnited KingdomUnited KingdomUnited KingdomUnited KingdomUnited KingdomUnited KingdomUruguayUzbekistanVanuatuVenezuelaVietnamWest Bank and GazaWinter Olympics 2022YemenZambiaZimbabwe",
                    30,
                    32,
                    39,
                    42,
                    56,
                    65,
                    108,
                    127,
                    145,
                    225,
                    287,
                    476,
                    627,
                    857,
                    1130,
                    1493,
                    2016,
                    2617,
                    3247,
                    3949,
                    4684,
                    5151,
                    6294,
                    8061,
                    9397,
                    10867,
                    12587,
                    14352,
                    16123,
                    18181,
                    18894,
                    22892,
                    23397,
                    25229,
                    27907,
                    30388,
                    33282,
                    36714,
                    39785,
                    42721,
                    45605,
                    48227,
                    51170,
                    53796,
                    55864,
                    58358,
                    60695,
                    62495,
                    64402,
                    66999,
                    68328,
                    70255,
                    72622,
                    76031,
                    78086,
                    80830,
                    83317,
                    84958,
                    87403,
                    91650,
                    97867,
                    98355,
                    107974,
                    113753,
                    122125,
                    130910,
                    139421,
                    148877,
                    164213,
                    177803,
                    193075,
                    210218,
                    225640,
                    246052,
                    259888,
                    276597,
                    299859,
                    328741,
                    353995,
                    375733,
                    401983,
                    421366,
                    448623,
                    473697,
                    510236,
                    541119,
                    567303,
                    591169,
                    622952,
                    645130,
                    679932,
                    710017,
                    738747,
                    788776,
                    816531,
                    845343,
                    873227,
                    906439,
                    948516,
                    1013632,
                    1051789,
                    1092440,
                    1124973,
                    1159059,
                    1195532,
                    1241651,
                    1281176,
                    1317589,
                    1371030,
                    1404839,
                    1451724,
                    1488766,
                    1544638,
                    1584349,
                    1632452,
                    1688863,
                    1729871,
                    1782787,
                    1834839,
                    1893809,
                    1945029,
                    2053576,
                    2108410,
                    2163937,
                    2227666,
                    2282818,
                    2346145,
                    2413008,
                    2490273,
                    2560723,
                    2637107,
                    2692032,
                    2796144,
                    2875235,
                    2945305,
                    3014470,
                    3086674,
                    3141783,
                    3293394,
                    3375664,
                    3454835,
                    3540714,
                    3620434,
                    3706326,
                    3777145,
                    3857420,
                    3955283,
                    4074114,
                    4155277,
                    4250267,
                    4366121,
                    4434807,
                    4526440,
                    4630495,
                    4746246,
                    4839130,
                    4945110,
                    5051396,
                    5140599,
                    5235170,
                    5352510,
                    5468424,
                    5753358,
                    5863246,
                    6059006,
                    6178369,
                    6302068,
                    6447101,
                    6605157,
                    6739775,
                    6879221,
                    7004913,
                    7116749,
                    7257072,
                    7399324,
                    7559130,
                    7711615,
                    7895036,
                    8045823,
                    8133881,
                    8293009,
                    8467705,
                    8647437,
                    8823667,
                    9051967,
                    9271779,
                    9415080,
                    9586463,
                    9756921,
                    9959507,
                    10173026,
                    10372632,
                    10553543,
                    10692267,
                    10914712,
                    11138369,
                    11360064,
                    11548871,
                    11740917,
                    11941161,
                    12119939,
                    12284150,
                    12589218,
                    12829863,
                    12993779,
                    13277021,
                    13445625,
                    13678579,
                    13889591,
                    14117186,
                    14335183,
                    14542973,
                    14711467,
                    14921384,
                    15137915,
                    15337336,
                    15568885,
                    15794619,
                    16001856,
                    16200974,
                    16412387,
                    16622627,
                    16823417,
                    17081379,
                    17300616,
                    17521985,
                    17735486,
                    17936474,
                    18148265,
                    18345813,
                    18547610,
                    18787877,
                    19004538,
                    19228208,
                    19451142,
                    19638990,
                    19867489,
                    20093776,
                    20323253,
                    20543464,
                    20794613,
                    21031598,
                    21268675,
                    21514153,
                    21733546,
                    21996959,
                    22252629,
                    22491837,
                    22753980,
                    22967859,
                    23190401,
                    23431685,
                    23679903,
                    23901445,
                    24073730,
                    24329331,
                    24551490,
                    24788958,
                    25021584,
                    25276775,
                    25496281,
                    25703071,
                    25898476,
                    26121116,
                    26321235,
                    26513680,
                    26725965,
                    26933292,
                    27136306,
                    27334589,
                    27536100,
                    27738631,
                    27950078,
                    28161300,
                    28388093,
                    28594827,
                    28806408,
                    29003666,
                    29242801,
                    29832506,
                    30098468,
                    30345219,
                    30600993,
                    30845322,
                    31103269,
                    31383406,
                    31634979,
                    31914298,
                    32217953,
                    32506314,
                    32805330,
                    33058570,
                    33315623,
                    33572983,
                    33953207,
                    34179446,
                    34481578,
                    34759397,
                    34990157,
                    35380887,
                    35814478,
                    36177588,
                    36551887,
                    36907311,
                    37246581,
                    37520305,
                    37931518,
                    38303697,
                    38741107,
                    39107983,
                    39489609,
                    39849315,
                    40167598,
                    40569854,
                    41046058,
                    41508984,
                    41935968,
                    42426585,
                    42862533,
                    43178577,
                    43591716,
                    44032487,
                    44458967,
                    44950193,
                    45428333,
                    46933276,
                    47328395,
                    41338398,
                    41696562,
                    42058782,
                    42434191,
                    42751919,
                    43103505,
                    43380334,
                    43723554,
                    44086739,
                    44410879,
                    44725551,
                    45017157,
                    45425321,
                    45717709,
                    46016135,
                    46369230,
                    46757475,
                    47055807,
                    47359111,
                    47614296,
                    47882778,
                    48173186,
                    48488547,
                    48801672,
                    49125603,
                    49422866,
                    49753111,
                    50023661,
                    50313949,
                    50657506,
                    51023567,
                    51396412,
                    51717034,
                    52034089,
                    52349804,
                    52668557,
                    53071501,
                    53399272,
                    53765411,
                    54147168,
                    54463661,
                    54774618,
                    55089059,
                    55418602,
                    55759371,
                    56075030,
                    56439137,
                    56790303,
                    57079202,
                    57351844,
                    57702034,
                    58031881,
                    58325870,
                    58607157,
                    58901714,
                    59179149,
                    59411983,
                    59783591,
                    60052899,
                    60328984,
                    60616583,
                    60862826,
                    61058257,
                    61346870,
                    61582275,
                    61876216,
                    62112834,
                    62347470,
                    62616686,
                    62833943,
                    63016513,
                    63295143,
                    63504602,
                    63732294,
                    63992562,
                    64243284,
                    64418461,
                    64633387,
                    64903491,
                    65132899,
                    65383179,
                    65609539,
                    65846042,
                    66084362,
                    66358920,
                    66621153,
                    66856509,
                    67129126,
                    67397682,
                    67650214,
                    67895902,
                    68185781,
                    68452266,
                    68716802,
                    68985878,
                    69264939,
                    69523150,
                    69803249,
                    70137878,
                    70451020,
                    70786662,
                    71098479,
                    71463065,
                    71768318,
                    72097106,
                    72401542,
                    72736785,
                    73119294,
                    73464080,
                    73784287,
                    74150288,
                    74498476,
                    74846289,
                    75216285,
                    75699590,
                    76094849,
                    76548562,
                    76933556,
                    77464028,
                    77858760,
                    78345222,
                    78792112,
                    79236514,
                    79740631,
                    80259167,
                    80839358,
                    81374733,
                    81979570,
                    82491870,
                    83128166,
                    83767998,
                    84344289,
                    84878103,
                    85565469,
                    86246373,
                    86843038,
                    87550354,
                    88236950,
                    88919400,
                    89612414,
                    90255903,
                    90912803,
                    91626285,
                    92301897,
                    92998026,
                    93709031,
                    94371824,
                    95000510,
                    95751514,
                    96399063,
                    97089180,
                    97754527,
                    98397064,
                    99064468,
                    99808930,
                    100552043,
                    101250070,
                    101886759,
                    102501547,
                    103118308,
                    103620279,
                    104247871,
                    104824934,
                    105380747,
                    106078105,
                    106633068,
                    107140668,
                    107630597,
                    108159766,
                    108743649,
                    109272023,
                    109701213,
                    110226715,
                    110704845,
                    111146371,
                    111568368,
                    111983104,
                    112435799,
                    112849488,
                    113225020,
                    113563994,
                    113993655,
                    114340429,
                    114800574,
                    115149801,
                    115530279,
                    115849842,
                    116181692,
                    116446786,
                    116804004,
                    117107408,
                    117507151,
                    117796862,
                    118125509,
                    118420068,
                    118678807,
                    119006263,
                    119299679,
                    119580620,
                    120008476,
                    120299518,
                    120569293,
                    120868181,
                    121235174,
                    121563017,
                    121831180,
                    122123831,
                    122462949,
                    122907153,
                    123197639,
                    123499875,
                    123783322,
                    124113063,
                    124394119,
                    124784824,
                    125065613,
                    125382096,
                    125688817,
                    126008997,
                    126315580,
                    126671708,
                    126918098,
                    127435324,
                    127762741,
                    128063201,
                    128409040,
                    128745703,
                    129094091,
                    129401282,
                    129705211,
                    129994389,
                    130277533,
                    130582001,
                    130899061,
                    0,
                    0,
                    0,
                    0,
                    0,
                    0,
                    0,
                    0,
                    0,
                    0,
                    0,
                    0,
                    0,
                    0,
                    0,
                    0,
                    0,
                    0,
                    0,
                    0,
                    0,
                    0,
                    0,
                    0,
                    0,
                    0,
                    0,
                    0,
                    0,
                    0,
                    0,
                    0,
                    0,
                    0,
                    0,
                    0,
                    0,
                    0,
                    0,
                    0,
                    0,
                    0,
                    0,
                    0,
                    0,
                    0,
                    0,
                    0,
                    0,
                    0,
                    0,
                    0,
                    0,
                    0,
                    0,
                    0,
                    0,
                    0,
                    0,
                    0,
                    0,
                    0,
                    0,
                    0,
                    0,
                    0,
                    0,
                    0,
                    0,
                    0,
                    0,
                    0,
                    0,
                    0,
                    0,
                    0,
                    0,
                    0,
                    0,
                    0,
                    0,
                    0,
                    0,
                    0,
                    0,
                    0,
                    0,
                    0,
                    0,
                    0,
                    0,
                    0,
                    0,
                    0,
                    0,
                    0,
                    0,
                    0,
                    0,
                    0,
                    0,
                    0,
                    0,
                    0,
                    0,
                    0,
                    0,
                    0,
                    0,
                    0,
                    0,
                    0,
                    0,
                    0,
                    0,
                    0,
                    0,
                    0,
                    0,
                    0,
                    0,
                    0,
                    0,
                    0,
                    0,
                    0,
                    0,
                    0,
                    0,
                    0,
                    0,
                    0,
                    0,
                    0,
                    0,
                    0,
                    0,
                    0,
                    0,
                    0,
                    0,
                    0,
                    0,
                    0,
                    0,
                    0,
                    0,
                    0,
                    0,
                    0,
                    0,
                    0,
                    0,
                    0,
                    0,
                    0,
                    0,
                    0,
                    0,
                    0,
                    0,
                    0,
                    0,
                    0,
                    0,
                    0,
                    0,
                    0,
                    0,
                    0,
                    0,
                    0,
                    0,
                    0,
                    0,
                    0,
                    0,
                    0,
                    0,
                    0,
                    0,
                    0,
                    0,
                    0,
                    0,
                    0,
                    0,
                    0,
                    0,
                    0,
                    0,
                    0,
                    0,
                    0,
                    0,
                    0,
                    0,
                    0,
                    0,
                    0,
                    0,
                    0,
                    0,
                    0,
                    0,
                    0,
                    0,
                    0,
                    0,
                    0,
                    0,
                    0,
                    0,
                    0,
                    0,
                    0,
                    0,
                    0,
                    0,
                    0,
                    0,
                    0,
                    0,
                    0,
                    0,
                    0,
                    0,
                    0,
                    0,
                    0,
                    0,
                    0,
                    0,
                    0,
                    0,
                    0,
                    0,
                    0,
                    0,
                    0,
                    0,
                    0,
                    0,
                    0,
                    0,
                    0,
                    0,
                    0,
                    0,
                    0,
                    0,
                    0,
                    0,
                    0,
                    0,
                    0,
                    0,
                    0,
                    0,
                    0,
                    0,
                    0,
                    0,
                    0,
                    0,
                    0,
                    0,
                    0,
                    0,
                    0,
                    0,
                    0,
                    0,
                    0,
                    0,
                    0,
                    0,
                    0,
                    0,
                    0,
                    0,
                    0,
                    0,
                    0,
                    0,
                    0,
                    0,
                    0,
                    0,
                    0,
                    0,
                    0,
                    0,
                    0,
                    0,
                    0,
                    0,
                    0,
                    0,
                    0,
                    0,
                    0,
                    0,
                    0,
                    0,
                    0,
                    0,
                    0,
                    0,
                    0,
                    0,
                    0,
                    0,
                    0,
                    0,
                    0,
                    0,
                    0,
                    0,
                    0,
                    0,
                    0,
                    0,
                    0,
                    0,
                    0,
                    0,
                    0,
                    0,
                    0,
                    0,
                    0,
                    0,
                    0,
                    0,
                    0,
                    0,
                    0,
                    0,
                    0,
                    0,
                    0,
                    0,
                    0,
                    0,
                    0,
                    0,
                    0,
                    0,
                    0,
                    0,
                    0,
                    0,
                    0,
                    0,
                    0,
                    0,
                    0,
                    0,
                    0,
                    0,
                    0,
                    0,
                    0,
                    0,
                    0,
                    0,
                    0,
                    0,
                    0,
                    0,
                    0,
                    0,
                    0,
                    0,
                    0,
                    0,
                    0,
                    0,
                    0,
                    0,
                    0,
                    0,
                    0,
                    0,
                    0,
                    0,
                    0,
                    0,
                    0,
                    0,
                    0,
                    0,
                    0,
                    0,
                    0,
                    0,
                    0,
                    0,
                    0,
                    0,
                    0,
                    0,
                    0,
                    -1,
                    -1,
                    -1,
                    -1,
                    -1,
                    -1,
                    -1,
                    -1,
                    0,
                    0,
                    0,
                    0,
                    0,
                    0,
                    0,
                    0,
                    0,
                    0,
                    0,
                    0,
                    0,
                    0,
                    0,
                    0,
                    0,
                    0,
                    0,
                    0,
                    0,
                    0,
                    0,
                    0,
                    0,
                    0,
                    0,
                    0,
                    0,
                    0,
                    0,
                    0,
                    0,
                    0,
                    0,
                    0,
                    0,
                    0,
                    0,
                    0,
                    0,
                    0,
                    0,
                    0,
                    0,
                    0,
                    0,
                    0,
                    0,
                    0,
                    0,
                    0,
                    0,
                    0,
                    0,
                    0,
                    0,
                    0,
                    0,
                    0,
                    0,
                    0,
                    0,
                    0,
                    0,
                    0,
                    0,
                    0,
                    0,
                    0,
                    0,
                    0,
                    0,
                    0,
                    0,
                    0,
                    0,
                    0,
                    0,
                    0,
                    0,
                    0,
                    0,
                    0,
                    0,
                    0,
                    0,
                    0,
                    0,
                    0,
                    0,
                    0,
                    0,
                    0,
                    0,
                    0,
                    0,
                    0,
                    0,
                    0,
                    0,
                    0,
                    0,
                    0,
                    0,
                    0,
                    0,
                    0,
                    0,
                    0,
                    0,
                    0,
                    0,
                    0,
                    0,
                    0,
                    0,
                    0,
                    0,
                    0,
                    0,
                    0,
                    0,
                    0,
                    0,
                    0,
                    0,
                    0,
                    0,
                    0,
                    0,
                    0,
                    0,
                    0,
                    0,
                    0,
                    0,
                    0,
                    0,
                    0,
                    0,
                    0,
                    0,
                    0,
                    0,
                    0,
                    0,
                    0,
                    0,
                    0,
                    0,
                    0,
                    0,
                    0,
                    0,
                    0,
                    0,
                    0,
                    0,
                    0,
                    0,
                    0,
                    0,
                    0,
                    0,
                    0,
                    0,
                    0,
                    0,
                    0
                  ],
                  "yaxis": "y"
                }
              ],
              "layout": {
                "legend": {
                  "tracegroupgap": 0
                },
                "template": {
                  "data": {
                    "bar": [
                      {
                        "error_x": {
                          "color": "#2a3f5f"
                        },
                        "error_y": {
                          "color": "#2a3f5f"
                        },
                        "marker": {
                          "line": {
                            "color": "#E5ECF6",
                            "width": 0.5
                          },
                          "pattern": {
                            "fillmode": "overlay",
                            "size": 10,
                            "solidity": 0.2
                          }
                        },
                        "type": "bar"
                      }
                    ],
                    "barpolar": [
                      {
                        "marker": {
                          "line": {
                            "color": "#E5ECF6",
                            "width": 0.5
                          },
                          "pattern": {
                            "fillmode": "overlay",
                            "size": 10,
                            "solidity": 0.2
                          }
                        },
                        "type": "barpolar"
                      }
                    ],
                    "carpet": [
                      {
                        "aaxis": {
                          "endlinecolor": "#2a3f5f",
                          "gridcolor": "white",
                          "linecolor": "white",
                          "minorgridcolor": "white",
                          "startlinecolor": "#2a3f5f"
                        },
                        "baxis": {
                          "endlinecolor": "#2a3f5f",
                          "gridcolor": "white",
                          "linecolor": "white",
                          "minorgridcolor": "white",
                          "startlinecolor": "#2a3f5f"
                        },
                        "type": "carpet"
                      }
                    ],
                    "choropleth": [
                      {
                        "colorbar": {
                          "outlinewidth": 0,
                          "ticks": ""
                        },
                        "type": "choropleth"
                      }
                    ],
                    "contour": [
                      {
                        "colorbar": {
                          "outlinewidth": 0,
                          "ticks": ""
                        },
                        "colorscale": [
                          [
                            0,
                            "#0d0887"
                          ],
                          [
                            0.1111111111111111,
                            "#46039f"
                          ],
                          [
                            0.2222222222222222,
                            "#7201a8"
                          ],
                          [
                            0.3333333333333333,
                            "#9c179e"
                          ],
                          [
                            0.4444444444444444,
                            "#bd3786"
                          ],
                          [
                            0.5555555555555556,
                            "#d8576b"
                          ],
                          [
                            0.6666666666666666,
                            "#ed7953"
                          ],
                          [
                            0.7777777777777778,
                            "#fb9f3a"
                          ],
                          [
                            0.8888888888888888,
                            "#fdca26"
                          ],
                          [
                            1,
                            "#f0f921"
                          ]
                        ],
                        "type": "contour"
                      }
                    ],
                    "contourcarpet": [
                      {
                        "colorbar": {
                          "outlinewidth": 0,
                          "ticks": ""
                        },
                        "type": "contourcarpet"
                      }
                    ],
                    "heatmap": [
                      {
                        "colorbar": {
                          "outlinewidth": 0,
                          "ticks": ""
                        },
                        "colorscale": [
                          [
                            0,
                            "#0d0887"
                          ],
                          [
                            0.1111111111111111,
                            "#46039f"
                          ],
                          [
                            0.2222222222222222,
                            "#7201a8"
                          ],
                          [
                            0.3333333333333333,
                            "#9c179e"
                          ],
                          [
                            0.4444444444444444,
                            "#bd3786"
                          ],
                          [
                            0.5555555555555556,
                            "#d8576b"
                          ],
                          [
                            0.6666666666666666,
                            "#ed7953"
                          ],
                          [
                            0.7777777777777778,
                            "#fb9f3a"
                          ],
                          [
                            0.8888888888888888,
                            "#fdca26"
                          ],
                          [
                            1,
                            "#f0f921"
                          ]
                        ],
                        "type": "heatmap"
                      }
                    ],
                    "heatmapgl": [
                      {
                        "colorbar": {
                          "outlinewidth": 0,
                          "ticks": ""
                        },
                        "colorscale": [
                          [
                            0,
                            "#0d0887"
                          ],
                          [
                            0.1111111111111111,
                            "#46039f"
                          ],
                          [
                            0.2222222222222222,
                            "#7201a8"
                          ],
                          [
                            0.3333333333333333,
                            "#9c179e"
                          ],
                          [
                            0.4444444444444444,
                            "#bd3786"
                          ],
                          [
                            0.5555555555555556,
                            "#d8576b"
                          ],
                          [
                            0.6666666666666666,
                            "#ed7953"
                          ],
                          [
                            0.7777777777777778,
                            "#fb9f3a"
                          ],
                          [
                            0.8888888888888888,
                            "#fdca26"
                          ],
                          [
                            1,
                            "#f0f921"
                          ]
                        ],
                        "type": "heatmapgl"
                      }
                    ],
                    "histogram": [
                      {
                        "marker": {
                          "pattern": {
                            "fillmode": "overlay",
                            "size": 10,
                            "solidity": 0.2
                          }
                        },
                        "type": "histogram"
                      }
                    ],
                    "histogram2d": [
                      {
                        "colorbar": {
                          "outlinewidth": 0,
                          "ticks": ""
                        },
                        "colorscale": [
                          [
                            0,
                            "#0d0887"
                          ],
                          [
                            0.1111111111111111,
                            "#46039f"
                          ],
                          [
                            0.2222222222222222,
                            "#7201a8"
                          ],
                          [
                            0.3333333333333333,
                            "#9c179e"
                          ],
                          [
                            0.4444444444444444,
                            "#bd3786"
                          ],
                          [
                            0.5555555555555556,
                            "#d8576b"
                          ],
                          [
                            0.6666666666666666,
                            "#ed7953"
                          ],
                          [
                            0.7777777777777778,
                            "#fb9f3a"
                          ],
                          [
                            0.8888888888888888,
                            "#fdca26"
                          ],
                          [
                            1,
                            "#f0f921"
                          ]
                        ],
                        "type": "histogram2d"
                      }
                    ],
                    "histogram2dcontour": [
                      {
                        "colorbar": {
                          "outlinewidth": 0,
                          "ticks": ""
                        },
                        "colorscale": [
                          [
                            0,
                            "#0d0887"
                          ],
                          [
                            0.1111111111111111,
                            "#46039f"
                          ],
                          [
                            0.2222222222222222,
                            "#7201a8"
                          ],
                          [
                            0.3333333333333333,
                            "#9c179e"
                          ],
                          [
                            0.4444444444444444,
                            "#bd3786"
                          ],
                          [
                            0.5555555555555556,
                            "#d8576b"
                          ],
                          [
                            0.6666666666666666,
                            "#ed7953"
                          ],
                          [
                            0.7777777777777778,
                            "#fb9f3a"
                          ],
                          [
                            0.8888888888888888,
                            "#fdca26"
                          ],
                          [
                            1,
                            "#f0f921"
                          ]
                        ],
                        "type": "histogram2dcontour"
                      }
                    ],
                    "mesh3d": [
                      {
                        "colorbar": {
                          "outlinewidth": 0,
                          "ticks": ""
                        },
                        "type": "mesh3d"
                      }
                    ],
                    "parcoords": [
                      {
                        "line": {
                          "colorbar": {
                            "outlinewidth": 0,
                            "ticks": ""
                          }
                        },
                        "type": "parcoords"
                      }
                    ],
                    "pie": [
                      {
                        "automargin": true,
                        "type": "pie"
                      }
                    ],
                    "scatter": [
                      {
                        "fillpattern": {
                          "fillmode": "overlay",
                          "size": 10,
                          "solidity": 0.2
                        },
                        "type": "scatter"
                      }
                    ],
                    "scatter3d": [
                      {
                        "line": {
                          "colorbar": {
                            "outlinewidth": 0,
                            "ticks": ""
                          }
                        },
                        "marker": {
                          "colorbar": {
                            "outlinewidth": 0,
                            "ticks": ""
                          }
                        },
                        "type": "scatter3d"
                      }
                    ],
                    "scattercarpet": [
                      {
                        "marker": {
                          "colorbar": {
                            "outlinewidth": 0,
                            "ticks": ""
                          }
                        },
                        "type": "scattercarpet"
                      }
                    ],
                    "scattergeo": [
                      {
                        "marker": {
                          "colorbar": {
                            "outlinewidth": 0,
                            "ticks": ""
                          }
                        },
                        "type": "scattergeo"
                      }
                    ],
                    "scattergl": [
                      {
                        "marker": {
                          "colorbar": {
                            "outlinewidth": 0,
                            "ticks": ""
                          }
                        },
                        "type": "scattergl"
                      }
                    ],
                    "scattermapbox": [
                      {
                        "marker": {
                          "colorbar": {
                            "outlinewidth": 0,
                            "ticks": ""
                          }
                        },
                        "type": "scattermapbox"
                      }
                    ],
                    "scatterpolar": [
                      {
                        "marker": {
                          "colorbar": {
                            "outlinewidth": 0,
                            "ticks": ""
                          }
                        },
                        "type": "scatterpolar"
                      }
                    ],
                    "scatterpolargl": [
                      {
                        "marker": {
                          "colorbar": {
                            "outlinewidth": 0,
                            "ticks": ""
                          }
                        },
                        "type": "scatterpolargl"
                      }
                    ],
                    "scatterternary": [
                      {
                        "marker": {
                          "colorbar": {
                            "outlinewidth": 0,
                            "ticks": ""
                          }
                        },
                        "type": "scatterternary"
                      }
                    ],
                    "surface": [
                      {
                        "colorbar": {
                          "outlinewidth": 0,
                          "ticks": ""
                        },
                        "colorscale": [
                          [
                            0,
                            "#0d0887"
                          ],
                          [
                            0.1111111111111111,
                            "#46039f"
                          ],
                          [
                            0.2222222222222222,
                            "#7201a8"
                          ],
                          [
                            0.3333333333333333,
                            "#9c179e"
                          ],
                          [
                            0.4444444444444444,
                            "#bd3786"
                          ],
                          [
                            0.5555555555555556,
                            "#d8576b"
                          ],
                          [
                            0.6666666666666666,
                            "#ed7953"
                          ],
                          [
                            0.7777777777777778,
                            "#fb9f3a"
                          ],
                          [
                            0.8888888888888888,
                            "#fdca26"
                          ],
                          [
                            1,
                            "#f0f921"
                          ]
                        ],
                        "type": "surface"
                      }
                    ],
                    "table": [
                      {
                        "cells": {
                          "fill": {
                            "color": "#EBF0F8"
                          },
                          "line": {
                            "color": "white"
                          }
                        },
                        "header": {
                          "fill": {
                            "color": "#C8D4E3"
                          },
                          "line": {
                            "color": "white"
                          }
                        },
                        "type": "table"
                      }
                    ]
                  },
                  "layout": {
                    "annotationdefaults": {
                      "arrowcolor": "#2a3f5f",
                      "arrowhead": 0,
                      "arrowwidth": 1
                    },
                    "autotypenumbers": "strict",
                    "coloraxis": {
                      "colorbar": {
                        "outlinewidth": 0,
                        "ticks": ""
                      }
                    },
                    "colorscale": {
                      "diverging": [
                        [
                          0,
                          "#8e0152"
                        ],
                        [
                          0.1,
                          "#c51b7d"
                        ],
                        [
                          0.2,
                          "#de77ae"
                        ],
                        [
                          0.3,
                          "#f1b6da"
                        ],
                        [
                          0.4,
                          "#fde0ef"
                        ],
                        [
                          0.5,
                          "#f7f7f7"
                        ],
                        [
                          0.6,
                          "#e6f5d0"
                        ],
                        [
                          0.7,
                          "#b8e186"
                        ],
                        [
                          0.8,
                          "#7fbc41"
                        ],
                        [
                          0.9,
                          "#4d9221"
                        ],
                        [
                          1,
                          "#276419"
                        ]
                      ],
                      "sequential": [
                        [
                          0,
                          "#0d0887"
                        ],
                        [
                          0.1111111111111111,
                          "#46039f"
                        ],
                        [
                          0.2222222222222222,
                          "#7201a8"
                        ],
                        [
                          0.3333333333333333,
                          "#9c179e"
                        ],
                        [
                          0.4444444444444444,
                          "#bd3786"
                        ],
                        [
                          0.5555555555555556,
                          "#d8576b"
                        ],
                        [
                          0.6666666666666666,
                          "#ed7953"
                        ],
                        [
                          0.7777777777777778,
                          "#fb9f3a"
                        ],
                        [
                          0.8888888888888888,
                          "#fdca26"
                        ],
                        [
                          1,
                          "#f0f921"
                        ]
                      ],
                      "sequentialminus": [
                        [
                          0,
                          "#0d0887"
                        ],
                        [
                          0.1111111111111111,
                          "#46039f"
                        ],
                        [
                          0.2222222222222222,
                          "#7201a8"
                        ],
                        [
                          0.3333333333333333,
                          "#9c179e"
                        ],
                        [
                          0.4444444444444444,
                          "#bd3786"
                        ],
                        [
                          0.5555555555555556,
                          "#d8576b"
                        ],
                        [
                          0.6666666666666666,
                          "#ed7953"
                        ],
                        [
                          0.7777777777777778,
                          "#fb9f3a"
                        ],
                        [
                          0.8888888888888888,
                          "#fdca26"
                        ],
                        [
                          1,
                          "#f0f921"
                        ]
                      ]
                    },
                    "colorway": [
                      "#636efa",
                      "#EF553B",
                      "#00cc96",
                      "#ab63fa",
                      "#FFA15A",
                      "#19d3f3",
                      "#FF6692",
                      "#B6E880",
                      "#FF97FF",
                      "#FECB52"
                    ],
                    "font": {
                      "color": "#2a3f5f"
                    },
                    "geo": {
                      "bgcolor": "white",
                      "lakecolor": "white",
                      "landcolor": "#E5ECF6",
                      "showlakes": true,
                      "showland": true,
                      "subunitcolor": "white"
                    },
                    "hoverlabel": {
                      "align": "left"
                    },
                    "hovermode": "closest",
                    "mapbox": {
                      "style": "light"
                    },
                    "paper_bgcolor": "white",
                    "plot_bgcolor": "#E5ECF6",
                    "polar": {
                      "angularaxis": {
                        "gridcolor": "white",
                        "linecolor": "white",
                        "ticks": ""
                      },
                      "bgcolor": "#E5ECF6",
                      "radialaxis": {
                        "gridcolor": "white",
                        "linecolor": "white",
                        "ticks": ""
                      }
                    },
                    "scene": {
                      "xaxis": {
                        "backgroundcolor": "#E5ECF6",
                        "gridcolor": "white",
                        "gridwidth": 2,
                        "linecolor": "white",
                        "showbackground": true,
                        "ticks": "",
                        "zerolinecolor": "white"
                      },
                      "yaxis": {
                        "backgroundcolor": "#E5ECF6",
                        "gridcolor": "white",
                        "gridwidth": 2,
                        "linecolor": "white",
                        "showbackground": true,
                        "ticks": "",
                        "zerolinecolor": "white"
                      },
                      "zaxis": {
                        "backgroundcolor": "#E5ECF6",
                        "gridcolor": "white",
                        "gridwidth": 2,
                        "linecolor": "white",
                        "showbackground": true,
                        "ticks": "",
                        "zerolinecolor": "white"
                      }
                    },
                    "shapedefaults": {
                      "line": {
                        "color": "#2a3f5f"
                      }
                    },
                    "ternary": {
                      "aaxis": {
                        "gridcolor": "white",
                        "linecolor": "white",
                        "ticks": ""
                      },
                      "baxis": {
                        "gridcolor": "white",
                        "linecolor": "white",
                        "ticks": ""
                      },
                      "bgcolor": "#E5ECF6",
                      "caxis": {
                        "gridcolor": "white",
                        "linecolor": "white",
                        "ticks": ""
                      }
                    },
                    "title": {
                      "x": 0.05
                    },
                    "xaxis": {
                      "automargin": true,
                      "gridcolor": "white",
                      "linecolor": "white",
                      "ticks": "",
                      "title": {
                        "standoff": 15
                      },
                      "zerolinecolor": "white",
                      "zerolinewidth": 2
                    },
                    "yaxis": {
                      "automargin": true,
                      "gridcolor": "white",
                      "linecolor": "white",
                      "ticks": "",
                      "title": {
                        "standoff": 15
                      },
                      "zerolinecolor": "white",
                      "zerolinewidth": 2
                    }
                  }
                },
                "title": {
                  "text": "Numero de casos recuperados por dia"
                },
                "xaxis": {
                  "anchor": "y",
                  "domain": [
                    0,
                    1
                  ],
                  "title": {
                    "text": "x"
                  }
                },
                "yaxis": {
                  "anchor": "x",
                  "domain": [
                    0,
                    1
                  ],
                  "title": {
                    "text": "y"
                  }
                }
              }
            }
          },
          "metadata": {},
          "output_type": "display_data"
        }
      ],
      "source": [
        "total_recuperados_dia = recovered.sum(axis=\"index\")\n",
        "px.line(x=total_recuperados_dia.index,\n",
        "        y=total_recuperados_dia.values,\n",
        "        title='Numero de casos recuperados por dia')"
      ]
    },
    {
      "cell_type": "markdown",
      "metadata": {},
      "source": [
        "Los datos de *Recovered* estan disponibles solo hasta el 4/Agosto/2021 y hay paises que no tienen datos de *Recovered*."
      ]
    },
    {
      "cell_type": "markdown",
      "metadata": {
        "id": "S_zUgfT0zcdt"
      },
      "source": [
        "### Casos Activos hasta el 4/Agosto/2021\n",
        "Se calcula a partir del numero de personas confirmadas - muertos - recuperados"
      ]
    },
    {
      "cell_type": "code",
      "execution_count": 79,
      "metadata": {},
      "outputs": [],
      "source": [
        "#select information of confirmed dataset where recovered and confirmed has the same Country/Region\n",
        "active = confirmed[confirmed['Country/Region'].isin(recovered['Country/Region'])]"
      ]
    },
    {
      "cell_type": "code",
      "execution_count": 96,
      "metadata": {},
      "outputs": [
        {
          "name": "stdout",
          "output_type": "stream",
          "text": [
            "     Country/Region  1/22/20  1/23/20  1/24/20  1/25/20  1/26/20  1/27/20  \\\n",
            "10        Australia        0        0        0        0        3        4   \n",
            "11        Australia        0        0        0        0        0        0   \n",
            "12        Australia        0        0        0        0        0        0   \n",
            "13        Australia        0        0        0        0        0        0   \n",
            "14        Australia        0        0        0        0        0        0   \n",
            "..              ...      ...      ...      ...      ...      ...      ...   \n",
            "274  United Kingdom        0        0        0        0        0        0   \n",
            "275  United Kingdom        0        0        0        0        0        0   \n",
            "276  United Kingdom        0        0        0        0        0        0   \n",
            "277  United Kingdom        0        0        0        0        0        0   \n",
            "278  United Kingdom        0        0        0        0        0        0   \n",
            "\n",
            "     1/28/20  1/29/20  1/30/20  ...   2/28/23    3/1/23    3/2/23    3/3/23  \\\n",
            "10         4        4        4  ...   3900969   3900969   3908129   3908129   \n",
            "11         0        0        0  ...    104931    104931    105021    105021   \n",
            "12         0        1        3  ...   1796633   1796633   1800236   1800236   \n",
            "13         0        0        0  ...    880207    880207    881911    881911   \n",
            "14         0        0        0  ...    286264    286264    286264    286897   \n",
            "..       ...      ...      ...  ...       ...       ...       ...       ...   \n",
            "274        0        0        0  ...      1403      1403      1403      1403   \n",
            "275        0        0        0  ...         4         4         4         4   \n",
            "276        0        0        0  ...      2166      2166      2166      2166   \n",
            "277        0        0        0  ...      6551      6551      6551      6551   \n",
            "278        0        0        0  ...  24370150  24370150  24396530  24396530   \n",
            "\n",
            "       3/4/23    3/5/23    3/6/23    3/7/23    3/8/23    3/9/23  \n",
            "10    3908129   3908129   3908129   3908129   3908129   3915992  \n",
            "11     105021    105021    105021    105021    105021    105111  \n",
            "12    1800236   1800236   1800236   1800236   1800236   1800236  \n",
            "13     881911    881911    881911    881911    881911    883620  \n",
            "14     286897    286897    286897    286897    286897    287507  \n",
            "..        ...       ...       ...       ...       ...       ...  \n",
            "274      1403      1403      1403      1403      1403      1403  \n",
            "275         4         4         4         4         4         4  \n",
            "276      2166      2166      2166      2166      2166      2166  \n",
            "277      6551      6551      6551      6557      6557      6561  \n",
            "278  24396530  24396530  24396530  24396530  24396530  24425309  \n",
            "\n",
            "[88 rows x 1144 columns]\n"
          ]
        }
      ],
      "source": [
        "duplicated_data = confirmed[confirmed['Country/Region'].duplicated()]\n",
        "print(duplicated_data)"
      ]
    },
    {
      "cell_type": "code",
      "execution_count": 75,
      "metadata": {},
      "outputs": [
        {
          "ename": "KeyError",
          "evalue": "\"None of [Index(['Afghanistan', 'Albania', 'Algeria', 'Andorra', 'Angola', 'Antarctica',\\n       'Antigua and Barbuda', 'Argentina', 'Armenia', 'Australia',\\n       ...\\n       'Uruguay', 'Uzbekistan', 'Vanuatu', 'Venezuela', 'Vietnam',\\n       'West Bank and Gaza', 'Winter Olympics 2022', 'Yemen', 'Zambia',\\n       'Zimbabwe'],\\n      dtype='object', length=274)] are in the [index]\"",
          "output_type": "error",
          "traceback": [
            "\u001b[0;31m---------------------------------------------------------------------------\u001b[0m",
            "\u001b[0;31mKeyError\u001b[0m                                  Traceback (most recent call last)",
            "\u001b[1;32m/media/joser/Datos/Github/covid_plots/notebooks/Covid19_Visualizacion_v3.ipynb Celda 21\u001b[0m line \u001b[0;36m8\n\u001b[1;32m      <a href='vscode-notebook-cell:/media/joser/Datos/Github/covid_plots/notebooks/Covid19_Visualizacion_v3.ipynb#Y112sZmlsZQ%3D%3D?line=4'>5</a>\u001b[0m recovered \u001b[39m=\u001b[39m recovered\u001b[39m.\u001b[39mloc[:, :fecha_datos_completos]\n\u001b[1;32m      <a href='vscode-notebook-cell:/media/joser/Datos/Github/covid_plots/notebooks/Covid19_Visualizacion_v3.ipynb#Y112sZmlsZQ%3D%3D?line=6'>7</a>\u001b[0m \u001b[39m# Calcular el numero de casos activos\u001b[39;00m\n\u001b[0;32m----> <a href='vscode-notebook-cell:/media/joser/Datos/Github/covid_plots/notebooks/Covid19_Visualizacion_v3.ipynb#Y112sZmlsZQ%3D%3D?line=7'>8</a>\u001b[0m active \u001b[39m=\u001b[39m confirmed\u001b[39m.\u001b[39;49mloc[lista_paises_recovered, :fecha_datos_completos]\u001b[39m.\u001b[39mcopy()\n",
            "File \u001b[0;32m/media/joser/Datos/Github/covid_plots/.venv/lib/python3.10/site-packages/pandas/core/indexing.py:1147\u001b[0m, in \u001b[0;36m_LocationIndexer.__getitem__\u001b[0;34m(self, key)\u001b[0m\n\u001b[1;32m   1145\u001b[0m     \u001b[39mif\u001b[39;00m \u001b[39mself\u001b[39m\u001b[39m.\u001b[39m_is_scalar_access(key):\n\u001b[1;32m   1146\u001b[0m         \u001b[39mreturn\u001b[39;00m \u001b[39mself\u001b[39m\u001b[39m.\u001b[39mobj\u001b[39m.\u001b[39m_get_value(\u001b[39m*\u001b[39mkey, takeable\u001b[39m=\u001b[39m\u001b[39mself\u001b[39m\u001b[39m.\u001b[39m_takeable)\n\u001b[0;32m-> 1147\u001b[0m     \u001b[39mreturn\u001b[39;00m \u001b[39mself\u001b[39;49m\u001b[39m.\u001b[39;49m_getitem_tuple(key)\n\u001b[1;32m   1148\u001b[0m \u001b[39melse\u001b[39;00m:\n\u001b[1;32m   1149\u001b[0m     \u001b[39m# we by definition only have the 0th axis\u001b[39;00m\n\u001b[1;32m   1150\u001b[0m     axis \u001b[39m=\u001b[39m \u001b[39mself\u001b[39m\u001b[39m.\u001b[39maxis \u001b[39mor\u001b[39;00m \u001b[39m0\u001b[39m\n",
            "File \u001b[0;32m/media/joser/Datos/Github/covid_plots/.venv/lib/python3.10/site-packages/pandas/core/indexing.py:1339\u001b[0m, in \u001b[0;36m_LocIndexer._getitem_tuple\u001b[0;34m(self, tup)\u001b[0m\n\u001b[1;32m   1336\u001b[0m \u001b[39mif\u001b[39;00m \u001b[39mself\u001b[39m\u001b[39m.\u001b[39m_multi_take_opportunity(tup):\n\u001b[1;32m   1337\u001b[0m     \u001b[39mreturn\u001b[39;00m \u001b[39mself\u001b[39m\u001b[39m.\u001b[39m_multi_take(tup)\n\u001b[0;32m-> 1339\u001b[0m \u001b[39mreturn\u001b[39;00m \u001b[39mself\u001b[39;49m\u001b[39m.\u001b[39;49m_getitem_tuple_same_dim(tup)\n",
            "File \u001b[0;32m/media/joser/Datos/Github/covid_plots/.venv/lib/python3.10/site-packages/pandas/core/indexing.py:994\u001b[0m, in \u001b[0;36m_LocationIndexer._getitem_tuple_same_dim\u001b[0;34m(self, tup)\u001b[0m\n\u001b[1;32m    991\u001b[0m \u001b[39mif\u001b[39;00m com\u001b[39m.\u001b[39mis_null_slice(key):\n\u001b[1;32m    992\u001b[0m     \u001b[39mcontinue\u001b[39;00m\n\u001b[0;32m--> 994\u001b[0m retval \u001b[39m=\u001b[39m \u001b[39mgetattr\u001b[39;49m(retval, \u001b[39mself\u001b[39;49m\u001b[39m.\u001b[39;49mname)\u001b[39m.\u001b[39;49m_getitem_axis(key, axis\u001b[39m=\u001b[39;49mi)\n\u001b[1;32m    995\u001b[0m \u001b[39m# We should never have retval.ndim < self.ndim, as that should\u001b[39;00m\n\u001b[1;32m    996\u001b[0m \u001b[39m#  be handled by the _getitem_lowerdim call above.\u001b[39;00m\n\u001b[1;32m    997\u001b[0m \u001b[39massert\u001b[39;00m retval\u001b[39m.\u001b[39mndim \u001b[39m==\u001b[39m \u001b[39mself\u001b[39m\u001b[39m.\u001b[39mndim\n",
            "File \u001b[0;32m/media/joser/Datos/Github/covid_plots/.venv/lib/python3.10/site-packages/pandas/core/indexing.py:1382\u001b[0m, in \u001b[0;36m_LocIndexer._getitem_axis\u001b[0;34m(self, key, axis)\u001b[0m\n\u001b[1;32m   1379\u001b[0m     \u001b[39mif\u001b[39;00m \u001b[39mhasattr\u001b[39m(key, \u001b[39m\"\u001b[39m\u001b[39mndim\u001b[39m\u001b[39m\"\u001b[39m) \u001b[39mand\u001b[39;00m key\u001b[39m.\u001b[39mndim \u001b[39m>\u001b[39m \u001b[39m1\u001b[39m:\n\u001b[1;32m   1380\u001b[0m         \u001b[39mraise\u001b[39;00m \u001b[39mValueError\u001b[39;00m(\u001b[39m\"\u001b[39m\u001b[39mCannot index with multidimensional key\u001b[39m\u001b[39m\"\u001b[39m)\n\u001b[0;32m-> 1382\u001b[0m     \u001b[39mreturn\u001b[39;00m \u001b[39mself\u001b[39;49m\u001b[39m.\u001b[39;49m_getitem_iterable(key, axis\u001b[39m=\u001b[39;49maxis)\n\u001b[1;32m   1384\u001b[0m \u001b[39m# nested tuple slicing\u001b[39;00m\n\u001b[1;32m   1385\u001b[0m \u001b[39mif\u001b[39;00m is_nested_tuple(key, labels):\n",
            "File \u001b[0;32m/media/joser/Datos/Github/covid_plots/.venv/lib/python3.10/site-packages/pandas/core/indexing.py:1322\u001b[0m, in \u001b[0;36m_LocIndexer._getitem_iterable\u001b[0;34m(self, key, axis)\u001b[0m\n\u001b[1;32m   1319\u001b[0m \u001b[39mself\u001b[39m\u001b[39m.\u001b[39m_validate_key(key, axis)\n\u001b[1;32m   1321\u001b[0m \u001b[39m# A collection of keys\u001b[39;00m\n\u001b[0;32m-> 1322\u001b[0m keyarr, indexer \u001b[39m=\u001b[39m \u001b[39mself\u001b[39;49m\u001b[39m.\u001b[39;49m_get_listlike_indexer(key, axis)\n\u001b[1;32m   1323\u001b[0m \u001b[39mreturn\u001b[39;00m \u001b[39mself\u001b[39m\u001b[39m.\u001b[39mobj\u001b[39m.\u001b[39m_reindex_with_indexers(\n\u001b[1;32m   1324\u001b[0m     {axis: [keyarr, indexer]}, copy\u001b[39m=\u001b[39m\u001b[39mTrue\u001b[39;00m, allow_dups\u001b[39m=\u001b[39m\u001b[39mTrue\u001b[39;00m\n\u001b[1;32m   1325\u001b[0m )\n",
            "File \u001b[0;32m/media/joser/Datos/Github/covid_plots/.venv/lib/python3.10/site-packages/pandas/core/indexing.py:1520\u001b[0m, in \u001b[0;36m_LocIndexer._get_listlike_indexer\u001b[0;34m(self, key, axis)\u001b[0m\n\u001b[1;32m   1517\u001b[0m ax \u001b[39m=\u001b[39m \u001b[39mself\u001b[39m\u001b[39m.\u001b[39mobj\u001b[39m.\u001b[39m_get_axis(axis)\n\u001b[1;32m   1518\u001b[0m axis_name \u001b[39m=\u001b[39m \u001b[39mself\u001b[39m\u001b[39m.\u001b[39mobj\u001b[39m.\u001b[39m_get_axis_name(axis)\n\u001b[0;32m-> 1520\u001b[0m keyarr, indexer \u001b[39m=\u001b[39m ax\u001b[39m.\u001b[39;49m_get_indexer_strict(key, axis_name)\n\u001b[1;32m   1522\u001b[0m \u001b[39mreturn\u001b[39;00m keyarr, indexer\n",
            "File \u001b[0;32m/media/joser/Datos/Github/covid_plots/.venv/lib/python3.10/site-packages/pandas/core/indexes/base.py:6114\u001b[0m, in \u001b[0;36mIndex._get_indexer_strict\u001b[0;34m(self, key, axis_name)\u001b[0m\n\u001b[1;32m   6111\u001b[0m \u001b[39melse\u001b[39;00m:\n\u001b[1;32m   6112\u001b[0m     keyarr, indexer, new_indexer \u001b[39m=\u001b[39m \u001b[39mself\u001b[39m\u001b[39m.\u001b[39m_reindex_non_unique(keyarr)\n\u001b[0;32m-> 6114\u001b[0m \u001b[39mself\u001b[39;49m\u001b[39m.\u001b[39;49m_raise_if_missing(keyarr, indexer, axis_name)\n\u001b[1;32m   6116\u001b[0m keyarr \u001b[39m=\u001b[39m \u001b[39mself\u001b[39m\u001b[39m.\u001b[39mtake(indexer)\n\u001b[1;32m   6117\u001b[0m \u001b[39mif\u001b[39;00m \u001b[39misinstance\u001b[39m(key, Index):\n\u001b[1;32m   6118\u001b[0m     \u001b[39m# GH 42790 - Preserve name from an Index\u001b[39;00m\n",
            "File \u001b[0;32m/media/joser/Datos/Github/covid_plots/.venv/lib/python3.10/site-packages/pandas/core/indexes/base.py:6175\u001b[0m, in \u001b[0;36mIndex._raise_if_missing\u001b[0;34m(self, key, indexer, axis_name)\u001b[0m\n\u001b[1;32m   6173\u001b[0m     \u001b[39mif\u001b[39;00m use_interval_msg:\n\u001b[1;32m   6174\u001b[0m         key \u001b[39m=\u001b[39m \u001b[39mlist\u001b[39m(key)\n\u001b[0;32m-> 6175\u001b[0m     \u001b[39mraise\u001b[39;00m \u001b[39mKeyError\u001b[39;00m(\u001b[39mf\u001b[39m\u001b[39m\"\u001b[39m\u001b[39mNone of [\u001b[39m\u001b[39m{\u001b[39;00mkey\u001b[39m}\u001b[39;00m\u001b[39m] are in the [\u001b[39m\u001b[39m{\u001b[39;00maxis_name\u001b[39m}\u001b[39;00m\u001b[39m]\u001b[39m\u001b[39m\"\u001b[39m)\n\u001b[1;32m   6177\u001b[0m not_found \u001b[39m=\u001b[39m \u001b[39mlist\u001b[39m(ensure_index(key)[missing_mask\u001b[39m.\u001b[39mnonzero()[\u001b[39m0\u001b[39m]]\u001b[39m.\u001b[39munique())\n\u001b[1;32m   6178\u001b[0m \u001b[39mraise\u001b[39;00m \u001b[39mKeyError\u001b[39;00m(\u001b[39mf\u001b[39m\u001b[39m\"\u001b[39m\u001b[39m{\u001b[39;00mnot_found\u001b[39m}\u001b[39;00m\u001b[39m not in index\u001b[39m\u001b[39m\"\u001b[39m)\n",
            "\u001b[0;31mKeyError\u001b[0m: \"None of [Index(['Afghanistan', 'Albania', 'Algeria', 'Andorra', 'Angola', 'Antarctica',\\n       'Antigua and Barbuda', 'Argentina', 'Armenia', 'Australia',\\n       ...\\n       'Uruguay', 'Uzbekistan', 'Vanuatu', 'Venezuela', 'Vietnam',\\n       'West Bank and Gaza', 'Winter Olympics 2022', 'Yemen', 'Zambia',\\n       'Zimbabwe'],\\n      dtype='object', length=274)] are in the [index]\""
          ]
        }
      ],
      "source": [
        "\n",
        "\n",
        "# Tomar todas las columnas hasta 4 de agosto de 2021\n",
        "fecha_datos_completos = '8/4/21'\n",
        "recovered = recovered.loc[:, :fecha_datos_completos]\n",
        "\n",
        "# Calcular el numero de casos activos\n",
        "active = confirmed.loc[lista_paises_recovered, :fecha_datos_completos].copy()\n"
      ]
    },
    {
      "cell_type": "code",
      "execution_count": null,
      "metadata": {},
      "outputs": [],
      "source": [
        "active.iloc[:, 1:] -= recovered.iloc[:, 1:].values"
      ]
    },
    {
      "cell_type": "markdown",
      "metadata": {
        "id": "2-pEpFHuPyAt"
      },
      "source": [
        "### Consolidar datos"
      ]
    },
    {
      "cell_type": "code",
      "execution_count": null,
      "metadata": {
        "id": "SdBF-Y5xH2jo"
      },
      "outputs": [],
      "source": [
        "confirmed_group = confirmed.groupby(by='Country/Region').aggregate(np.sum).T\n",
        "confirmed_group.index.name = 'date'\n",
        "confirmed_group =  confirmed_group.reset_index()"
      ]
    },
    {
      "cell_type": "code",
      "execution_count": null,
      "metadata": {
        "id": "tKMDez6aRMza"
      },
      "outputs": [],
      "source": [
        "recovered_group = recovered.groupby(by='Country/Region').aggregate(np.sum).T\n",
        "recovered_group.index.name = 'date'\n",
        "recovered_group =  recovered_group.reset_index()"
      ]
    },
    {
      "cell_type": "code",
      "execution_count": null,
      "metadata": {
        "id": "svdv02L4zcdu"
      },
      "outputs": [],
      "source": [
        "active_group = active.groupby(by='Country/Region').aggregate(np.sum).T\n",
        "active_group.index.name = 'date'\n",
        "active_group =  active_group.reset_index()"
      ]
    },
    {
      "cell_type": "code",
      "execution_count": null,
      "metadata": {
        "id": "m_WFsvL_zcdv"
      },
      "outputs": [],
      "source": [
        "death_group = death.groupby(by='Country/Region').aggregate(np.sum).T\n",
        "death_group.index.name = 'date'\n",
        "death_group =  death_group.reset_index()"
      ]
    },
    {
      "cell_type": "code",
      "execution_count": null,
      "metadata": {
        "id": "sSXIMVORLmio"
      },
      "outputs": [],
      "source": [
        "confirmed_melt = confirmed_group.melt(id_vars=\"date\").copy()\n",
        "confirmed_melt.rename(columns = {'value':'Confirmados', 'date':'Fecha'}, inplace = True)"
      ]
    },
    {
      "cell_type": "code",
      "execution_count": null,
      "metadata": {
        "id": "M_KhVx8L21QY"
      },
      "outputs": [],
      "source": [
        "death_melt = death_group.melt(id_vars=\"date\")\n",
        "death_melt.rename(columns = {'value':'Muertos', 'date':'Fecha'}, inplace = True)"
      ]
    },
    {
      "cell_type": "markdown",
      "metadata": {
        "id": "x1I4DaJLnksH"
      },
      "source": [
        "### Datos Mundiales"
      ]
    },
    {
      "cell_type": "code",
      "execution_count": null,
      "metadata": {
        "id": "k252B3rFl0IK"
      },
      "outputs": [],
      "source": [
        "# Numero de Casos confirmados por dia en el mundo\n",
        "\n",
        "column_names = [\"Fecha\", \"Confirmados\", \"Recuperados\",\"Muertos\"]\n",
        "world = pd.DataFrame(columns = column_names)\n",
        "world['Fecha'] = confirmed_group['date'].copy()\n",
        "world['Confirmados'] = confirmed_group.iloc[:,1:].sum(1)\n",
        "world['Muertos'] = death_group.iloc[:,1:].sum(1)\n",
        "world['Recuperados'] = recovered_group.iloc[:,1:].sum(1)\n",
        "world['Activos'] = active_group.iloc[:,1:].sum(1)"
      ]
    },
    {
      "cell_type": "markdown",
      "metadata": {
        "id": "D1Pvbt3dzcdv"
      },
      "source": [
        "# Evolucion Animada de Casos Activos por Pais\n",
        "La gráfica animada de la evolución temporal de los casos activos por país, la he creado con la libreria [Pandas alive](https://github.com/JackMcKew/pandas_alive) y [Bar Chart Race](https://github.com/dexplo/bar_chart_race).\n",
        "La barra horizontal gris representa el valor promedio de casos activos a nivel mundial."
      ]
    },
    {
      "cell_type": "code",
      "execution_count": null,
      "metadata": {
        "id": "ZotaompXzcdv"
      },
      "outputs": [],
      "source": [
        "import pandas_alive\n",
        "active_evol = active_group.set_index('date')\n",
        "active_evol.index = pd.to_datetime(active_evol.index)"
      ]
    },
    {
      "cell_type": "code",
      "execution_count": null,
      "metadata": {
        "id": "zWUBWG8Tzcdw",
        "tags": []
      },
      "outputs": [],
      "source": [
        "import warnings\n",
        "warnings.filterwarnings(\"ignore\")\n",
        "hola = active_evol.plot_animated(filename='evolucion_casos_activos.mp4', n_bars=8,n_visible=8,\n",
        "                          title='Evolución en el tiempo de Casos Activos COVID-19 por pais \\n https://joserzapata.github.io/',\n",
        "                          period_label={'x': .99, 'y': .25, 'ha': 'right', 'va': 'center'},\n",
        "                          period_fmt='%B %d, %Y',\n",
        "                          dpi=300,\n",
        "                          period_summary_func=lambda v: {'x': .99, 'y': .18,\n",
        "                                      's': f'Total Activos: {v.nlargest(8).sum():,.0f}',\n",
        "                                      'ha': 'right', 'size': 9, 'family': 'Courier New'});"
      ]
    },
    {
      "cell_type": "markdown",
      "metadata": {
        "id": "Q2e5kRWeQrCs"
      },
      "source": [
        "# Visualizacion con Plotly"
      ]
    },
    {
      "cell_type": "markdown",
      "metadata": {
        "id": "Z8B5K4RxbkEQ"
      },
      "source": [
        "## Valores Mundiales de Confirmados, Recuperados y Muertos\n"
      ]
    },
    {
      "cell_type": "code",
      "execution_count": null,
      "metadata": {
        "id": "bs5UwImuK7re"
      },
      "outputs": [],
      "source": [
        "temp = pd.DataFrame(world.iloc[-1,:]).T\n",
        "tm = temp.melt(id_vars=\"Fecha\", value_vars=[ \"Confirmados\",\"Activos\",\"Recuperados\",\"Muertos\"])\n",
        "fig = px.bar(tm, x=\"variable\" , y=\"value\", color= 'variable', text='value',\n",
        "             color_discrete_sequence=[\"teal\",\"navy\",\"green\", \"coral\"],\n",
        "             height=500, width=600,\n",
        "             title= f'Total de Casos Mundiales de COVID 19 - {str(world.iloc[-1,0])}')\n",
        "fig.update_traces(textposition='outside')#poner los valores de las barras fuera\n",
        "fig.add_annotation(x='Muertos', y=tm['value'].max(),text='https://joserzapata.github.io/', showarrow=False)\n",
        "fig.layout.update(showlegend=False,\n",
        "                  yaxis =  {\"title\": {\"text\": \"Numero de Personas\"}}, # Cambiar texto eje y\n",
        "                  xaxis =  {\"title\": {\"text\": \"\"}} #Esconder nombre eje x\n",
        "                  )\n",
        "# grabar grafica en chart-studio si se proporciona el api-key\n",
        "if api_key: py.plot(fig, filename = 'total_casos_general', auto_open=False)\n",
        "fig.show()"
      ]
    },
    {
      "cell_type": "markdown",
      "metadata": {
        "id": "GxS-iNEJ1Gu6"
      },
      "source": [
        "## Mapa Mundial de Confirmados por Pais"
      ]
    },
    {
      "cell_type": "code",
      "execution_count": null,
      "metadata": {
        "id": "AWj0By9l00Ac"
      },
      "outputs": [],
      "source": [
        "confirmed_melt['Fecha'] = pd.to_datetime(confirmed_melt['Fecha'])\n",
        "confirmed_melt['Fecha'] = confirmed_melt['Fecha'].dt.strftime('%m/%d/%Y')\n",
        "\n",
        "max_Fecha = confirmed_melt['Fecha'].iloc[-1]\n",
        "conf_max = confirmed_melt[confirmed_melt['Fecha']== max_Fecha].copy()\n",
        "conf_max.dropna(inplace=True) #eliminar filas con valores faltantes\n",
        "\n",
        "fig = px.choropleth(conf_max, locations=\"Country/Region\", locationmode='country names',\n",
        "                     color=np.log10(conf_max[\"Confirmados\"]), hover_name=\"Country/Region\",\n",
        "                     hover_data = [\"Confirmados\"],\n",
        "                     projection=\"natural earth\", width=900,\n",
        "                     color_continuous_scale = px.colors.sequential.Jet,\n",
        "                     title='Mapa de Confirmados COVID 19 por Pais')\n",
        "fig.add_annotation(x=0.5, y=0,text='https://joserzapata.github.io/', showarrow=False)\n",
        "fig.update(layout_coloraxis_showscale=False)\n",
        "# grabar grafica en chart-studio si se proporciona el api-key\n",
        "if api_key: py.plot(fig, filename = 'mapa_confirmados_pais', auto_open=False)\n",
        "fig.show()"
      ]
    },
    {
      "cell_type": "markdown",
      "metadata": {
        "id": "dpXpgQip1lfo"
      },
      "source": [
        "# Confirmados vs Muertos por pais"
      ]
    },
    {
      "cell_type": "code",
      "execution_count": null,
      "metadata": {
        "id": "mUsTPQU63Rf_"
      },
      "outputs": [],
      "source": [
        "death_melt['Fecha'] = pd.to_datetime(death_melt['Fecha'])\n",
        "death_melt['Fecha'] = death_melt['Fecha'].dt.strftime('%m/%d/%Y')\n",
        "\n",
        "max_Fecha = death_melt['Fecha'].iloc[-1]\n",
        "death_max = death_melt[death_melt['Fecha']== max_Fecha].copy()\n",
        "death_max.dropna(inplace=True) #eliminar filas con valores faltantes\n",
        "maxi_y = death_max[\"Muertos\"].max()\n",
        "maxi_x = conf_max[\"Confirmados\"].max()\n",
        "\n",
        "full_melt_max = pd.merge(conf_max[['Country/Region','Confirmados']],\n",
        "                         death_max[['Country/Region','Muertos']],\n",
        "                         on='Country/Region', how='left')\n",
        "\n",
        "fig = px.scatter(full_melt_max.sort_values('Muertos', ascending=False).iloc[:15, :],\n",
        "                 x='Confirmados', y='Muertos', color='Country/Region', size='Confirmados', height=500,width=900,\n",
        "                 text='Country/Region', log_x=True, log_y=True, title= f'Muertos vs Confirmados - {max_Fecha} - (15 Paises)'                   )\n",
        "fig.add_annotation(x=0.5, y=1, xref=\"paper\",yref=\"paper\",text='https://joserzapata.github.io/', showarrow=False)\n",
        "fig.update_traces(textposition='top center')\n",
        "fig.layout.update(showlegend = False)\n",
        "\n",
        "# grabar grafica en chart-studio si se proporciona el api-key\n",
        "if api_key: py.plot(fig, filename = 'scatter_muertos_confirmados', auto_open=False)\n",
        "fig.show()"
      ]
    },
    {
      "cell_type": "markdown",
      "metadata": {
        "id": "3b83uuD9G0yg"
      },
      "source": [
        "## Progresion Mundial en el Tiempo del numero de casos\n"
      ]
    },
    {
      "cell_type": "code",
      "execution_count": null,
      "metadata": {
        "id": "OUcnRkN9lqLk"
      },
      "outputs": [],
      "source": [
        "world_melt = world.melt(id_vars='Fecha', value_vars= list(world.columns)[1:], var_name=None)\n",
        "\n",
        "fig = px.line(world_melt, x=\"Fecha\", y= 'value',\n",
        "              color='variable',  color_discrete_sequence=[\"teal\",\"green\",\"coral\", \"navy\"],\n",
        "              title=f'Total de Casos en el tiempo de COVID 19 - {world.iloc[-1,0]}')\n",
        "for n in list(world.columns)[1:]:\n",
        "  fig.add_annotation(x=world.iloc[-1,0], y=world.loc[world.index[-1],n],\n",
        "                     text=n, xref=\"x\",yref=\"y\",\n",
        "                     showarrow=True, ax=-50, ay=-20)\n",
        "# Indicador de numero total de confirmados\n",
        "fig.add_indicator( title= {'text':'Confirmados', 'font':{'color':'teal'}},\n",
        "                  value = world['Confirmados'].iloc[-1],\n",
        "                  mode = \"number+delta\", delta = {\"reference\": world['Confirmados'\n",
        "                  ].iloc[-2], 'relative': True },domain = {'x': [0, 0.25], 'y': [0.15, .4]})\n",
        "#Indicador numero total de Activos\n",
        "fig.add_indicator(title={'text':'Activos', 'font':{'color':'navy'}},\n",
        "                  value = world['Activos'].iloc[-1],\n",
        "                  mode = \"number+delta\", delta = {\"reference\": world['Activos'\n",
        "                  ].iloc[-2], 'relative': True },domain = {'x': [0, 0.25], 'y': [0.6, .85]})\n",
        "#Indicador numero total de Recuperados\n",
        "fig.add_indicator(title={'text':'Recuperados', 'font':{'color':'green'}},\n",
        "                  value = world['Recuperados'].iloc[-1],\n",
        "                  mode = \"number+delta\", delta = {\"reference\": world['Recuperados'\n",
        "                  ].iloc[-2], 'relative': True },domain = {'x': [0.25, 0.50], 'y': [0.6, .85]})\n",
        "#Indicador numero total de muertos\n",
        "fig.add_indicator(title={'text':'Muertos', 'font':{'color':'coral'}},\n",
        "                  value = world['Muertos'].iloc[-1],\n",
        "                  mode = \"number+delta\", delta = {\"reference\": world['Muertos'\n",
        "                  ].iloc[-2], 'relative': True },domain = {'x': [0.25, 0.5], 'y': [0.15, .4]})\n",
        "fig.add_annotation(x=80, y=world_melt['value'].max(),\n",
        "                   text='https://joserzapata.github.io/', showarrow=False)\n",
        "fig.layout.update(showlegend = False,\n",
        "                  yaxis =  {\"title\": {\"text\": \"Numero de Personas\"}}, # Cambiar texto eje y\n",
        "                  )\n",
        "# grabar grafica en chart-studio si se proporciona el api-key\n",
        "if api_key: py.plot(fig, filename = 'total_casos_serie', auto_open=False)\n",
        "fig.show()"
      ]
    },
    {
      "cell_type": "markdown",
      "metadata": {
        "id": "o-ong5NYHCsT"
      },
      "source": [
        "## Total Casos Confirmados de COVID 19 por Pais (Top 10)\n"
      ]
    },
    {
      "cell_type": "code",
      "execution_count": null,
      "metadata": {
        "id": "iSsXyRwJN8_X"
      },
      "outputs": [],
      "source": [
        "df1 = confirmed_group.copy()\n",
        "# Cambiar el nombre de la columna\n",
        "df1.rename(columns = {'date':'Fecha'}, inplace = True)\n",
        "fecha = df1['Fecha'].iloc[-1] #obtener la fecha del ultimo dato\n",
        "paises = df1.iloc[-1,1:] #obtener la serie sin el primer dato, fecha\n",
        "paises.sort_values(ascending=False, inplace=True)\n",
        "top = 10\n",
        "#keep top countries\n",
        "df1 = df1[[\"Fecha\"] + list(paises[:top].index)]\n",
        "\n",
        "if api_key:\n",
        "    # se toman la serie de tiempo cada 7 dias, por que las graficas\n",
        "    # grandes no se pueden subir a chart-studio con subscripcion gratuita\n",
        "    df1 = df1.iloc[::-7].iloc[::-1]\n",
        "\n",
        "df_melt = df1.melt(id_vars='Fecha', value_vars= list(df1.columns)[1:], var_name=None)\n",
        "\n",
        "fig = px.line(df_melt, x='Fecha' , y='value', color='Country/Region',\n",
        "              color_discrete_sequence=px.colors.qualitative.G10, width=900,\n",
        "              title=f'Total Casos Confirmados de COVID 19 por Pais (Top 10) - {world.iloc[-1,0]}')\n",
        "# top paises mas infectados\n",
        "\n",
        "mas_infectados=[]\n",
        "for n in range(top):\n",
        "  fig.add_annotation(x=fecha, y=paises[n], text=paises.index[n],\n",
        "                     showarrow=True, ax=+30, xref=\"x\",yref=\"y\")\n",
        "  mas_infectados.append(paises.index[n])\n",
        "\n",
        "fig.layout.update(showlegend=False,\n",
        "                  yaxis =  {\"title\": {\"text\": \"Numero de Personas\"}}, # Cambiar texto eje y\n",
        "                  )\n",
        "fig.add_annotation(x=60, y=df_melt['value'].max(),\n",
        "                   text='https://joserzapata.github.io/', showarrow=False)\n",
        "# grabar grafica en chart-studio si se proporciona el api-key\n",
        "if api_key: py.plot(fig, filename = 'total_casos_no_china', auto_open=False)\n",
        "fig.show()"
      ]
    },
    {
      "cell_type": "markdown",
      "metadata": {
        "id": "gPDj3HYfKBIJ"
      },
      "source": [
        "# Animacion del Mapa de Evolucion Temporal del Codiv 19"
      ]
    },
    {
      "cell_type": "code",
      "execution_count": null,
      "metadata": {
        "id": "AQxF9NDpKHtS"
      },
      "outputs": [],
      "source": [
        "if api_key:\n",
        "    # se toman la serie de tiempo cada 18 dias, por que las graficas\n",
        "    # grandes no se pueden subir a chart-studio con subscripcion gratuita\n",
        "    confirmed_melt = confirmed_group.iloc[::-30].iloc[::-1].melt(id_vars=\"date\").copy()\n",
        "    confirmed_melt.rename(columns = {'value':'Confirmados', 'date':'Fecha'}, inplace = True)\n",
        "\n",
        "confirmed_melt['Fecha'] = pd.to_datetime(confirmed_melt['Fecha'])\n",
        "confirmed_melt['Fecha'] = confirmed_melt['Fecha'].dt.strftime('%m/%d/%Y')\n",
        "confirmed_melt['size'] = confirmed_melt['Confirmados'].pow(0.3)\n",
        "confirmed_melt.dropna(inplace=True) #eliminar filas con valores faltantes\n",
        "\n",
        "fig = px.scatter_geo(confirmed_melt, locations=\"Country/Region\", locationmode='country names',\n",
        "                     color=\"Confirmados\", size='size', hover_name=\"Country/Region\",\n",
        "                     range_color= [0, max(confirmed_melt['Confirmados'])+2],\n",
        "                     projection=\"natural earth\", animation_frame=\"Fecha\",\n",
        "                     title='Contagiados COVID 19 en el Tiempo')\n",
        "fig.update(layout_coloraxis_showscale=False)\n",
        "fig.add_annotation(x=0.5, y=-0.1,text='https://joserzapata.github.io/', showarrow=False)\n",
        "# grabar grafica en chart-studio si se proporciona el api-key\n",
        "if api_key: py.plot(fig, filename = 'mapa_evolucion_temporal', auto_open=False)\n",
        "fig.show()"
      ]
    },
    {
      "cell_type": "markdown",
      "metadata": {
        "id": "CU-c2Nw6jH2v"
      },
      "source": [
        "## Numero de Casos COVID 19 en Colombia"
      ]
    },
    {
      "cell_type": "code",
      "execution_count": null,
      "metadata": {
        "id": "NJL6KgRTjG6g"
      },
      "outputs": [],
      "source": [
        "column_names = [\"Fecha\", \"Confirmados\", \"Recuperados\",\"Muertos\", \"Activos\"]\n",
        "colombia = pd.DataFrame(columns = column_names)\n",
        "colombia['Fecha'] = confirmed_group['date']\n",
        "colombia['Confirmados'] = confirmed_group['Colombia']\n",
        "colombia['Muertos'] = death_group['Colombia']\n",
        "colombia['Recuperados'] = recovered_group['Colombia']\n",
        "colombia['Activos'] = colombia['Confirmados'] - colombia['Recuperados'] - colombia['Muertos']\n",
        "df_melt3 = colombia.melt(id_vars='Fecha', value_vars= list(colombia.columns)[1:], var_name=None)\n",
        "fig = px.line(df_melt3, x='Fecha' , y='value', color='variable',\n",
        "              color_discrete_sequence=[\"teal\",\"green\",\"coral\", \"navy\"],\n",
        "              title=f'Corona virus (COVID 19) en Colombia - {colombia.iloc[-1,0]}')\n",
        "# Indicador de numero total de confirmados\n",
        "fig.add_indicator( title= {'text':'Confirmados', 'font':{'color':'teal'}},\n",
        "                  value = colombia['Confirmados'].iloc[-1],\n",
        "                  mode = \"number+delta\", delta = {\"reference\": colombia['Confirmados'\n",
        "                  ].iloc[-2], 'relative': True },domain = {'x': [0, 0.25], 'y': [0.15, .4]})\n",
        "#Indicador numero total de Activos\n",
        "fig.add_indicator(title={'text':'Activos', 'font':{'color':'navy'}},\n",
        "                  value = colombia['Activos'].iloc[-1],\n",
        "                  mode = \"number+delta\", delta = {\"reference\": colombia['Activos'\n",
        "                  ].iloc[-2], 'relative': True },domain = {'x': [0, 0.25], 'y': [0.6, .85]})\n",
        "#Indicador numero total de Recuperados\n",
        "fig.add_indicator(title={'text':'Recuperados', 'font':{'color':'green'}},\n",
        "                  value = colombia['Recuperados'].iloc[-1],\n",
        "                  mode = \"number+delta\", delta = {\"reference\": colombia['Recuperados'\n",
        "                  ].iloc[-2], 'relative': True },domain = {'x': [0.25, 0.50], 'y': [0.6, .85]})\n",
        "#Indicador numero total de muertos\n",
        "fig.add_indicator(title={'text':'Muertos', 'font':{'color':'coral'}},\n",
        "                  value = colombia['Muertos'].iloc[-1],\n",
        "                  mode = \"number+delta\", delta = {\"reference\": colombia['Muertos'\n",
        "                  ].iloc[-2], 'relative': True },domain = {'x': [0.25, 0.5], 'y': [0.15, .4]})\n",
        "fig.add_annotation(x=140, y=df_melt3['value'].max(),\n",
        "                   text='https://joserzapata.github.io/', showarrow=False)\n",
        "fig.layout.update(showlegend=False,\n",
        "                  yaxis =  {\"title\": {\"text\": \"Numero de Personas\"}}, # Cambiar texto eje y\n",
        "                  xaxis =  {\"title\": {\"text\": \"Fecha\"}})\n",
        "# grabar grafica en chart-studio si se proporciona el api-key\n",
        "if api_key: py.plot(fig, filename = 'Colombia_general', auto_open=False)\n",
        "fig.show()"
      ]
    },
    {
      "cell_type": "markdown",
      "metadata": {
        "id": "P7oX7axkfJyq"
      },
      "source": [
        "# Codigo Fuente Jupyter notebook\n",
        "## Ejecutar en Google Colaboratory\n",
        "[![Open In Colab](https://colab.research.google.com/assets/colab-badge.svg)](https://colab.research.google.com/github/JoseRZapata/JoseRZapata.github.io/blob/master/Jupyter_Notebook/Covid19_Visualizacion_es.ipynb)\n",
        "\n",
        "## Ejecutar en MyBinder\n",
        "[![Binder](https://mybinder.org/badge_logo.svg)](https://mybinder.org/v2/gh/JoseRZapata/JoseRZapata.github.io/master?filepath=Jupyter_Notebook/Covid19_Visualizacion_es.ipynb)\n",
        "\n",
        "## Leer en nbviewer\n",
        "[![nbviewer](https://img.shields.io/badge/render-nbviewer-orange.svg)](https://nbviewer.jupyter.org/github/JoseRZapata/JoseRZapata.github.io/blob/master/Jupyter_Notebook/Covid19_Visualizacion_es.ipynb)"
      ]
    },
    {
      "cell_type": "markdown",
      "metadata": {
        "id": "E6mkrGmdxXI4"
      },
      "source": [
        "# Refencias\n",
        "Fuentes de datos, visualizaciones y analisis de datos.\n",
        "\n",
        "- https://github.com/CSSEGISandData/COVID-19\n",
        "- https://www.kaggle.com/imdevskp/covid-19-analysis-viz-prediction-comparisons\n",
        "- https://junye0798.com/post/build-a-dashboard-to-track-the-spread-of-coronavirus-using-dash/\n",
        "- https://github.com/Perishleaf/data-visualisation-scripts/tree/master/dash-2019-coronavirus\n",
        "- https://medium.com/tomas-pueyo/coronavirus-por-qu%C3%A9-debemos-actuar-ya-93079c61e200"
      ]
    }
  ],
  "metadata": {
    "colab": {
      "name": "Covid19_Visualizacion_v3.ipynb",
      "provenance": []
    },
    "kernelspec": {
      "display_name": "Python 3.8.3 ('base')",
      "language": "python",
      "name": "python3"
    },
    "language_info": {
      "codemirror_mode": {
        "name": "ipython",
        "version": 3
      },
      "file_extension": ".py",
      "mimetype": "text/x-python",
      "name": "python",
      "nbconvert_exporter": "python",
      "pygments_lexer": "ipython3",
      "version": "3.10.13"
    },
    "toc": {
      "base_numbering": 1,
      "nav_menu": {},
      "number_sections": true,
      "sideBar": true,
      "skip_h1_title": false,
      "title_cell": "Table of Contents",
      "title_sidebar": "Contents",
      "toc_cell": false,
      "toc_position": {},
      "toc_section_display": true,
      "toc_window_display": false
    },
    "varInspector": {
      "cols": {
        "lenName": 16,
        "lenType": 16,
        "lenVar": 40
      },
      "kernels_config": {
        "python": {
          "delete_cmd_postfix": "",
          "delete_cmd_prefix": "del ",
          "library": "var_list.py",
          "varRefreshCmd": "print(var_dic_list())"
        },
        "r": {
          "delete_cmd_postfix": ") ",
          "delete_cmd_prefix": "rm(",
          "library": "var_list.r",
          "varRefreshCmd": "cat(var_dic_list()) "
        }
      },
      "types_to_exclude": [
        "module",
        "function",
        "builtin_function_or_method",
        "instance",
        "_Feature"
      ],
      "window_display": false
    },
    "vscode": {
      "interpreter": {
        "hash": "447c0f0993c7e50bc10ddc9bd7e362220c6ef046a7e5a6eb2fbe70cad79928d7"
      }
    }
  },
  "nbformat": 4,
  "nbformat_minor": 0
}
