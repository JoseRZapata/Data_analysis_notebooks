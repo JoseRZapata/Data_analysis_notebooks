{
  "cells": [
    {
      "cell_type": "markdown",
      "metadata": {
        "id": "AVfznQKR-I--"
      },
      "source": [
        "# Visualizacion del Coronavirus (COVID19) Mundial con plotly\n",
        "por: Jose R. Zapata - https://joserzapata.github.io/\n",
        "\n",
        "\n",
        "Link: https://joserzapata.github.io/post/covid19-visualizacion/\n",
        "\n",
        "He visto en las redes sociales varias visualizaciones de los datos del COVID 19 y queria realizarlos en Python para tener la actualizacion de las graficas\n",
        "actualizadas cada dia, y ademas practicar el uso de [plotly](https://plotly.com/) para visualizacion interactiva.\n",
        "\n",
        "Las Graficas se actualizaran diariamente con los nuevos datos!\n",
        "\n",
        "Informacion extraida de 2019 Novel Coronavirus COVID-19 (2019-nCoV) Data Repository by Johns Hopkins CSSE\n",
        "\n",
        "https://github.com/CSSEGISandData/COVID-19\n",
        "\n",
        "**Actualizaciones**\n",
        "- 25/May/2020 agregar datos de personas recuperadas\n",
        "- 29/May/2020 actualizacion a plotly 0.48\n",
        "- 25/Sep/2020 Mapa Mundial de Confirmados por Pais con choropleth\n",
        "- 24/Nov/2022 Top 10 progresion paises\n",
        "- 21/Oct/2023 actualizar graficas y librerias"
      ]
    },
    {
      "cell_type": "markdown",
      "metadata": {
        "id": "l8tbwHgTf71J"
      },
      "source": [
        "[![Open In Colab](https://colab.research.google.com/assets/colab-badge.svg)](https://colab.research.google.com/github/JoseRZapata/JoseRZapata.github.io/blob/master/Jupyter_Notebook/Covid19_Visualizacion_es.ipynb) [![Binder](https://mybinder.org/badge_logo.svg)](https://mybinder.org/v2/gh/JoseRZapata/JoseRZapata.github.io/master?filepath=Jupyter_Notebook/Covid19_Visualizacion_es.ipynb)  [![nbviewer](https://img.shields.io/badge/render-nbviewer-orange.svg)](https://nbviewer.jupyter.org/github/JoseRZapata/JoseRZapata.github.io/blob/master/Jupyter_Notebook/Covid19_Visualizacion_es.ipynb)"
      ]
    },
    {
      "cell_type": "code",
      "execution_count": null,
      "metadata": {
        "id": "Fx_yb96YHeOb"
      },
      "outputs": [],
      "source": [
        "import pandas as pd\n",
        "import plotly.express as px\n",
        "import numpy as np\n",
        "\n",
        "#!pip install chart_studio -q\n",
        "import chart_studio"
      ]
    },
    {
      "cell_type": "code",
      "execution_count": null,
      "metadata": {},
      "outputs": [],
      "source": [
        "#print pandas, px an numpy version\n",
        "print('pandas version: ', pd.__version__)\n",
        "print('numpy version: ', np.__version__)"
      ]
    },
    {
      "cell_type": "code",
      "execution_count": null,
      "metadata": {
        "id": "Ihyj4DOWzcdo",
        "tags": []
      },
      "outputs": [],
      "source": [
        "# Leer archivo con los datos de acceso a chart_studio\n",
        "# si no esta, dejar los campos vacios\n",
        "try:\n",
        "    with open(\"../../info_chart.csv\",\"r\") as f:\n",
        "        info_user = f.read().split(\";\")\n",
        "        username = info_user[0] # your username\n",
        "        api_key = info_user[1] # your api key\n",
        "        print('api_key loaded!')\n",
        "except:\n",
        "    username = '' # your username\n",
        "    api_key =''\n",
        "\n",
        "if api_key: chart_studio.tools.set_credentials_file(username=username, api_key=api_key)\n",
        "import chart_studio.plotly as py"
      ]
    },
    {
      "cell_type": "code",
      "execution_count": null,
      "metadata": {
        "id": "lT7Dgoqy-YQA"
      },
      "outputs": [],
      "source": [
        "# Leer datos\n",
        "\n",
        "# los datos de personas recuperadas no eran confiables entonces ya solo se tienen los datos de confirmados y muertos\n",
        "\n",
        "confirmed = pd.read_csv('https://github.com/CSSEGISandData/COVID-19/raw/master/csse_covid_19_data/csse_covid_19_time_series/time_series_covid19_confirmed_global.csv')\n",
        "death = pd.read_csv('https://github.com/CSSEGISandData/COVID-19/raw/master/csse_covid_19_data/csse_covid_19_time_series/time_series_covid19_deaths_global.csv')\n",
        "recovered = pd.read_csv('https://github.com/CSSEGISandData/COVID-19/raw/master/csse_covid_19_data/csse_covid_19_time_series/time_series_covid19_recovered_global.csv')\n"
      ]
    },
    {
      "cell_type": "markdown",
      "metadata": {
        "id": "1nocx9xeA5UY"
      },
      "source": [
        "## Datos CSSEGISandData/COVID-19\n",
        "\n",
        "Descripcion de los datos\n",
        "\n",
        "**Province/State:** China - province name; US/Canada/Australia/ - city name, state/province name; Others - name of the event (e.g., \"Diamond Princess\" cruise ship); other countries - blank.\n",
        "\n",
        "**Country/Region:** country/region name conforming to WHO (will be updated).\n",
        "\n",
        "**Last Update:** MM/DD/YYYY HH:mm (24 hour format, in UTC).\n",
        "\n",
        "**Confirmed: **the number of confirmed cases. For Hubei Province: from Feb 13 (GMT +8), we report both clinically diagnosed and lab-confirmed cases. For lab-confirmed cases only (Before Feb 17), please refer to who_covid_19_situation_reports. For Italy, diagnosis standard might be changed since Feb 27 to \"slow the growth of new case numbers.\"\n",
        "\n",
        "**Deaths:** the number of deaths.\n",
        "\n",
        "**Recovered:** the number of recovered cases."
      ]
    },
    {
      "cell_type": "code",
      "execution_count": null,
      "metadata": {
        "id": "fTZI2C13_rsQ"
      },
      "outputs": [],
      "source": [
        "confirmed.iloc[:5,:8]"
      ]
    },
    {
      "cell_type": "markdown",
      "metadata": {
        "id": "N2E7F_J4BqN-"
      },
      "source": [
        "## Datos Generales de cada Dataframe"
      ]
    },
    {
      "cell_type": "code",
      "execution_count": null,
      "metadata": {
        "id": "dKDC24PCCGjq"
      },
      "outputs": [],
      "source": [
        "confirmed.info()"
      ]
    },
    {
      "cell_type": "markdown",
      "metadata": {},
      "source": [
        "Paises con multiples datos por Provincia/Estado"
      ]
    },
    {
      "cell_type": "code",
      "execution_count": null,
      "metadata": {},
      "outputs": [],
      "source": [
        "print(confirmed\n",
        "      .loc[confirmed['Country/Region'].duplicated(keep=False),\n",
        "           'Country/Region']\n",
        "      .drop_duplicates()\n",
        "      .unique()\n",
        "    )"
      ]
    },
    {
      "cell_type": "markdown",
      "metadata": {},
      "source": [
        "Sumar los datos de cada pais"
      ]
    },
    {
      "cell_type": "code",
      "execution_count": null,
      "metadata": {},
      "outputs": [],
      "source": [
        "def sumar_datos_region(df: pd.DataFrame) -> pd.DataFrame:\n",
        "    \"\"\"\n",
        "    Suma los datos de cada región en el dataframe dado.\n",
        "    Args:\n",
        "        df (pd.DataFrame): El dataframe del cual se sumarán los datos.\n",
        "    Returns:\n",
        "        pd.DataFrame: Un nuevo dataframe con los datos sumados para cada región.\n",
        "    \"\"\"\n",
        "    df = (df.groupby(['Country/Region'])\n",
        "          .sum()\n",
        "          .reset_index())\n",
        "    return df\n",
        "\n",
        "# aplicar la funcion a los tres dataframes\n",
        "confirmed, death, recovered = (sumar_datos_region(df) \n",
        "                               for df \n",
        "                               in (confirmed, death, recovered))"
      ]
    },
    {
      "cell_type": "markdown",
      "metadata": {},
      "source": [
        "Country/Region como indice de los dataframes"
      ]
    },
    {
      "cell_type": "code",
      "execution_count": null,
      "metadata": {},
      "outputs": [],
      "source": [
        "\n",
        "confirmed, death, recovered = (df.set_index('Country/Region') \n",
        "                               for df \n",
        "                               in (confirmed, death, recovered))"
      ]
    },
    {
      "cell_type": "markdown",
      "metadata": {
        "id": "Vh7JPE-MChF2"
      },
      "source": [
        "### Eliminar Ubicacion\n",
        "\n",
        "Se va realizar un analisis general de los datos y No se van a tomar los datos geograficos de *latitud*, *longitud* y los datos de *Province/State* estan incompletos.\n",
        "\n",
        "Solo se realizara un analisis por pais entonces se eliminaran las columnas mencionadas anteriormenten de cada dataframe.\n"
      ]
    },
    {
      "cell_type": "code",
      "execution_count": null,
      "metadata": {
        "id": "bnNhCaqKDdmC"
      },
      "outputs": [],
      "source": [
        "confirmed, death, recovered = (df.drop(columns=['Lat',\n",
        "                                                'Long',\n",
        "                                                'Province/State']) \n",
        "                               for df \n",
        "                               in (confirmed, death, recovered))"
      ]
    },
    {
      "cell_type": "markdown",
      "metadata": {},
      "source": [
        "### Datos de Personas Recuperadas"
      ]
    },
    {
      "cell_type": "code",
      "execution_count": null,
      "metadata": {},
      "outputs": [],
      "source": [
        "total_recuperados_dia = recovered.loc[:,:'8/15/21'] .sum(axis=\"index\")\n",
        "px.line(x=total_recuperados_dia.index,\n",
        "        y=total_recuperados_dia.values,\n",
        "        title='Numero de casos recuperados por dia')"
      ]
    },
    {
      "cell_type": "markdown",
      "metadata": {},
      "source": [
        "Los datos de *Recovered* estan disponibles solo hasta el 4/Agosto/2021"
      ]
    },
    {
      "cell_type": "markdown",
      "metadata": {
        "id": "x1I4DaJLnksH"
      },
      "source": [
        "### Datos Mundiales por dia"
      ]
    },
    {
      "cell_type": "code",
      "execution_count": null,
      "metadata": {},
      "outputs": [],
      "source": [
        "column_names = [\"Fecha\", \"Confirmados\", \"Recuperados\",\"Muertos\"]\n",
        "world = pd.DataFrame(columns = column_names)\n",
        "world[\"Fecha\"] = confirmed.columns\n",
        "world[\"Confirmados\"] = confirmed.sum(axis='rows').values\n",
        "world[\"Recuperados\"] = recovered.sum(axis='rows').values\n",
        "world[\"Muertos\"] = death.sum(axis='rows').values\n",
        "world[\"Activos\"] = world[\"Confirmados\"] - world[\"Recuperados\"] - world[\"Muertos\"]"
      ]
    },
    {
      "cell_type": "markdown",
      "metadata": {
        "id": "D1Pvbt3dzcdv"
      },
      "source": [
        "# Evolucion Animada de Casos Activos por Pais\n",
        "La gráfica animada de la evolución temporal de los casos activos por país, la he creado con la libreria [Pandas alive](https://github.com/JackMcKew/pandas_alive) y [Bar Chart Race](https://github.com/dexplo/bar_chart_race).\n",
        "La barra horizontal gris representa el valor promedio de casos activos a nivel mundial."
      ]
    },
    {
      "cell_type": "code",
      "execution_count": null,
      "metadata": {
        "id": "ZotaompXzcdv"
      },
      "outputs": [],
      "source": [
        "import pandas_alive\n",
        "active_evol = active_group.set_index('date')\n",
        "active_evol.index = pd.to_datetime(active_evol.index)"
      ]
    },
    {
      "cell_type": "code",
      "execution_count": null,
      "metadata": {
        "id": "zWUBWG8Tzcdw",
        "tags": []
      },
      "outputs": [],
      "source": [
        "import warnings\n",
        "warnings.filterwarnings(\"ignore\")\n",
        "hola = active_evol.plot_animated(filename='evolucion_casos_activos.mp4', n_bars=8,n_visible=8,\n",
        "                          title='Evolución en el tiempo de Casos Activos COVID-19 por pais \\n https://joserzapata.github.io/',\n",
        "                          period_label={'x': .99, 'y': .25, 'ha': 'right', 'va': 'center'},\n",
        "                          period_fmt='%B %d, %Y',\n",
        "                          dpi=300,\n",
        "                          period_summary_func=lambda v: {'x': .99, 'y': .18,\n",
        "                                      's': f'Total Activos: {v.nlargest(8).sum():,.0f}',\n",
        "                                      'ha': 'right', 'size': 9, 'family': 'Courier New'});"
      ]
    },
    {
      "cell_type": "markdown",
      "metadata": {
        "id": "Q2e5kRWeQrCs"
      },
      "source": [
        "# Visualizacion con Plotly"
      ]
    },
    {
      "cell_type": "markdown",
      "metadata": {
        "id": "Z8B5K4RxbkEQ"
      },
      "source": [
        "## Valores Mundiales de Confirmados, Recuperados y Muertos\n"
      ]
    },
    {
      "cell_type": "code",
      "execution_count": null,
      "metadata": {},
      "outputs": [],
      "source": [
        "# plotly bar plot of the last row of the world dataframe without Recuperados column\n",
        "fig = px.bar(world.iloc[-1][[\"Confirmados\",\"Muertos\"]],\n",
        "             x = [\"Confirmados\",\"Muertos\"], color = [\"Confirmados\",\"Muertos\"],\n",
        "             y = world.iloc[-1][[\"Confirmados\",\"Muertos\"]].values,\n",
        "             text = world.iloc[-1][[\"Confirmados\",\"Muertos\"]].values,\n",
        "             color_discrete_sequence=[\"navy\",\"coral\"],\n",
        "             height=500, width=600,\n",
        "             title='Total casos COVID-19 en el mundo al {}'.format(world.iloc[-1]['Fecha']),\n",
        "             labels={'value':'Número de casos', 'variable':'Tipo de caso'})\n",
        "fig.update_traces(textposition='outside')#poner los valores de las barras fuera\n",
        "fig.add_annotation(x= 'Muertos', y=world[\"Confirmados\"].max(), text='https://joserzapata.github.io/', showarrow=False)\n",
        "fig.layout.update(showlegend=False,\n",
        "                  yaxis =  {\"title\": {\"text\": \"Numero de Personas\"}}, # Cambiar texto eje y\n",
        "                  xaxis =  {\"title\": {\"text\": \"\"}} #Esconder nombre eje x\n",
        "                  )\n",
        "# grabar grafica en chart-studio si se proporciona el api-key\n",
        "if api_key: py.plot(fig, filename = 'total_casos_general', auto_open=False)\n",
        "fig.show()"
      ]
    },
    {
      "cell_type": "markdown",
      "metadata": {
        "id": "GxS-iNEJ1Gu6"
      },
      "source": [
        "## Mapa Mundial de Confirmados por Pais"
      ]
    },
    {
      "cell_type": "code",
      "execution_count": null,
      "metadata": {
        "id": "AWj0By9l00Ac"
      },
      "outputs": [],
      "source": [
        "conf_max = confirmed.iloc[:,-1].copy()\n",
        "conf_max = conf_max.to_frame().reset_index()\n",
        "conf_max = conf_max.rename(columns = {'3/9/23':'Confirmados'})\n",
        "\n",
        "fig = px.choropleth(conf_max, locations=\"Country/Region\", locationmode='country names',\n",
        "                     color=np.log10(conf_max[\"Confirmados\"]),hover_name=\"Country/Region\",\n",
        "                     hover_data = [\"Confirmados\"],\n",
        "                     projection=\"natural earth\", width=900,\n",
        "                     color_continuous_scale = px.colors.sequential.Jet,\n",
        "                     title='Mapa de Confirmados COVID 19 por Pais - 3/9/23')\n",
        "fig.add_annotation(x=0.5, y=0,text='https://joserzapata.github.io/', showarrow=False)\n",
        "fig.update(layout_coloraxis_showscale=False)\n",
        "# grabar grafica en chart-studio si se proporciona el api-key\n",
        "if api_key: py.plot(fig, filename = 'mapa_confirmados_pais', auto_open=False)\n",
        "fig.show()"
      ]
    },
    {
      "cell_type": "markdown",
      "metadata": {
        "id": "dpXpgQip1lfo"
      },
      "source": [
        "# Confirmados vs Muertos por pais"
      ]
    },
    {
      "cell_type": "code",
      "execution_count": null,
      "metadata": {
        "id": "mUsTPQU63Rf_"
      },
      "outputs": [],
      "source": [
        "max_fecha = \"3/9/23\"\n",
        "death_max = death.iloc[:,-1].copy()\n",
        "death_max = death_max.to_frame().reset_index()\n",
        "death_max = death_max.rename(columns = {max_fecha:'Muertos'})\n",
        "\n",
        "maxi_y = death_max[\"Muertos\"].max()\n",
        "maxi_x = conf_max[\"Confirmados\"].max()\n",
        "\n",
        "full_melt_max = pd.merge(conf_max[['Country/Region','Confirmados']],\n",
        "                         death_max[['Country/Region','Muertos']],\n",
        "                         on='Country/Region', how='left')\n",
        "\n",
        "fig = px.scatter(full_melt_max.sort_values('Muertos', ascending=False).iloc[:15, :],\n",
        "                 x='Confirmados', y='Muertos', color='Country/Region',\n",
        "                 size='Confirmados', height=500,width=900,\n",
        "                 text='Country/Region', log_x=True, log_y=True,\n",
        "                 title= f'Muertos vs Confirmados - {max_fecha} - (15 Paises)')\n",
        "fig.add_annotation(x=0.5, y=1, xref=\"paper\",yref=\"paper\",\n",
        "                   text='https://joserzapata.github.io/', showarrow=False)\n",
        "fig.update_traces(textposition='top center')\n",
        "fig.layout.update(showlegend = False)\n",
        "\n",
        "# grabar grafica en chart-studio si se proporciona el api-key\n",
        "if api_key: py.plot(fig, filename = 'scatter_muertos_confirmados', auto_open=False)\n",
        "fig.show()"
      ]
    },
    {
      "cell_type": "markdown",
      "metadata": {
        "id": "3b83uuD9G0yg"
      },
      "source": [
        "## Progresion Mundial en el Tiempo del numero de casos\n"
      ]
    },
    {
      "cell_type": "code",
      "execution_count": null,
      "metadata": {
        "id": "OUcnRkN9lqLk"
      },
      "outputs": [],
      "source": [
        "fecha_datos_completos = '8/4/21'\n",
        "pos_final = len(world.set_index('Fecha').loc[:fecha_datos_completos,:])\n",
        "world = world.iloc[:pos_final,:]\n",
        "world_melt = world.melt(id_vars='Fecha',\n",
        "                         value_vars= list(world.columns)[1:],\n",
        "                         var_name=None)\n",
        "fig = px.line(world_melt, x=\"Fecha\", y= 'value',\n",
        "              color='variable',  color_discrete_sequence=[\"teal\",\"green\",\"coral\", \"navy\"],\n",
        "              title=f'Total de Casos en el tiempo de COVID 19 - {fecha_datos_completos}')\n",
        "for n in list(world.columns)[1:]:\n",
        "  fig.add_annotation(x=world.iloc[-1,0], y=world.loc[world.index[-1],n],\n",
        "                     text=n, xref=\"x\",yref=\"y\",\n",
        "                     showarrow=True, ax=-50, ay=-20)\n",
        "# Indicador de numero total de confirmados\n",
        "fig.add_indicator( title= {'text':'Confirmados', 'font':{'color':'teal'}},\n",
        "                  value = world['Confirmados'].iloc[-1],\n",
        "                  mode = \"number+delta\", delta = {\"reference\": world['Confirmados'\n",
        "                  ].iloc[-2], 'relative': True },domain = {'x': [0, 0.25], 'y': [0.15, .4]})\n",
        "#Indicador numero total de Activos\n",
        "fig.add_indicator(title={'text':'Activos', 'font':{'color':'navy'}},\n",
        "                  value = world['Activos'].iloc[-1],\n",
        "                  mode = \"number+delta\", delta = {\"reference\": world['Activos'\n",
        "                  ].iloc[-2], 'relative': True },domain = {'x': [0, 0.25], 'y': [0.6, .85]})\n",
        "#Indicador numero total de Recuperados\n",
        "fig.add_indicator(title={'text':'Recuperados', 'font':{'color':'green'}},\n",
        "                  value = world['Recuperados'].iloc[-1],\n",
        "                  mode = \"number+delta\", delta = {\"reference\": world['Recuperados'\n",
        "                  ].iloc[-2], 'relative': True },domain = {'x': [0.25, 0.50], 'y': [0.6, .85]})\n",
        "#Indicador numero total de muertos\n",
        "fig.add_indicator(title={'text':'Muertos', 'font':{'color':'coral'}},\n",
        "                  value = world['Muertos'].iloc[-1],\n",
        "                  mode = \"number+delta\", delta = {\"reference\": world['Muertos'\n",
        "                  ].iloc[-2], 'relative': True },domain = {'x': [0.25, 0.5], 'y': [0.15, .4]})\n",
        "fig.add_annotation(x=400, y=world_melt['value'].max(),\n",
        "                   text='https://joserzapata.github.io/', showarrow=False)\n",
        "fig.layout.update(showlegend = False,\n",
        "                  yaxis =  {\"title\": {\"text\": \"Numero de Personas\"}}, # Cambiar texto eje y\n",
        "                  )\n",
        "# grabar grafica en chart-studio si se proporciona el api-key\n",
        "if api_key: py.plot(fig, filename = 'total_casos_serie', auto_open=False)\n",
        "fig.show()"
      ]
    },
    {
      "cell_type": "markdown",
      "metadata": {
        "id": "o-ong5NYHCsT"
      },
      "source": [
        "## Total Casos Confirmados de COVID 19 por Pais (Top 10)\n"
      ]
    },
    {
      "cell_type": "code",
      "execution_count": null,
      "metadata": {
        "id": "iSsXyRwJN8_X"
      },
      "outputs": [],
      "source": [
        "df1 = confirmed.copy()\n",
        "fecha = confirmed.columns[-1] #obtener la fecha del ultimo dato\n",
        "paises = df1.iloc[:,-1].copy() #obtener la serie sin el primer dato, fecha\n",
        "paises.sort_values(ascending=False, inplace=True)\n",
        "top = 10\n",
        "#keep top countries\n",
        "df1 = df1.loc[paises[:top].index.to_list(),:]\n",
        "df1 = df1.T\n",
        "\n",
        "if api_key:\n",
        "    # se toman la serie de tiempo cada 7 dias, por que las graficas\n",
        "    # grandes no se pueden subir a chart-studio con subscripcion gratuita\n",
        "    df1 = df1.iloc[::-7].iloc[::-1]\n",
        "\n",
        "fig = px.line(df1, x=df1.index, y=df1.columns, color='Country/Region',\n",
        "              color_discrete_sequence=px.colors.qualitative.G10, width=900,\n",
        "              hover_name='Country/Region',\n",
        "              title=f'Total Casos Confirmados de COVID 19 por Pais (Top 10) - {world.iloc[-1,0]}')\n",
        "# top paises mas infectados\n",
        "\n",
        "mas_infectados=[]\n",
        "for n in range(top):\n",
        "  fig.add_annotation(x=fecha, y=paises.iloc[n], text=paises.index[n],\n",
        "                     showarrow=True, ax=+45, xref=\"x\",yref=\"y\")\n",
        "  mas_infectados.append(paises.index[n])\n",
        "\n",
        "fig.layout.update(showlegend=False,\n",
        "                  yaxis =  {\"title\": {\"text\": \"Numero de Personas\"}}, # Cambiar texto eje y\n",
        "                  xaxis =  {\"title\": {\"text\": \"Fecha\"}} #Esconder nombre eje x\n",
        "                  )\n",
        "fig.add_annotation(x=200, y=df1.max().max(),\n",
        "                   text='https://joserzapata.github.io/', showarrow=False)\n",
        "# grabar grafica en chart-studio si se proporciona el api-key\n",
        "if api_key: py.plot(fig, filename = 'total_casos_no_china', auto_open=False)\n",
        "fig.show()"
      ]
    },
    {
      "cell_type": "markdown",
      "metadata": {
        "id": "gPDj3HYfKBIJ"
      },
      "source": [
        "# Animacion del Mapa de Evolucion Temporal del Codiv 19"
      ]
    },
    {
      "cell_type": "code",
      "execution_count": null,
      "metadata": {},
      "outputs": [],
      "source": [
        "# confirmed data frame en formato wide\n",
        "confirmed = confirmed.T\n",
        "confirmed.reset_index(inplace=True)\n",
        "confirmed.rename(columns={'index':'Fecha'}, inplace=True)\n",
        "confirmed_melt = confirmed.melt(id_vars=\"Fecha\").copy()\n",
        "confirmed_melt.rename(columns = {'value':'Confirmados'}, inplace = True)"
      ]
    },
    {
      "cell_type": "code",
      "execution_count": null,
      "metadata": {
        "id": "AQxF9NDpKHtS"
      },
      "outputs": [],
      "source": [
        "if api_key:\n",
        "    # se toman la serie de tiempo cada 18 dias, por que las graficas\n",
        "    # grandes no se pueden subir a chart-studio con subscripcion gratuita\n",
        "    confirmed_melt = confirmed.iloc[::-30].iloc[::-1].melt(id_vars=\"date\").copy()\n",
        "    confirmed_melt.rename(columns = {'value':'Confirmados', 'date':'Fecha'}, inplace = True)\n",
        "\n",
        "confirmed_melt['Fecha'] = pd.to_datetime(confirmed_melt['Fecha'], format='%m/%d/%y')\n",
        "confirmed_melt['size'] = confirmed_melt['Confirmados'].pow(0.3)\n",
        "confirmed_melt.dropna(inplace=True) #eliminar filas con valores faltantes\n",
        "\n",
        "fig = px.scatter_geo(confirmed_melt, locations=\"Country/Region\", locationmode='country names',\n",
        "                     color=\"Confirmados\", size='size', hover_name=\"Country/Region\",\n",
        "                     range_color= [0, max(confirmed_melt['Confirmados'])+2],\n",
        "                     projection=\"natural earth\", animation_frame=\"Fecha\",\n",
        "                     title='Contagiados COVID 19 en el Tiempo')\n",
        "fig.update(layout_coloraxis_showscale=False)\n",
        "fig.add_annotation(x=0.5, y=-0.1,text='https://joserzapata.github.io/', showarrow=False)\n",
        "# grabar grafica en chart-studio si se proporciona el api-key\n",
        "if api_key: py.plot(fig, filename = 'mapa_evolucion_temporal', auto_open=False)\n",
        "fig.show()"
      ]
    },
    {
      "cell_type": "markdown",
      "metadata": {
        "id": "CU-c2Nw6jH2v"
      },
      "source": [
        "## Numero de Casos COVID 19 en Colombia"
      ]
    },
    {
      "cell_type": "code",
      "execution_count": null,
      "metadata": {
        "id": "NJL6KgRTjG6g"
      },
      "outputs": [],
      "source": [
        "column_names = [\"Fecha\", \"Confirmados\", \"Recuperados\",\"Muertos\", \"Activos\"]\n",
        "colombia = pd.DataFrame(columns = column_names)\n",
        "colombia['Fecha'] = confirmed_group['date']\n",
        "colombia['Confirmados'] = confirmed_group['Colombia']\n",
        "colombia['Muertos'] = death_group['Colombia']\n",
        "colombia['Recuperados'] = recovered_group['Colombia']\n",
        "colombia['Activos'] = colombia['Confirmados'] - colombia['Recuperados'] - colombia['Muertos']\n",
        "df_melt3 = colombia.melt(id_vars='Fecha', value_vars= list(colombia.columns)[1:], var_name=None)\n",
        "fig = px.line(df_melt3, x='Fecha' , y='value', color='variable',\n",
        "              color_discrete_sequence=[\"teal\",\"green\",\"coral\", \"navy\"],\n",
        "              title=f'Corona virus (COVID 19) en Colombia - {colombia.iloc[-1,0]}')\n",
        "# Indicador de numero total de confirmados\n",
        "fig.add_indicator( title= {'text':'Confirmados', 'font':{'color':'teal'}},\n",
        "                  value = colombia['Confirmados'].iloc[-1],\n",
        "                  mode = \"number+delta\", delta = {\"reference\": colombia['Confirmados'\n",
        "                  ].iloc[-2], 'relative': True },domain = {'x': [0, 0.25], 'y': [0.15, .4]})\n",
        "#Indicador numero total de Activos\n",
        "fig.add_indicator(title={'text':'Activos', 'font':{'color':'navy'}},\n",
        "                  value = colombia['Activos'].iloc[-1],\n",
        "                  mode = \"number+delta\", delta = {\"reference\": colombia['Activos'\n",
        "                  ].iloc[-2], 'relative': True },domain = {'x': [0, 0.25], 'y': [0.6, .85]})\n",
        "#Indicador numero total de Recuperados\n",
        "fig.add_indicator(title={'text':'Recuperados', 'font':{'color':'green'}},\n",
        "                  value = colombia['Recuperados'].iloc[-1],\n",
        "                  mode = \"number+delta\", delta = {\"reference\": colombia['Recuperados'\n",
        "                  ].iloc[-2], 'relative': True },domain = {'x': [0.25, 0.50], 'y': [0.6, .85]})\n",
        "#Indicador numero total de muertos\n",
        "fig.add_indicator(title={'text':'Muertos', 'font':{'color':'coral'}},\n",
        "                  value = colombia['Muertos'].iloc[-1],\n",
        "                  mode = \"number+delta\", delta = {\"reference\": colombia['Muertos'\n",
        "                  ].iloc[-2], 'relative': True },domain = {'x': [0.25, 0.5], 'y': [0.15, .4]})\n",
        "fig.add_annotation(x=140, y=df_melt3['value'].max(),\n",
        "                   text='https://joserzapata.github.io/', showarrow=False)\n",
        "fig.layout.update(showlegend=False,\n",
        "                  yaxis =  {\"title\": {\"text\": \"Numero de Personas\"}}, # Cambiar texto eje y\n",
        "                  xaxis =  {\"title\": {\"text\": \"Fecha\"}})\n",
        "# grabar grafica en chart-studio si se proporciona el api-key\n",
        "if api_key: py.plot(fig, filename = 'Colombia_general', auto_open=False)\n",
        "fig.show()"
      ]
    },
    {
      "cell_type": "markdown",
      "metadata": {
        "id": "P7oX7axkfJyq"
      },
      "source": [
        "# Codigo Fuente Jupyter notebook\n",
        "## Ejecutar en Google Colaboratory\n",
        "[![Open In Colab](https://colab.research.google.com/assets/colab-badge.svg)](https://colab.research.google.com/github/JoseRZapata/JoseRZapata.github.io/blob/master/Jupyter_Notebook/Covid19_Visualizacion_es.ipynb)\n",
        "\n",
        "## Ejecutar en MyBinder\n",
        "[![Binder](https://mybinder.org/badge_logo.svg)](https://mybinder.org/v2/gh/JoseRZapata/JoseRZapata.github.io/master?filepath=Jupyter_Notebook/Covid19_Visualizacion_es.ipynb)\n",
        "\n",
        "## Leer en nbviewer\n",
        "[![nbviewer](https://img.shields.io/badge/render-nbviewer-orange.svg)](https://nbviewer.jupyter.org/github/JoseRZapata/JoseRZapata.github.io/blob/master/Jupyter_Notebook/Covid19_Visualizacion_es.ipynb)"
      ]
    },
    {
      "cell_type": "markdown",
      "metadata": {
        "id": "E6mkrGmdxXI4"
      },
      "source": [
        "# Refencias\n",
        "Fuentes de datos, visualizaciones y analisis de datos.\n",
        "\n",
        "- https://github.com/CSSEGISandData/COVID-19\n",
        "- https://www.kaggle.com/imdevskp/covid-19-analysis-viz-prediction-comparisons\n",
        "- https://junye0798.com/post/build-a-dashboard-to-track-the-spread-of-coronavirus-using-dash/\n",
        "- https://github.com/Perishleaf/data-visualisation-scripts/tree/master/dash-2019-coronavirus\n",
        "- https://medium.com/tomas-pueyo/coronavirus-por-qu%C3%A9-debemos-actuar-ya-93079c61e200"
      ]
    }
  ],
  "metadata": {
    "colab": {
      "name": "Covid19_Visualizacion_v3.ipynb",
      "provenance": []
    },
    "kernelspec": {
      "display_name": "Python 3.8.3 ('base')",
      "language": "python",
      "name": "python3"
    },
    "language_info": {
      "codemirror_mode": {
        "name": "ipython",
        "version": 3
      },
      "file_extension": ".py",
      "mimetype": "text/x-python",
      "name": "python",
      "nbconvert_exporter": "python",
      "pygments_lexer": "ipython3",
      "version": "3.10.13"
    },
    "toc": {
      "base_numbering": 1,
      "nav_menu": {},
      "number_sections": true,
      "sideBar": true,
      "skip_h1_title": false,
      "title_cell": "Table of Contents",
      "title_sidebar": "Contents",
      "toc_cell": false,
      "toc_position": {},
      "toc_section_display": true,
      "toc_window_display": false
    },
    "varInspector": {
      "cols": {
        "lenName": 16,
        "lenType": 16,
        "lenVar": 40
      },
      "kernels_config": {
        "python": {
          "delete_cmd_postfix": "",
          "delete_cmd_prefix": "del ",
          "library": "var_list.py",
          "varRefreshCmd": "print(var_dic_list())"
        },
        "r": {
          "delete_cmd_postfix": ") ",
          "delete_cmd_prefix": "rm(",
          "library": "var_list.r",
          "varRefreshCmd": "cat(var_dic_list()) "
        }
      },
      "types_to_exclude": [
        "module",
        "function",
        "builtin_function_or_method",
        "instance",
        "_Feature"
      ],
      "window_display": false
    },
    "vscode": {
      "interpreter": {
        "hash": "447c0f0993c7e50bc10ddc9bd7e362220c6ef046a7e5a6eb2fbe70cad79928d7"
      }
    }
  },
  "nbformat": 4,
  "nbformat_minor": 0
}
