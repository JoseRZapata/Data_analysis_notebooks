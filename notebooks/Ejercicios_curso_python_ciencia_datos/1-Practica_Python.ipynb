{
 "cells": [
  {
   "cell_type": "markdown",
   "metadata": {
    "colab_type": "text",
    "id": "0m1rcba82oPe"
   },
   "source": [
    "# [PRACTICA DE PYTHON](https://joserzapata.github.io/courses/python-ciencia-datos/python/) \n",
    "## [Curso Python para Ciencia de datos](https://joserzapata.github.io/courses/python-ciencia-datos/)\n",
    "### Por Jose R. Zapata - https://joserzapata.github.io/ "
   ]
  },
  {
   "cell_type": "markdown",
   "metadata": {},
   "source": [
    "<div class=\"alert alert-success\">\n",
    "\n",
    "<b>NOTA:</b> Realizar Primero los ejercicios y luego revisar las soluciones propuestas.\n",
    "\n",
    "[Solucion Ejercicios Python - click para abrir](https://joserzapata.github.io/courses/python-ciencia-datos/python/1-practica_python-solucion/)\n",
    "\n",
    "</div>"
   ]
  },
  {
   "cell_type": "markdown",
   "metadata": {
    "colab_type": "text",
    "id": "qDEj_c6k2oPf"
   },
   "source": [
    "**Ejercicios**\n",
    "\n",
    "Responda las preguntas o complete las tareas que se detallan en negrita a continuación, use el método específico descrito, si corresponde."
   ]
  },
  {
   "cell_type": "markdown",
   "metadata": {
    "colab_type": "text",
    "id": "CCg66PLy2oPg"
   },
   "source": [
    "**Cuanto es 43*28?**"
   ]
  },
  {
   "cell_type": "code",
   "execution_count": 1,
   "metadata": {
    "colab": {
     "base_uri": "https://localhost:8080/",
     "height": 34
    },
    "colab_type": "code",
    "executionInfo": {
     "elapsed": 1209,
     "status": "ok",
     "timestamp": 1570285758286,
     "user": {
      "displayName": "Jose R. Zapata",
      "photoUrl": "https://lh3.googleusercontent.com/a-/AAuE7mBoP2XxSCphybF8RCzY3gLLP2Vcplcjlg0wuvM6MA=s64",
      "userId": "14263137554151707040"
     },
     "user_tz": 300
    },
    "id": "tQOWEcm353sh",
    "outputId": "1326adae-939f-4379-8939-a940cdf3d6bc"
   },
   "outputs": [],
   "source": [
    "# Copie su código aca\n",
    "\n"
   ]
  },
  {
   "cell_type": "code",
   "execution_count": 2,
   "metadata": {
    "colab": {
     "base_uri": "https://localhost:8080/",
     "height": 34
    },
    "colab_type": "code",
    "executionInfo": {
     "elapsed": 422,
     "status": "ok",
     "timestamp": 1560607154720,
     "user": {
      "displayName": "Jose R. Zapata",
      "photoUrl": "https://lh5.googleusercontent.com/-k7jxw2zlMWk/AAAAAAAAAAI/AAAAAAAAEYQ/-E9bKjQ-Pzc/s64/photo.jpg",
      "userId": "14263137554151707040"
     },
     "user_tz": 300
    },
    "id": "Yc-16ozPbGti",
    "outputId": "f69dca52-32d2-4e78-e41f-a528455781f3"
   },
   "outputs": [
    {
     "data": {
      "text/plain": [
       "1204"
      ]
     },
     "execution_count": 2,
     "metadata": {},
     "output_type": "execute_result"
    }
   ],
   "source": []
  },
  {
   "cell_type": "markdown",
   "metadata": {
    "colab_type": "text",
    "id": "aEaEZENK2oPn"
   },
   "source": [
    "**Cuanto es $7^4$?**"
   ]
  },
  {
   "cell_type": "code",
   "execution_count": 3,
   "metadata": {
    "colab": {},
    "colab_type": "code",
    "id": "Qefaa4MBbHkN"
   },
   "outputs": [],
   "source": [
    "# Copie su código aca\n"
   ]
  },
  {
   "cell_type": "code",
   "execution_count": 4,
   "metadata": {
    "colab": {},
    "colab_type": "code",
    "id": "Xe4wD5AG2oPo",
    "outputId": "e18a83b2-71fd-4a0b-dbe4-943481e85d35"
   },
   "outputs": [
    {
     "data": {
      "text/plain": [
       "2401"
      ]
     },
     "execution_count": 4,
     "metadata": {},
     "output_type": "execute_result"
    }
   ],
   "source": []
  },
  {
   "cell_type": "markdown",
   "metadata": {
    "colab_type": "text",
    "id": "i-1JI-Ch2oPr"
   },
   "source": [
    "**Divida esta cadena de caracteres:**\n",
    "\n",
    "    s = \"Hola Estoy feliz aprendiendo python!\"\n",
    "    \n",
    "**y conviertalo en una lista**"
   ]
  },
  {
   "cell_type": "code",
   "execution_count": 5,
   "metadata": {
    "colab": {},
    "colab_type": "code",
    "id": "vLkA5MCbbIkj"
   },
   "outputs": [],
   "source": [
    "# Copie su código aca\n"
   ]
  },
  {
   "cell_type": "code",
   "execution_count": 6,
   "metadata": {
    "colab": {},
    "colab_type": "code",
    "id": "vQJSpy9i2oPs",
    "outputId": "2be99425-a305-4e78-d4f4-3589df8a9b7f"
   },
   "outputs": [
    {
     "data": {
      "text/plain": [
       "['Hola', 'Estoy', 'feliz', 'aprendiendo', 'python!']"
      ]
     },
     "execution_count": 6,
     "metadata": {},
     "output_type": "execute_result"
    }
   ],
   "source": []
  },
  {
   "cell_type": "markdown",
   "metadata": {
    "colab_type": "text",
    "id": "Y1O1W6vo2oPw"
   },
   "source": [
    "**Dadas las siguientes variables:**\n",
    "\n",
    "    planeta = \"Tierra\"\n",
    "    diametro = 12742\n",
    "\n",
    "**Use f-strings para imprimir lo siguiente:**\n",
    "\n",
    "\n",
    "    El diametro de la Tierra es de 12742 kilometros."
   ]
  },
  {
   "cell_type": "code",
   "execution_count": 7,
   "metadata": {
    "colab": {},
    "colab_type": "code",
    "id": "Ym7GCB3O2oPx"
   },
   "outputs": [],
   "source": [
    "planeta = \"Tierra\"\n",
    "diametro = 12742"
   ]
  },
  {
   "cell_type": "code",
   "execution_count": 8,
   "metadata": {
    "colab": {},
    "colab_type": "code",
    "id": "obPc5frW6HZr"
   },
   "outputs": [],
   "source": [
    "# Copie su código aca\n"
   ]
  },
  {
   "cell_type": "code",
   "execution_count": 9,
   "metadata": {
    "colab": {},
    "colab_type": "code",
    "id": "XHmN9MI12oP0",
    "outputId": "2ef05a15-33b0-4096-d637-f95a5379dc00"
   },
   "outputs": [
    {
     "name": "stdout",
     "output_type": "stream",
     "text": [
      "El diametro de la Tierra es de 12742 kilometros.\n"
     ]
    }
   ],
   "source": []
  },
  {
   "cell_type": "markdown",
   "metadata": {
    "colab_type": "text",
    "id": "S2N_gH8S2oP3"
   },
   "source": [
    "**Dada la siguiente lista con muchos elementos, use la indexacion para extraer la palabra \"hello\"**"
   ]
  },
  {
   "cell_type": "code",
   "execution_count": 10,
   "metadata": {
    "colab": {},
    "colab_type": "code",
    "id": "jfWj5_OY2oP4"
   },
   "outputs": [],
   "source": [
    "lst = [1, 2, [3, 4], [5, [100, 200, [\"hello\"]], 23, 11], 1, 7]"
   ]
  },
  {
   "cell_type": "code",
   "execution_count": 11,
   "metadata": {
    "colab": {},
    "colab_type": "code",
    "id": "5JtntosubJxb"
   },
   "outputs": [],
   "source": [
    "# Copie su código aca\n"
   ]
  },
  {
   "cell_type": "code",
   "execution_count": 12,
   "metadata": {
    "colab": {},
    "colab_type": "code",
    "id": "B7NT6yE62oP8",
    "outputId": "ea7f1208-c399-400a-8e29-6dc741fe652a"
   },
   "outputs": [
    {
     "data": {
      "text/plain": [
       "'hello'"
      ]
     },
     "execution_count": 12,
     "metadata": {},
     "output_type": "execute_result"
    }
   ],
   "source": []
  },
  {
   "cell_type": "markdown",
   "metadata": {
    "colab_type": "text",
    "id": "vmO3QzVE2oQB"
   },
   "source": [
    "**Dado el siguiente diccionario extraiga la palabra \"hello\". Este puede ser un poco truculento**"
   ]
  },
  {
   "cell_type": "code",
   "execution_count": 13,
   "metadata": {
    "colab": {},
    "colab_type": "code",
    "id": "hDaZrl5a2oQC"
   },
   "outputs": [],
   "source": [
    "d = {\n",
    "    \"ID1\": [\n",
    "        1,\n",
    "        2,\n",
    "        3,\n",
    "        {\"truco\": [\"oh\", \"por\", \"Dios\", \"En serio\", {\"target\": [1, 2, 3, \"hello\"]}]},\n",
    "    ]\n",
    "}"
   ]
  },
  {
   "cell_type": "code",
   "execution_count": 14,
   "metadata": {
    "colab": {},
    "colab_type": "code",
    "id": "u_IGWwu7bKmw"
   },
   "outputs": [],
   "source": [
    "# Copie su código aca\n"
   ]
  },
  {
   "cell_type": "code",
   "execution_count": 15,
   "metadata": {
    "colab": {},
    "colab_type": "code",
    "id": "pY9Cg0rO2oQG",
    "outputId": "00fb74d8-74b9-4a4d-edef-e52face06e76"
   },
   "outputs": [
    {
     "data": {
      "text/plain": [
       "'hello'"
      ]
     },
     "execution_count": 15,
     "metadata": {},
     "output_type": "execute_result"
    }
   ],
   "source": []
  },
  {
   "cell_type": "markdown",
   "metadata": {
    "colab_type": "text",
    "id": "Ww0TSfVp2oQK"
   },
   "source": [
    "**Cual es la diferencia principal entre una tupla y una lista?**"
   ]
  },
  {
   "cell_type": "code",
   "execution_count": 16,
   "metadata": {
    "colab": {},
    "colab_type": "code",
    "id": "hfh9YrPu2oQM"
   },
   "outputs": [],
   "source": [
    "# La tupla es inmutable"
   ]
  },
  {
   "cell_type": "markdown",
   "metadata": {
    "colab_type": "text",
    "id": "SMKDLfxy2oQO"
   },
   "source": []
  },
  {
   "cell_type": "markdown",
   "metadata": {
    "colab_type": "text",
    "id": "adS1ByOx2oQP"
   },
   "source": [
    "**Agregar el nombre Jose al final de la siguiente lista**\n",
    "\n",
    "[\"Alvaro\", \"Jacinto\", \"Miguel\", \"Edgardo\", \"David\"]"
   ]
  },
  {
   "cell_type": "code",
   "execution_count": 17,
   "metadata": {},
   "outputs": [],
   "source": [
    "# Copie su código aca"
   ]
  },
  {
   "cell_type": "code",
   "execution_count": 18,
   "metadata": {
    "colab": {},
    "colab_type": "code",
    "id": "lNwpP9vv2oQP"
   },
   "outputs": [
    {
     "data": {
      "text/plain": [
       "['Alvaro', 'Jacinto', 'Miguel', 'Edgardo', 'David', 'Jose']"
      ]
     },
     "execution_count": 18,
     "metadata": {},
     "output_type": "execute_result"
    }
   ],
   "source": []
  },
  {
   "cell_type": "markdown",
   "metadata": {
    "colab_type": "text",
    "id": "nRtyETSF2oQX"
   },
   "source": [
    "**Cuente Cuantas veces esta el nombre Miguel de la siguiente lista**\n",
    "\n",
    "[\"Alvaro\", \"Miguel\", \"Edgardo\", \"David\", \"Miguel\"] "
   ]
  },
  {
   "cell_type": "code",
   "execution_count": 19,
   "metadata": {
    "colab": {},
    "colab_type": "code",
    "id": "81W-x6LH2oQZ"
   },
   "outputs": [],
   "source": [
    "# Copie su código aca\n",
    "\n"
   ]
  },
  {
   "cell_type": "code",
   "execution_count": 20,
   "metadata": {
    "colab": {},
    "colab_type": "code",
    "id": "QG8yczM22oQc",
    "outputId": "c7562bef-4abf-4360-f5b5-c8926578c17d"
   },
   "outputs": [
    {
     "data": {
      "text/plain": [
       "2"
      ]
     },
     "execution_count": 20,
     "metadata": {},
     "output_type": "execute_result"
    }
   ],
   "source": []
  },
  {
   "cell_type": "markdown",
   "metadata": {
    "colab_type": "text",
    "id": "hbjBiOGs2oQf"
   },
   "source": [
    "**Convierta la siguiente palabra en letras minusculas:**\n",
    "\n",
    "Soy FeliZ APREndienDo PYTHon pAra PROceSar DaTos"
   ]
  },
  {
   "cell_type": "code",
   "execution_count": null,
   "metadata": {
    "colab": {},
    "colab_type": "code",
    "id": "PSBAuuNl2oQi",
    "outputId": "fd14ee2e-46d1-45c3-f633-a5742ce0f3ef"
   },
   "outputs": [],
   "source": [
    "# Copie su código aca"
   ]
  },
  {
   "cell_type": "code",
   "execution_count": 21,
   "metadata": {
    "colab": {},
    "colab_type": "code",
    "id": "V4QoTky12oQg"
   },
   "outputs": [
    {
     "data": {
      "text/plain": [
       "'soy feliz aprendiendo python para procesar datos'"
      ]
     },
     "execution_count": 21,
     "metadata": {},
     "output_type": "execute_result"
    }
   ],
   "source": []
  },
  {
   "cell_type": "markdown",
   "metadata": {
    "colab_type": "text",
    "id": "cJVcOvOA2oQm"
   },
   "source": [
    "**los siguientes números cambie la coma por un punto**\n",
    "\n",
    "'17656734,87'"
   ]
  },
  {
   "cell_type": "code",
   "execution_count": null,
   "metadata": {},
   "outputs": [],
   "source": [
    "# Copie su código aca"
   ]
  },
  {
   "cell_type": "code",
   "execution_count": 22,
   "metadata": {
    "colab": {},
    "colab_type": "code",
    "id": "nHg9CvmD2oQn"
   },
   "outputs": [
    {
     "data": {
      "text/plain": [
       "'17656734.87'"
      ]
     },
     "execution_count": 22,
     "metadata": {},
     "output_type": "execute_result"
    }
   ],
   "source": []
  },
  {
   "cell_type": "markdown",
   "metadata": {
    "colab_type": "text",
    "id": "gFBTXT032oQs"
   },
   "source": [
    "**Cree una función llamada `domainGet` que capture el dominio del sitio web de correo electrónico a partir de una cadena con el siguiente formato:**\n",
    "\n",
    "    user@domain.com\n",
    "    \n",
    "**Por ejemplo, Con el siguiente argumento \"juan_perez@correo.com\" la función retornara: correo.com**"
   ]
  },
  {
   "cell_type": "code",
   "execution_count": 23,
   "metadata": {
    "colab": {},
    "colab_type": "code",
    "id": "mRMjLhh92oQt"
   },
   "outputs": [],
   "source": [
    "# Copie su código aca\n"
   ]
  },
  {
   "cell_type": "code",
   "execution_count": 24,
   "metadata": {
    "colab": {},
    "colab_type": "code",
    "id": "w-iXGCUM2oQw",
    "outputId": "24296ea5-ba98-4fcf-8260-5c4942001fb9"
   },
   "outputs": [
    {
     "data": {
      "text/plain": [
       "'correo.com'"
      ]
     },
     "execution_count": 24,
     "metadata": {},
     "output_type": "execute_result"
    }
   ],
   "source": [
    "domainGet(\"juan_perez@correo.com\")  # noqa"
   ]
  },
  {
   "cell_type": "markdown",
   "metadata": {
    "colab_type": "text",
    "id": "8opTy2Wp2oQz"
   },
   "source": [
    "**Cree una función básica llamada buscar `palabra_promedio` que devuelva True si la palabra 'promedio' o 'Promedio' o 'PROMEDIO' está contenida en string de entrada. No se preocupe por los casos extremos como una puntuación que se adjunta a la palabra promedio, pero tenga en cuenta las mayúsculas.**"
   ]
  },
  {
   "cell_type": "code",
   "execution_count": 25,
   "metadata": {
    "colab": {},
    "colab_type": "code",
    "id": "iVLFNjbx2oQ0"
   },
   "outputs": [],
   "source": [
    "# Copie su código aca"
   ]
  },
  {
   "cell_type": "code",
   "execution_count": 27,
   "metadata": {
    "colab": {},
    "colab_type": "code",
    "id": "u-VvSCrX2oQ2",
    "outputId": "1ba4cd5b-73c4-45e8-96a6-edb8776f2561"
   },
   "outputs": [
    {
     "data": {
      "text/plain": [
       "True"
      ]
     },
     "execution_count": 27,
     "metadata": {},
     "output_type": "execute_result"
    }
   ],
   "source": [
    "palabra_promedio(\"El Promedio de la clase es de 4.3\")  # noqa"
   ]
  },
  {
   "cell_type": "markdown",
   "metadata": {
    "colab_type": "text",
    "id": "O9o5r5jG2oQ7"
   },
   "source": [
    "**Crea una función llamada contar_python que cuente la cantidad de veces que aparece la palabra \"python\" en una cadena. Nuevamente ignore los casos extremos.**"
   ]
  },
  {
   "cell_type": "code",
   "execution_count": 28,
   "metadata": {},
   "outputs": [],
   "source": [
    "# Copie su código aca"
   ]
  },
  {
   "cell_type": "code",
   "execution_count": 30,
   "metadata": {
    "colab": {},
    "colab_type": "code",
    "id": "t_Tt71pM2oQ9",
    "outputId": "15538db4-f886-467d-942b-19dbf845dc22"
   },
   "outputs": [
    {
     "data": {
      "text/plain": [
       "2"
      ]
     },
     "execution_count": 30,
     "metadata": {},
     "output_type": "execute_result"
    }
   ],
   "source": [
    "contar_python(\"Python es un lenguaje de programacion, Python es divertido\")  # noqa"
   ]
  },
  {
   "cell_type": "markdown",
   "metadata": {
    "colab_type": "text",
    "id": "U6gt0Pxp2oRI"
   },
   "source": [
    "**Problema final**\n",
    "\n",
    "Un científico de datos está trabajando en un proyecto para desarrollar una función para detectar anomalías (outliers) extremas en un conjunto de datos de valores positivos. La función debe ser capaz de determinar si un dato es: normal, anormal o indeterminado en función de su valor y su desviación estándar.\n",
    "\n",
    "La función `deteccion_anomalias` tiene las siguientes reglas:\n",
    "1. Tiene que recibir como argumentos tres números y un boolean: \n",
    "   - El valor del dato (float)\n",
    "   - La media (float)\n",
    "   - La desviación estándar (float)\n",
    "   - Si el tipo de distribución es normal (bool).\n",
    "2. Si la distribuccion en normal y Si el valor del dato es mayor a la media mas 3 veces la desviación estándar, la función debe retornar \"anormal\".\n",
    "3. Si la distribuccion en normal y Si el valor del dato es menor a la media menos 3 veces la desviación estándar, la función debe retornar \"normal\".\n",
    "4. En los casos contrarios a los anteriores debe retornar \"indeterminado\".\n",
    "\n"
   ]
  },
  {
   "cell_type": "code",
   "execution_count": 31,
   "metadata": {},
   "outputs": [],
   "source": [
    "# Copie su código aca"
   ]
  },
  {
   "cell_type": "code",
   "execution_count": 33,
   "metadata": {
    "colab": {},
    "colab_type": "code",
    "id": "oDrImTvx6om6"
   },
   "outputs": [
    {
     "data": {
      "text/plain": [
       "'normal'"
      ]
     },
     "execution_count": 33,
     "metadata": {},
     "output_type": "execute_result"
    }
   ],
   "source": [
    "deteccion_anomalia(  # noqa\n",
    "    valor=15.6, valor_media=9.5, desviacion_estandar=8.7, distribucion_normal=True\n",
    ")"
   ]
  },
  {
   "cell_type": "code",
   "execution_count": 34,
   "metadata": {},
   "outputs": [
    {
     "data": {
      "text/plain": [
       "'anormal'"
      ]
     },
     "execution_count": 34,
     "metadata": {},
     "output_type": "execute_result"
    }
   ],
   "source": [
    "deteccion_anomalia(  # noqa\n",
    "    valor=45.4, valor_media=9.5, desviacion_estandar=8.7, distribucion_normal=True\n",
    ")"
   ]
  },
  {
   "cell_type": "code",
   "execution_count": 35,
   "metadata": {
    "colab": {},
    "colab_type": "code",
    "id": "9zV3oJSk6s7A"
   },
   "outputs": [
    {
     "data": {
      "text/plain": [
       "'indeterminado'"
      ]
     },
     "execution_count": 35,
     "metadata": {},
     "output_type": "execute_result"
    }
   ],
   "source": [
    "deteccion_anomalia(  # noqa\n",
    "    valor=15.6, valor_media=9.5, desviacion_estandar=8.7, distribucion_normal=False\n",
    ")"
   ]
  },
  {
   "cell_type": "markdown",
   "metadata": {},
   "source": [
    "## Referencia\n",
    "\n",
    "https://joserzapata.github.io/courses/python-ciencia-datos/python/"
   ]
  }
 ],
 "metadata": {
  "colab": {
   "collapsed_sections": [],
   "name": "1-Practica_Python.ipynb",
   "provenance": []
  },
  "kernelspec": {
   "display_name": "Python 3",
   "language": "python",
   "name": "python3"
  },
  "language_info": {
   "codemirror_mode": {
    "name": "ipython",
    "version": 3
   },
   "file_extension": ".py",
   "mimetype": "text/x-python",
   "name": "python",
   "nbconvert_exporter": "python",
   "pygments_lexer": "ipython3",
   "version": "3.10.13"
  },
  "toc": {
   "base_numbering": 1,
   "nav_menu": {},
   "number_sections": true,
   "sideBar": true,
   "skip_h1_title": false,
   "title_cell": "Table of Contents",
   "title_sidebar": "Contents",
   "toc_cell": false,
   "toc_position": {},
   "toc_section_display": true,
   "toc_window_display": false
  },
  "varInspector": {
   "cols": {
    "lenName": 16,
    "lenType": 16,
    "lenVar": 40
   },
   "kernels_config": {
    "python": {
     "delete_cmd_postfix": "",
     "delete_cmd_prefix": "del ",
     "library": "var_list.py",
     "varRefreshCmd": "print(var_dic_list())"
    },
    "r": {
     "delete_cmd_postfix": ") ",
     "delete_cmd_prefix": "rm(",
     "library": "var_list.r",
     "varRefreshCmd": "cat(var_dic_list()) "
    }
   },
   "types_to_exclude": [
    "module",
    "function",
    "builtin_function_or_method",
    "instance",
    "_Feature"
   ],
   "window_display": false
  }
 },
 "nbformat": 4,
 "nbformat_minor": 1
}
