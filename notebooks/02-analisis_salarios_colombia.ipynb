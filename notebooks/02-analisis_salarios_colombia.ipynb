{
  "cells": [
    {
      "cell_type": "markdown",
      "metadata": {
        "id": "AVfznQKR-I--"
      },
      "source": [
        "# Analisis Salarios Colombia\n",
        "\n",
        "por: Jose R. Zapata - https://joserzapata.github.io/\n",
        "\n",
        "Link: https://joserzapata.github.io/post/\n",
        "\n",
        "\n",
        "En base a los cambios que se han presentado en la reforma tributaria en Colombia en el 2022 y como se ven afectados los salarios de los trabajadores, se realiza un análisis de los salarios en Colombia para entender cuanto se le descuenta a un trabajador y cuanto seria el dinero que recibe en su bolsillo.\n",
        "\n",
        "\n",
        "## Descuentos en salarios en Colombia\n",
        "\n",
        "Para conocer cuanto se le descuenta a un trabajador en Colombia es necesario  tener en cuenta los decuentos por:\n",
        " - Salud (4%)\n",
        " - Pension (4%)\n",
        " - ARL (0.5% pero varia segun el riesgo)\n",
        " - Retencion en la fuente [Articulo 383 del estatuto tributario](https://estatuto.co/383)\n",
        "\n",
        "Los calculos son diferentes para asalariados que reciben el [salario integral](https://loggro.com/blog/articulo/como-calcular-el-salario-integral-loggro-nomina/)\n",
        "\n",
        "la tabla de retención en la fuente que esta en base a los valores de UVT (Unidad de Valor Tributario) y que se actualiza cada año. \n",
        "\n",
        "### Porcentaje de retencion en la fuente\n",
        "\n",
        "los rango estan representados en UVT (2023) = $42.412 pesos\n",
        "\n",
        " | Rangos en UVT  | Tarifa marginal | retención en la fuente |\n",
        "| -------------   | --------------- | ----------------------- |\n",
        "| 0 a 95          | 0%  |                                     |\n",
        "| \\>95 a 150      | 19% | (Ingreso laboral gravado expresado en UVT menos 95 UVT)\\*19%               |\n",
        "| \\>150 a 360     | 28% | (Ingreso laboral gravado expresado en UVT menos 150 UVT)\\*28% más 10 UVT |\n",
        "| \\>360 a  640    | 33% | (Ingreso laboral gravado expresado en UVT menos 360 UVT)\\*33% más 69 UVT   |\n",
        "| \\>640 a  945    | 35% | (Ingreso laboral gravado expresado en UVT menos 640 UVT)\\*35% más 162 UVT  |\n",
        "| \\>945 a  2300   | 37% | (Ingreso laboral gravado expresado en UVT menos 945 UVT)\\*37% más 268 UVT  |\n",
        "| \\>2300 En adelante |  39%| (Ingreso laboral gravado expresado en UVT menos 2300 UVT)\\*39% más 770 UVT |\n",
        "\n",
        "Nota: Sera unicamente para salarios y no tendra en cuenta ingresos extra. Ademas el analisis se va realizar para un rago salarial de 1'160.000 pesos (salario minimo) a 50'894.400 pesos (1200 UVT)\n",
        "\n",
        "\n"
      ]
    },
    {
      "cell_type": "markdown",
      "metadata": {
        "id": "l8tbwHgTf71J"
      },
      "source": [
        "[![Open In Colab](https://colab.research.google.com/assets/colab-badge.svg)](https://colab.research.google.com/github/JoseRZapata/covid_plots/blob/main/notebooks/Covid19_Visualizacion_es.ipynb) [![Binder](https://mybinder.org/badge_logo.svg)](https://mybinder.org/v2/gh/JoseRZapata/covid_plots/HEAD?labpath=notebooks%2FCovid19_Visualizacion_es.ipynb)  [![nbviewer](https://img.shields.io/badge/render-nbviewer-orange.svg)](https://nbviewer.jupyter.org/github/JoseRZapata/covid_plots/blob/main/notebooks/Covid19_Visualizacion_es.ipynb)"
      ]
    },
    {
      "cell_type": "code",
      "execution_count": 1,
      "metadata": {
        "id": "Fx_yb96YHeOb"
      },
      "outputs": [],
      "source": [
        "import pandas as pd\n",
        "import numpy as np\n",
        "import seaborn as sns\n",
        "\n",
        "#import chart_studio\n",
        "\n",
        "import plotly.express as px"
      ]
    },
    {
      "cell_type": "code",
      "execution_count": 2,
      "metadata": {},
      "outputs": [
        {
          "name": "stdout",
          "output_type": "stream",
          "text": [
            "pandas version:  2.1.3\n",
            "numpy version:  1.26.2\n"
          ]
        }
      ],
      "source": [
        "#print pandas, px an numpy version\n",
        "print('pandas version: ', pd.__version__)\n",
        "print('numpy version: ', np.__version__)"
      ]
    },
    {
      "cell_type": "code",
      "execution_count": 3,
      "metadata": {
        "id": "Ihyj4DOWzcdo",
        "tags": []
      },
      "outputs": [],
      "source": [
        "# Leer archivo con los datos de acceso a chart_studio\n",
        "# si no esta, dejar los campos vacios\n",
        "#try:\n",
        "#    with open(\"../../info_chart.csv\",\"r\") as f:\n",
        "#        info_user = f.read().split(\";\")\n",
        "#        username = info_user[0] # your username\n",
        "#        api_key = info_user[1] # your api key\n",
        "#        print('api_key loaded!')\n",
        "#except:\n",
        "#    username = '' # your username\n",
        "#    api_key =''\n",
        "#\n",
        "#if api_key: chart_studio.tools.set_credentials_file(username=username, api_key=api_key)\n"
      ]
    },
    {
      "cell_type": "markdown",
      "metadata": {
        "id": "P7oX7axkfJyq"
      },
      "source": [
        "# Codigo Fuente Jupyter notebook\n",
        "[![Open In Colab](https://colab.research.google.com/assets/colab-badge.svg)](https://colab.research.google.com/github/JoseRZapata/covid_plots/blob/main/notebooks/Covid19_Visualizacion_es.ipynb) [![Binder](https://mybinder.org/badge_logo.svg)](https://mybinder.org/v2/gh/JoseRZapata/covid_plots/HEAD?labpath=notebooks%2FCovid19_Visualizacion_es.ipynb)  [![nbviewer](https://img.shields.io/badge/render-nbviewer-orange.svg)](https://nbviewer.jupyter.org/github/JoseRZapata/covid_plots/blob/main/notebooks/Covid19_Visualizacion_es.ipynb)"
      ]
    },
    {
      "cell_type": "code",
      "execution_count": 4,
      "metadata": {},
      "outputs": [
        {
          "name": "stdout",
          "output_type": "stream",
          "text": [
            "salario integral: 15080000.0\n"
          ]
        }
      ],
      "source": [
        "# constantes globales\n",
        "uvt = 42_412\n",
        "salario_minimo = 1_160_000\n",
        "subsido_transporte = 140_606\n",
        "# salario integral = 10 salarios minimos + 30% prestaciones\n",
        "salario_integral = salario_minimo*(10)*(1 + 0.3)\n",
        "print(f'salario integral: {salario_integral}')"
      ]
    },
    {
      "cell_type": "code",
      "execution_count": 5,
      "metadata": {},
      "outputs": [
        {
          "data": {
            "text/plain": [
              "5111511.78"
            ]
          },
          "execution_count": 5,
          "metadata": {},
          "output_type": "execute_result"
        }
      ],
      "source": [
        "sala = 21_383_586 + 361_200 + 145_000\n",
        "rete_final = (((sala/uvt - 360)*0.33 + 69))*uvt\n",
        "rete_final"
      ]
    },
    {
      "cell_type": "markdown",
      "metadata": {},
      "source": [
        "En base a la tabla de rangos de retencion en la fuente presentado anteriormente,\n",
        "voy a generar los rangos de ingresos mensuales.\n",
        "\n",
        "Lo valores empezaran desde el salario minimo legal vigente en Colombia para el 2023 que es de 1'160.000 pesos colombianos.\n",
        "Equivalente a 27.351 UVT (Unidad de Valor Tributario) para el 2023."
      ]
    },
    {
      "cell_type": "code",
      "execution_count": 6,
      "metadata": {},
      "outputs": [],
      "source": [
        "#rangos en uvt\n",
        "rango = np.arange(28, 1201)\n",
        "\n",
        "#convertir rango a tipo float\n",
        "rango = rango.astype(float)\n",
        "\n",
        "#agregar el valor e de 27.35 como primer elemento\n",
        "rango = np.insert(rango, 0, salario_minimo/uvt)"
      ]
    },
    {
      "cell_type": "code",
      "execution_count": 7,
      "metadata": {},
      "outputs": [],
      "source": [
        "salario_col = pd.DataFrame(rango, columns=['n_uvt'])\n",
        "salario_col['salario_pesos'] = ((salario_col['n_uvt'] * uvt)\n",
        "                                .astype(int))"
      ]
    },
    {
      "cell_type": "code",
      "execution_count": 8,
      "metadata": {},
      "outputs": [],
      "source": [
        "# funcion para calcular el pago de salud y pension\n",
        "def pago_salud_pension(salario_pesos: int,\n",
        "                       salario_integral: int = salario_integral\n",
        "                       )-> int:\n",
        "    \"\"\" \n",
        "    Calcula el pago de salud y pension para un salario dado en pesos,\n",
        "    es igual al 4% del salario si es menor al salario integral,\n",
        "    si es mayor al salario integral es igual al 4% del 70% del salario\n",
        "    \n",
        "    Args:\n",
        "        salario_pesos (int): salario en pesos\n",
        "        salario_integral (int): salario integral en pesos\n",
        "    Returns:\n",
        "        int: pago de salud y pension       \n",
        "    \n",
        "    \"\"\"\n",
        "    \n",
        "    if salario_pesos < salario_integral:\n",
        "        if salario_pesos < salario_minimo:\n",
        "            aportes_salud_pension = salario_minimo * 0.04\n",
        "        else:\n",
        "            aportes_salud_pension =  salario_pesos * 0.04\n",
        "        \n",
        "    else:\n",
        "        aportes_salud_pension = salario_pesos *.7 * 0.04\n",
        "         \n",
        "    return aportes_salud_pension"
      ]
    },
    {
      "cell_type": "code",
      "execution_count": 9,
      "metadata": {},
      "outputs": [],
      "source": [
        "salario_col['pago_salud'] = (salario_col['salario_pesos']\n",
        "                                   .apply(pago_salud_pension,\n",
        "                                          salario_integral=salario_integral))\n",
        "salario_col['pago_pension'] = salario_col['pago_salud']"
      ]
    },
    {
      "cell_type": "code",
      "execution_count": 18,
      "metadata": {},
      "outputs": [],
      "source": [
        "# Auxilio de transporte igual a 140606 si salario es menor a 2 salarios minimos,\n",
        "# de lo contrario es 0\n",
        "\n",
        "salario_col['aux_transporte'] = np.where(salario_col['salario_pesos'] <= 2*salario_minimo,\n",
        "                                            subsido_transporte, 0)\n",
        "\n"
      ]
    },
    {
      "cell_type": "code",
      "execution_count": 10,
      "metadata": {},
      "outputs": [],
      "source": [
        "# funcion para calcular la retencion en la fuente\n",
        "\n",
        "def retencion_fuente(n_uvt:float,\n",
        "                     uvt:int )->float:\n",
        "    \"\"\"\n",
        "    Calcula la retencion en la fuente para un salario en uvt\n",
        "    \n",
        "    Args:\n",
        "        n_uvt (float): salario en uvt\n",
        "        uvt (int): valor de un uvt\n",
        "    \n",
        "    Returns:\n",
        "        float: valor de la retencion en la fuente en pesos       \n",
        "    \"\"\"\n",
        "    # la tupla se compone de:\n",
        "    # limite inferior, limite superior, porcentaje, uvt que se suman\n",
        "    rangos = [(0,   95,  0, 0),\n",
        "              (96,  150, 0.19, 0),\n",
        "              (151, 360, 0.28, 10),\n",
        "              (361, 640, 0.33, 69),\n",
        "              (641, 945, 0.35, 162),\n",
        "              (946, 2300, 0.37, 268)]\n",
        "    retencion = 0\n",
        "    for limite_inf, limite_sup, porcentaje, base in rangos:\n",
        "        if (limite_inf <= n_uvt <= limite_sup):\n",
        "            retencion = (n_uvt - (limite_inf-1)) * porcentaje + base\n",
        "            break\n",
        "    else:\n",
        "        retencion = (n_uvt - 2300) * 0.37 + 268\n",
        "    return retencion * uvt        "
      ]
    },
    {
      "cell_type": "code",
      "execution_count": 11,
      "metadata": {},
      "outputs": [],
      "source": [
        "salario_col['retencion_fuente'] = (salario_col['n_uvt']\n",
        "                                   .apply(retencion_fuente,\n",
        "                                          uvt=uvt))"
      ]
    },
    {
      "cell_type": "code",
      "execution_count": 19,
      "metadata": {},
      "outputs": [
        {
          "data": {
            "text/html": [
              "<div>\n",
              "<style scoped>\n",
              "    .dataframe tbody tr th:only-of-type {\n",
              "        vertical-align: middle;\n",
              "    }\n",
              "\n",
              "    .dataframe tbody tr th {\n",
              "        vertical-align: top;\n",
              "    }\n",
              "\n",
              "    .dataframe thead th {\n",
              "        text-align: right;\n",
              "    }\n",
              "</style>\n",
              "<table border=\"1\" class=\"dataframe\">\n",
              "  <thead>\n",
              "    <tr style=\"text-align: right;\">\n",
              "      <th></th>\n",
              "      <th>n_uvt</th>\n",
              "      <th>salario_pesos</th>\n",
              "      <th>pago_salud</th>\n",
              "      <th>pago_pension</th>\n",
              "      <th>retencion_fuente</th>\n",
              "      <th>salario_neto</th>\n",
              "      <th>aux_transporte</th>\n",
              "    </tr>\n",
              "  </thead>\n",
              "  <tbody>\n",
              "    <tr>\n",
              "      <th>977</th>\n",
              "      <td>1004.0</td>\n",
              "      <td>42581648</td>\n",
              "      <td>1192286.144</td>\n",
              "      <td>1192286.144</td>\n",
              "      <td>12292269.96</td>\n",
              "      <td>2.790481e+07</td>\n",
              "      <td>0</td>\n",
              "    </tr>\n",
              "    <tr>\n",
              "      <th>989</th>\n",
              "      <td>1016.0</td>\n",
              "      <td>43090592</td>\n",
              "      <td>1206536.576</td>\n",
              "      <td>1206536.576</td>\n",
              "      <td>12480579.24</td>\n",
              "      <td>2.819694e+07</td>\n",
              "      <td>0</td>\n",
              "    </tr>\n",
              "    <tr>\n",
              "      <th>22</th>\n",
              "      <td>49.0</td>\n",
              "      <td>2078188</td>\n",
              "      <td>83127.520</td>\n",
              "      <td>83127.520</td>\n",
              "      <td>0.00</td>\n",
              "      <td>1.911933e+06</td>\n",
              "      <td>140606</td>\n",
              "    </tr>\n",
              "    <tr>\n",
              "      <th>575</th>\n",
              "      <td>602.0</td>\n",
              "      <td>25532024</td>\n",
              "      <td>714896.672</td>\n",
              "      <td>714896.672</td>\n",
              "      <td>6313450.32</td>\n",
              "      <td>1.778878e+07</td>\n",
              "      <td>0</td>\n",
              "    </tr>\n",
              "    <tr>\n",
              "      <th>129</th>\n",
              "      <td>156.0</td>\n",
              "      <td>6616272</td>\n",
              "      <td>264650.880</td>\n",
              "      <td>264650.880</td>\n",
              "      <td>495372.16</td>\n",
              "      <td>5.591598e+06</td>\n",
              "      <td>0</td>\n",
              "    </tr>\n",
              "    <tr>\n",
              "      <th>16</th>\n",
              "      <td>43.0</td>\n",
              "      <td>1823716</td>\n",
              "      <td>72948.640</td>\n",
              "      <td>72948.640</td>\n",
              "      <td>0.00</td>\n",
              "      <td>1.677819e+06</td>\n",
              "      <td>140606</td>\n",
              "    </tr>\n",
              "    <tr>\n",
              "      <th>604</th>\n",
              "      <td>631.0</td>\n",
              "      <td>26761972</td>\n",
              "      <td>749335.216</td>\n",
              "      <td>749335.216</td>\n",
              "      <td>6719333.16</td>\n",
              "      <td>1.854397e+07</td>\n",
              "      <td>0</td>\n",
              "    </tr>\n",
              "    <tr>\n",
              "      <th>595</th>\n",
              "      <td>622.0</td>\n",
              "      <td>26380264</td>\n",
              "      <td>738647.392</td>\n",
              "      <td>738647.392</td>\n",
              "      <td>6593369.52</td>\n",
              "      <td>1.830960e+07</td>\n",
              "      <td>0</td>\n",
              "    </tr>\n",
              "    <tr>\n",
              "      <th>1084</th>\n",
              "      <td>1111.0</td>\n",
              "      <td>47119732</td>\n",
              "      <td>1319352.496</td>\n",
              "      <td>1319352.496</td>\n",
              "      <td>13971361.04</td>\n",
              "      <td>3.050967e+07</td>\n",
              "      <td>0</td>\n",
              "    </tr>\n",
              "    <tr>\n",
              "      <th>952</th>\n",
              "      <td>979.0</td>\n",
              "      <td>41521348</td>\n",
              "      <td>1162597.744</td>\n",
              "      <td>1162597.744</td>\n",
              "      <td>11899958.96</td>\n",
              "      <td>2.729619e+07</td>\n",
              "      <td>0</td>\n",
              "    </tr>\n",
              "  </tbody>\n",
              "</table>\n",
              "</div>"
            ],
            "text/plain": [
              "       n_uvt  salario_pesos   pago_salud  pago_pension  retencion_fuente  \\\n",
              "977   1004.0       42581648  1192286.144   1192286.144       12292269.96   \n",
              "989   1016.0       43090592  1206536.576   1206536.576       12480579.24   \n",
              "22      49.0        2078188    83127.520     83127.520              0.00   \n",
              "575    602.0       25532024   714896.672    714896.672        6313450.32   \n",
              "129    156.0        6616272   264650.880    264650.880         495372.16   \n",
              "16      43.0        1823716    72948.640     72948.640              0.00   \n",
              "604    631.0       26761972   749335.216    749335.216        6719333.16   \n",
              "595    622.0       26380264   738647.392    738647.392        6593369.52   \n",
              "1084  1111.0       47119732  1319352.496   1319352.496       13971361.04   \n",
              "952    979.0       41521348  1162597.744   1162597.744       11899958.96   \n",
              "\n",
              "      salario_neto  aux_transporte  \n",
              "977   2.790481e+07               0  \n",
              "989   2.819694e+07               0  \n",
              "22    1.911933e+06          140606  \n",
              "575   1.778878e+07               0  \n",
              "129   5.591598e+06               0  \n",
              "16    1.677819e+06          140606  \n",
              "604   1.854397e+07               0  \n",
              "595   1.830960e+07               0  \n",
              "1084  3.050967e+07               0  \n",
              "952   2.729619e+07               0  "
            ]
          },
          "execution_count": 19,
          "metadata": {},
          "output_type": "execute_result"
        }
      ],
      "source": [
        "#corregir esta malo\n",
        "salario_col.sample(10)"
      ]
    },
    {
      "cell_type": "code",
      "execution_count": 13,
      "metadata": {},
      "outputs": [],
      "source": [
        "# Dinero entregado al empleado\n",
        "salario_col['salario_neto'] = (salario_col['salario_pesos']\n",
        "                               + salario_col['aux_transporte'] \n",
        "                               - salario_col['pago_salud']\n",
        "                               - salario_col['pago_pension']\n",
        "                               - salario_col['retencion_fuente']\n",
        "                               )"
      ]
    },
    {
      "cell_type": "markdown",
      "metadata": {},
      "source": [
        "grafica salario en pesos, salario recibido mensual"
      ]
    },
    {
      "cell_type": "code",
      "execution_count": 21,
      "metadata": {},
      "outputs": [
        {
          "data": {
            "image/png": "[encoded data removed]",
            "text/plain": [
              "<Figure size 1500x800 with 1 Axes>"
            ]
          },
          "metadata": {},
          "output_type": "display_data"
        }
      ],
      "source": [
        "# salario integral en uvt\n",
        "salario_inte_uvt = salario_integral/uvt\n",
        "\n",
        "sns.set(rc={'figure.figsize':(15, 8)})\n",
        "# plot 'salario_pesos' y 'salario_neto' vs 'n_uvt' con seaborn\n",
        "sns.lineplot(x='n_uvt', y='salario_pesos', data=salario_col)\n",
        "sns.lineplot(x='n_uvt', y='salario_neto', data=salario_col)\n",
        "# add vertical line in n_uvt = 10\n",
        "(sns.lineplot(x=[int(salario_inte_uvt),int(salario_inte_uvt)]\n",
        "             , y=[0, 50_000_000], color='red', linestyle='--')\n",
        "    .set_title('Salario en pesos, salario neto en pesos mensual'));\n",
        "\n",
        "\n"
      ]
    },
    {
      "cell_type": "markdown",
      "metadata": {},
      "source": [
        "grafica salario en pesos, salario recibido Anual"
      ]
    },
    {
      "cell_type": "code",
      "execution_count": 31,
      "metadata": {},
      "outputs": [],
      "source": [
        "salario_col['prima'] = (salario_col['salario_pesos'] \n",
        "                        + salario_col['aux_transporte'])/2\n",
        "salario_col['salario_con_prima'] = (salario_col['salario_pesos']\n",
        "                                    + salario_col['prima'])\n",
        "\n",
        "# retencion de salario mensual con prima\n",
        "salario_col['retencion_fuente_prima'] = (salario_col['salario_con_prima']\n",
        "                                            .apply(retencion_fuente,\n",
        "                                            uvt=uvt))\n",
        "\n",
        "# si salario pesos es mayor de salario_integral prima es 0\n",
        "salario_col['prima'] = np.where(salario_col['salario_pesos'] >= salario_integral,\n",
        "                                0, salario_col['prima'])\n",
        "\n",
        "salario_col['cesantias'] = salario_col['prima']*2"
      ]
    },
    {
      "cell_type": "code",
      "execution_count": 32,
      "metadata": {},
      "outputs": [],
      "source": [
        "salario_col['salario_anual'] = (salario_col['salario_pesos'] * 12 \n",
        "                                + salario_col['prima']*2 \n",
        "                                + salario_col['cesantias'])\n",
        "\n",
        "#falta hacer el salario_anual_neto tener en cuenta\n",
        "# la retencion en la fuente de los meses que se recibe la prima\n",
        "salario_col['salario_anual_neto'] = ((salario_col['salario_pesos']\n",
        "                                     - salario_col['retencion_fuente'])*10"
      ]
    },
    {
      "cell_type": "code",
      "execution_count": 33,
      "metadata": {},
      "outputs": [
        {
          "data": {
            "text/html": [
              "<div>\n",
              "<style scoped>\n",
              "    .dataframe tbody tr th:only-of-type {\n",
              "        vertical-align: middle;\n",
              "    }\n",
              "\n",
              "    .dataframe tbody tr th {\n",
              "        vertical-align: top;\n",
              "    }\n",
              "\n",
              "    .dataframe thead th {\n",
              "        text-align: right;\n",
              "    }\n",
              "</style>\n",
              "<table border=\"1\" class=\"dataframe\">\n",
              "  <thead>\n",
              "    <tr style=\"text-align: right;\">\n",
              "      <th></th>\n",
              "      <th>n_uvt</th>\n",
              "      <th>salario_pesos</th>\n",
              "      <th>pago_salud</th>\n",
              "      <th>pago_pension</th>\n",
              "      <th>retencion_fuente</th>\n",
              "      <th>salario_neto</th>\n",
              "      <th>aux_transporte</th>\n",
              "      <th>salario_con_prima</th>\n",
              "      <th>retencion_fuente_prima</th>\n",
              "      <th>prima</th>\n",
              "      <th>cesantias</th>\n",
              "      <th>salario_anual</th>\n",
              "    </tr>\n",
              "  </thead>\n",
              "  <tbody>\n",
              "    <tr>\n",
              "      <th>123</th>\n",
              "      <td>150.0</td>\n",
              "      <td>6361800</td>\n",
              "      <td>254472.000</td>\n",
              "      <td>254472.000</td>\n",
              "      <td>443205.40</td>\n",
              "      <td>5.409651e+06</td>\n",
              "      <td>0</td>\n",
              "      <td>9542700.0</td>\n",
              "      <td>1.497235e+11</td>\n",
              "      <td>3180900.0</td>\n",
              "      <td>6361800.0</td>\n",
              "      <td>89065200.0</td>\n",
              "    </tr>\n",
              "    <tr>\n",
              "      <th>230</th>\n",
              "      <td>257.0</td>\n",
              "      <td>10899884</td>\n",
              "      <td>435995.360</td>\n",
              "      <td>435995.360</td>\n",
              "      <td>1694783.52</td>\n",
              "      <td>8.333110e+06</td>\n",
              "      <td>0</td>\n",
              "      <td>16349826.0</td>\n",
              "      <td>2.565439e+11</td>\n",
              "      <td>5449942.0</td>\n",
              "      <td>10899884.0</td>\n",
              "      <td>152598376.0</td>\n",
              "    </tr>\n",
              "    <tr>\n",
              "      <th>863</th>\n",
              "      <td>890.0</td>\n",
              "      <td>37746680</td>\n",
              "      <td>1056907.040</td>\n",
              "      <td>1056907.040</td>\n",
              "      <td>10581794.00</td>\n",
              "      <td>2.505107e+07</td>\n",
              "      <td>0</td>\n",
              "      <td>56620020.0</td>\n",
              "      <td>8.884815e+11</td>\n",
              "      <td>0.0</td>\n",
              "      <td>0.0</td>\n",
              "      <td>452960160.0</td>\n",
              "    </tr>\n",
              "    <tr>\n",
              "      <th>294</th>\n",
              "      <td>321.0</td>\n",
              "      <td>13614252</td>\n",
              "      <td>544570.080</td>\n",
              "      <td>544570.080</td>\n",
              "      <td>2454806.56</td>\n",
              "      <td>1.007031e+07</td>\n",
              "      <td>0</td>\n",
              "      <td>20421378.0</td>\n",
              "      <td>3.204365e+11</td>\n",
              "      <td>6807126.0</td>\n",
              "      <td>13614252.0</td>\n",
              "      <td>190599528.0</td>\n",
              "    </tr>\n",
              "    <tr>\n",
              "      <th>124</th>\n",
              "      <td>151.0</td>\n",
              "      <td>6404212</td>\n",
              "      <td>256168.480</td>\n",
              "      <td>256168.480</td>\n",
              "      <td>435995.36</td>\n",
              "      <td>5.455880e+06</td>\n",
              "      <td>0</td>\n",
              "      <td>9606318.0</td>\n",
              "      <td>1.507218e+11</td>\n",
              "      <td>3202106.0</td>\n",
              "      <td>6404212.0</td>\n",
              "      <td>89658968.0</td>\n",
              "    </tr>\n",
              "    <tr>\n",
              "      <th>914</th>\n",
              "      <td>941.0</td>\n",
              "      <td>39909692</td>\n",
              "      <td>1117471.376</td>\n",
              "      <td>1117471.376</td>\n",
              "      <td>11338848.20</td>\n",
              "      <td>2.633590e+07</td>\n",
              "      <td>0</td>\n",
              "      <td>59864538.0</td>\n",
              "      <td>9.393959e+11</td>\n",
              "      <td>0.0</td>\n",
              "      <td>0.0</td>\n",
              "      <td>478916304.0</td>\n",
              "    </tr>\n",
              "    <tr>\n",
              "      <th>1151</th>\n",
              "      <td>1178.0</td>\n",
              "      <td>49961336</td>\n",
              "      <td>1398917.408</td>\n",
              "      <td>1398917.408</td>\n",
              "      <td>15022754.52</td>\n",
              "      <td>3.214075e+07</td>\n",
              "      <td>0</td>\n",
              "      <td>74942004.0</td>\n",
              "      <td>1.175998e+12</td>\n",
              "      <td>0.0</td>\n",
              "      <td>0.0</td>\n",
              "      <td>599536032.0</td>\n",
              "    </tr>\n",
              "    <tr>\n",
              "      <th>60</th>\n",
              "      <td>87.0</td>\n",
              "      <td>3689844</td>\n",
              "      <td>147593.760</td>\n",
              "      <td>147593.760</td>\n",
              "      <td>0.00</td>\n",
              "      <td>3.394656e+06</td>\n",
              "      <td>0</td>\n",
              "      <td>5534766.0</td>\n",
              "      <td>8.682926e+10</td>\n",
              "      <td>1844922.0</td>\n",
              "      <td>3689844.0</td>\n",
              "      <td>51657816.0</td>\n",
              "    </tr>\n",
              "    <tr>\n",
              "      <th>139</th>\n",
              "      <td>166.0</td>\n",
              "      <td>7040392</td>\n",
              "      <td>281615.680</td>\n",
              "      <td>281615.680</td>\n",
              "      <td>614125.76</td>\n",
              "      <td>5.863035e+06</td>\n",
              "      <td>0</td>\n",
              "      <td>10560588.0</td>\n",
              "      <td>1.656967e+11</td>\n",
              "      <td>3520196.0</td>\n",
              "      <td>7040392.0</td>\n",
              "      <td>98565488.0</td>\n",
              "    </tr>\n",
              "    <tr>\n",
              "      <th>602</th>\n",
              "      <td>629.0</td>\n",
              "      <td>26677148</td>\n",
              "      <td>746960.144</td>\n",
              "      <td>746960.144</td>\n",
              "      <td>6691341.24</td>\n",
              "      <td>1.849189e+07</td>\n",
              "      <td>0</td>\n",
              "      <td>40015722.0</td>\n",
              "      <td>6.279196e+11</td>\n",
              "      <td>0.0</td>\n",
              "      <td>0.0</td>\n",
              "      <td>320125776.0</td>\n",
              "    </tr>\n",
              "  </tbody>\n",
              "</table>\n",
              "</div>"
            ],
            "text/plain": [
              "       n_uvt  salario_pesos   pago_salud  pago_pension  retencion_fuente  \\\n",
              "123    150.0        6361800   254472.000    254472.000         443205.40   \n",
              "230    257.0       10899884   435995.360    435995.360        1694783.52   \n",
              "863    890.0       37746680  1056907.040   1056907.040       10581794.00   \n",
              "294    321.0       13614252   544570.080    544570.080        2454806.56   \n",
              "124    151.0        6404212   256168.480    256168.480         435995.36   \n",
              "914    941.0       39909692  1117471.376   1117471.376       11338848.20   \n",
              "1151  1178.0       49961336  1398917.408   1398917.408       15022754.52   \n",
              "60      87.0        3689844   147593.760    147593.760              0.00   \n",
              "139    166.0        7040392   281615.680    281615.680         614125.76   \n",
              "602    629.0       26677148   746960.144    746960.144        6691341.24   \n",
              "\n",
              "      salario_neto  aux_transporte  salario_con_prima  retencion_fuente_prima  \\\n",
              "123   5.409651e+06               0          9542700.0            1.497235e+11   \n",
              "230   8.333110e+06               0         16349826.0            2.565439e+11   \n",
              "863   2.505107e+07               0         56620020.0            8.884815e+11   \n",
              "294   1.007031e+07               0         20421378.0            3.204365e+11   \n",
              "124   5.455880e+06               0          9606318.0            1.507218e+11   \n",
              "914   2.633590e+07               0         59864538.0            9.393959e+11   \n",
              "1151  3.214075e+07               0         74942004.0            1.175998e+12   \n",
              "60    3.394656e+06               0          5534766.0            8.682926e+10   \n",
              "139   5.863035e+06               0         10560588.0            1.656967e+11   \n",
              "602   1.849189e+07               0         40015722.0            6.279196e+11   \n",
              "\n",
              "          prima   cesantias  salario_anual  \n",
              "123   3180900.0   6361800.0     89065200.0  \n",
              "230   5449942.0  10899884.0    152598376.0  \n",
              "863         0.0         0.0    452960160.0  \n",
              "294   6807126.0  13614252.0    190599528.0  \n",
              "124   3202106.0   6404212.0     89658968.0  \n",
              "914         0.0         0.0    478916304.0  \n",
              "1151        0.0         0.0    599536032.0  \n",
              "60    1844922.0   3689844.0     51657816.0  \n",
              "139   3520196.0   7040392.0     98565488.0  \n",
              "602         0.0         0.0    320125776.0  "
            ]
          },
          "execution_count": 33,
          "metadata": {},
          "output_type": "execute_result"
        }
      ],
      "source": [
        "salario_col.sample(10)"
      ]
    },
    {
      "cell_type": "markdown",
      "metadata": {
        "id": "E6mkrGmdxXI4"
      },
      "source": [
        "# Refencias\n",
        "\n",
        "- https://blog.alegra.com/retencion-en-la-fuente/\n",
        "- https://www.consultorcontable.com/retenci%C3%B3n-salarios/\n",
        "- https://loggro.com/blog/articulo/conozca-como-quedo-el-salario-minimo-y-salario-integral-en-2023/\n",
        "- https://loggro.com/blog/articulo/como-calcular-el-salario-integral-loggro-nomina/\n",
        "- \n",
        "\n"
      ]
    }
  ],
  "metadata": {
    "colab": {
      "name": "Covid19_Visualizacion_v3.ipynb",
      "provenance": []
    },
    "kernelspec": {
      "display_name": "Python 3.8.3 ('base')",
      "language": "python",
      "name": "python3"
    },
    "language_info": {
      "codemirror_mode": {
        "name": "ipython",
        "version": 3
      },
      "file_extension": ".py",
      "mimetype": "text/x-python",
      "name": "python",
      "nbconvert_exporter": "python",
      "pygments_lexer": "ipython3",
      "version": "3.10.13"
    },
    "toc": {
      "base_numbering": 1,
      "nav_menu": {},
      "number_sections": true,
      "sideBar": true,
      "skip_h1_title": false,
      "title_cell": "Table of Contents",
      "title_sidebar": "Contents",
      "toc_cell": false,
      "toc_position": {},
      "toc_section_display": true,
      "toc_window_display": false
    },
    "varInspector": {
      "cols": {
        "lenName": 16,
        "lenType": 16,
        "lenVar": 40
      },
      "kernels_config": {
        "python": {
          "delete_cmd_postfix": "",
          "delete_cmd_prefix": "del ",
          "library": "var_list.py",
          "varRefreshCmd": "print(var_dic_list())"
        },
        "r": {
          "delete_cmd_postfix": ") ",
          "delete_cmd_prefix": "rm(",
          "library": "var_list.r",
          "varRefreshCmd": "cat(var_dic_list()) "
        }
      },
      "types_to_exclude": [
        "module",
        "function",
        "builtin_function_or_method",
        "instance",
        "_Feature"
      ],
      "window_display": false
    },
    "vscode": {
      "interpreter": {
        "hash": "447c0f0993c7e50bc10ddc9bd7e362220c6ef046a7e5a6eb2fbe70cad79928d7"
      }
    }
  },
  "nbformat": 4,
  "nbformat_minor": 0
}
